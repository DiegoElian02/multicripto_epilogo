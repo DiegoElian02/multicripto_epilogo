{
 "cells": [
  {
   "cell_type": "code",
   "execution_count": 63,
   "id": "000ecb22-f225-46b8-9044-64dd09c31410",
   "metadata": {
    "tags": []
   },
   "outputs": [],
   "source": [
    "import pandas as pd\n",
    "import plotly.express as px\n",
    "import numpy as np\n",
    "from sklearn.cluster import KMeans\n",
    "from kneed import KneeLocator\n",
    "from datetime import datetime\n",
    "pd.set_option('display.max_columns', None)\n",
    "pd.set_option('display.max_rows', None)\n",
    "pd.set_option('display.float_format', '{:.2f}'.format)"
   ]
  },
  {
   "cell_type": "markdown",
   "id": "335a712b-00a6-4196-b611-4f69785185f5",
   "metadata": {},
   "source": [
    "# reading csv"
   ]
  },
  {
   "cell_type": "code",
   "execution_count": 65,
   "id": "335d3a0b-82d0-4c9a-b81c-550318764665",
   "metadata": {
    "tags": []
   },
   "outputs": [
    {
     "data": {
      "text/html": [
       "<div>\n",
       "<style scoped>\n",
       "    .dataframe tbody tr th:only-of-type {\n",
       "        vertical-align: middle;\n",
       "    }\n",
       "\n",
       "    .dataframe tbody tr th {\n",
       "        vertical-align: top;\n",
       "    }\n",
       "\n",
       "    .dataframe thead th {\n",
       "        text-align: right;\n",
       "    }\n",
       "</style>\n",
       "<table border=\"1\" class=\"dataframe\">\n",
       "  <thead>\n",
       "    <tr style=\"text-align: right;\">\n",
       "      <th></th>\n",
       "      <th>customer_id</th>\n",
       "      <th>type</th>\n",
       "    </tr>\n",
       "  </thead>\n",
       "  <tbody>\n",
       "    <tr>\n",
       "      <th>0</th>\n",
       "      <td>383249</td>\n",
       "      <td>Hogar con Venta</td>\n",
       "    </tr>\n",
       "    <tr>\n",
       "      <th>1</th>\n",
       "      <td>249859</td>\n",
       "      <td>Estanquillos / kioscos</td>\n",
       "    </tr>\n",
       "    <tr>\n",
       "      <th>2</th>\n",
       "      <td>106498</td>\n",
       "      <td>Estanquillos / kioscos</td>\n",
       "    </tr>\n",
       "    <tr>\n",
       "      <th>3</th>\n",
       "      <td>385264</td>\n",
       "      <td>Abarrotes / Almacenes / Bodegas / Víveres</td>\n",
       "    </tr>\n",
       "    <tr>\n",
       "      <th>4</th>\n",
       "      <td>165442</td>\n",
       "      <td>Estanquillos / kioscos</td>\n",
       "    </tr>\n",
       "    <tr>\n",
       "      <th>5</th>\n",
       "      <td>275395</td>\n",
       "      <td>Estanquillos / kioscos</td>\n",
       "    </tr>\n",
       "    <tr>\n",
       "      <th>6</th>\n",
       "      <td>147449</td>\n",
       "      <td>Hogar con Venta</td>\n",
       "    </tr>\n",
       "    <tr>\n",
       "      <th>7</th>\n",
       "      <td>382939</td>\n",
       "      <td>Estanquillos / kioscos</td>\n",
       "    </tr>\n",
       "    <tr>\n",
       "      <th>8</th>\n",
       "      <td>345755</td>\n",
       "      <td>Hogar con Venta</td>\n",
       "    </tr>\n",
       "    <tr>\n",
       "      <th>9</th>\n",
       "      <td>175659</td>\n",
       "      <td>Farmacia Independiente</td>\n",
       "    </tr>\n",
       "  </tbody>\n",
       "</table>\n",
       "</div>"
      ],
      "text/plain": [
       "   customer_id                                       type\n",
       "0       383249                            Hogar con Venta\n",
       "1       249859                     Estanquillos / kioscos\n",
       "2       106498                     Estanquillos / kioscos\n",
       "3       385264  Abarrotes / Almacenes / Bodegas / Víveres\n",
       "4       165442                     Estanquillos / kioscos\n",
       "5       275395                     Estanquillos / kioscos\n",
       "6       147449                            Hogar con Venta\n",
       "7       382939                     Estanquillos / kioscos\n",
       "8       345755                            Hogar con Venta\n",
       "9       175659                     Farmacia Independiente"
      ]
     },
     "execution_count": 65,
     "metadata": {},
     "output_type": "execute_result"
    }
   ],
   "source": [
    "customers = pd.read_csv(\"C:\\\\Users\\\\oabanderas\\\\Downloads\\\\Datos Necesarios\\\\Datos necesarios\\\\customers.csv\")\n",
    "customers.head(10)"
   ]
  },
  {
   "cell_type": "code",
   "execution_count": 66,
   "id": "e120310d-8677-4dab-a66f-0ec2c091eb9f",
   "metadata": {
    "tags": []
   },
   "outputs": [
    {
     "data": {
      "text/html": [
       "<div>\n",
       "<style scoped>\n",
       "    .dataframe tbody tr th:only-of-type {\n",
       "        vertical-align: middle;\n",
       "    }\n",
       "\n",
       "    .dataframe tbody tr th {\n",
       "        vertical-align: top;\n",
       "    }\n",
       "\n",
       "    .dataframe thead th {\n",
       "        text-align: right;\n",
       "    }\n",
       "</style>\n",
       "<table border=\"1\" class=\"dataframe\">\n",
       "  <thead>\n",
       "    <tr style=\"text-align: right;\">\n",
       "      <th></th>\n",
       "      <th>customer_id</th>\n",
       "      <th>month</th>\n",
       "      <th>amount</th>\n",
       "      <th>churn_next_month</th>\n",
       "    </tr>\n",
       "  </thead>\n",
       "  <tbody>\n",
       "    <tr>\n",
       "      <th>0</th>\n",
       "      <td>100000</td>\n",
       "      <td>202102</td>\n",
       "      <td>48.07</td>\n",
       "      <td>0.00</td>\n",
       "    </tr>\n",
       "    <tr>\n",
       "      <th>1</th>\n",
       "      <td>100000</td>\n",
       "      <td>202306</td>\n",
       "      <td>40.30</td>\n",
       "      <td>0.00</td>\n",
       "    </tr>\n",
       "    <tr>\n",
       "      <th>2</th>\n",
       "      <td>100000</td>\n",
       "      <td>202308</td>\n",
       "      <td>32.90</td>\n",
       "      <td>0.00</td>\n",
       "    </tr>\n",
       "    <tr>\n",
       "      <th>3</th>\n",
       "      <td>100000</td>\n",
       "      <td>202207</td>\n",
       "      <td>50.72</td>\n",
       "      <td>0.00</td>\n",
       "    </tr>\n",
       "    <tr>\n",
       "      <th>4</th>\n",
       "      <td>100000</td>\n",
       "      <td>202212</td>\n",
       "      <td>47.87</td>\n",
       "      <td>0.00</td>\n",
       "    </tr>\n",
       "    <tr>\n",
       "      <th>5</th>\n",
       "      <td>100000</td>\n",
       "      <td>202010</td>\n",
       "      <td>84.43</td>\n",
       "      <td>0.00</td>\n",
       "    </tr>\n",
       "    <tr>\n",
       "      <th>6</th>\n",
       "      <td>100000</td>\n",
       "      <td>202107</td>\n",
       "      <td>75.96</td>\n",
       "      <td>0.00</td>\n",
       "    </tr>\n",
       "    <tr>\n",
       "      <th>7</th>\n",
       "      <td>100000</td>\n",
       "      <td>202110</td>\n",
       "      <td>92.41</td>\n",
       "      <td>0.00</td>\n",
       "    </tr>\n",
       "    <tr>\n",
       "      <th>8</th>\n",
       "      <td>100000</td>\n",
       "      <td>202008</td>\n",
       "      <td>37.66</td>\n",
       "      <td>0.00</td>\n",
       "    </tr>\n",
       "    <tr>\n",
       "      <th>9</th>\n",
       "      <td>100000</td>\n",
       "      <td>202009</td>\n",
       "      <td>50.07</td>\n",
       "      <td>0.00</td>\n",
       "    </tr>\n",
       "  </tbody>\n",
       "</table>\n",
       "</div>"
      ],
      "text/plain": [
       "   customer_id   month  amount  churn_next_month\n",
       "0       100000  202102   48.07              0.00\n",
       "1       100000  202306   40.30              0.00\n",
       "2       100000  202308   32.90              0.00\n",
       "3       100000  202207   50.72              0.00\n",
       "4       100000  202212   47.87              0.00\n",
       "5       100000  202010   84.43              0.00\n",
       "6       100000  202107   75.96              0.00\n",
       "7       100000  202110   92.41              0.00\n",
       "8       100000  202008   37.66              0.00\n",
       "9       100000  202009   50.07              0.00"
      ]
     },
     "execution_count": 66,
     "metadata": {},
     "output_type": "execute_result"
    }
   ],
   "source": [
    "sales = pd.read_csv(\"C:\\\\Users\\\\oabanderas\\\\Downloads\\\\Datos Necesarios\\\\Datos necesarios\\\\sales.csv\")\n",
    "sales.head(10)"
   ]
  },
  {
   "cell_type": "markdown",
   "id": "f7f9ab83-a5a3-48c8-bd23-4f07028077c0",
   "metadata": {},
   "source": [
    "# checking sales"
   ]
  },
  {
   "cell_type": "code",
   "execution_count": 68,
   "id": "ef91178e-c748-49a6-bd08-6e29591291b1",
   "metadata": {
    "tags": []
   },
   "outputs": [
    {
     "data": {
      "text/plain": [
       "(5386175, 4)"
      ]
     },
     "execution_count": 68,
     "metadata": {},
     "output_type": "execute_result"
    }
   ],
   "source": [
    "sales.shape"
   ]
  },
  {
   "cell_type": "code",
   "execution_count": 69,
   "id": "7d82879c-778c-4f25-9716-750c2ab500f5",
   "metadata": {
    "tags": []
   },
   "outputs": [
    {
     "data": {
      "text/plain": [
       "customer_id             0\n",
       "month                   0\n",
       "amount                  0\n",
       "churn_next_month    94272\n",
       "dtype: int64"
      ]
     },
     "execution_count": 69,
     "metadata": {},
     "output_type": "execute_result"
    }
   ],
   "source": [
    "sales.isna().sum()"
   ]
  },
  {
   "cell_type": "code",
   "execution_count": 70,
   "id": "904a3372-7abe-479e-bf2e-db437937a5cc",
   "metadata": {
    "tags": []
   },
   "outputs": [
    {
     "data": {
      "text/plain": [
       "170367"
      ]
     },
     "execution_count": 70,
     "metadata": {},
     "output_type": "execute_result"
    }
   ],
   "source": [
    "len(set(sales['customer_id']))"
   ]
  },
  {
   "cell_type": "code",
   "execution_count": 71,
   "id": "12994ea4-a0e3-405f-bebf-4054bdb1a5e5",
   "metadata": {
    "tags": []
   },
   "outputs": [
    {
     "data": {
      "text/html": [
       "<div>\n",
       "<style scoped>\n",
       "    .dataframe tbody tr th:only-of-type {\n",
       "        vertical-align: middle;\n",
       "    }\n",
       "\n",
       "    .dataframe tbody tr th {\n",
       "        vertical-align: top;\n",
       "    }\n",
       "\n",
       "    .dataframe thead th {\n",
       "        text-align: right;\n",
       "    }\n",
       "</style>\n",
       "<table border=\"1\" class=\"dataframe\">\n",
       "  <thead>\n",
       "    <tr style=\"text-align: right;\">\n",
       "      <th></th>\n",
       "      <th>customer_id</th>\n",
       "      <th>month</th>\n",
       "      <th>amount</th>\n",
       "      <th>churn_next_month</th>\n",
       "    </tr>\n",
       "  </thead>\n",
       "  <tbody>\n",
       "    <tr>\n",
       "      <th>count</th>\n",
       "      <td>5386175.00</td>\n",
       "      <td>5386175.00</td>\n",
       "      <td>5386175.00</td>\n",
       "      <td>5291903.00</td>\n",
       "    </tr>\n",
       "    <tr>\n",
       "      <th>mean</th>\n",
       "      <td>250112.72</td>\n",
       "      <td>202139.33</td>\n",
       "      <td>215.23</td>\n",
       "      <td>0.01</td>\n",
       "    </tr>\n",
       "    <tr>\n",
       "      <th>std</th>\n",
       "      <td>86654.30</td>\n",
       "      <td>116.40</td>\n",
       "      <td>299.69</td>\n",
       "      <td>0.12</td>\n",
       "    </tr>\n",
       "    <tr>\n",
       "      <th>min</th>\n",
       "      <td>100000.00</td>\n",
       "      <td>201911.00</td>\n",
       "      <td>-343.77</td>\n",
       "      <td>0.00</td>\n",
       "    </tr>\n",
       "    <tr>\n",
       "      <th>25%</th>\n",
       "      <td>174945.50</td>\n",
       "      <td>202011.00</td>\n",
       "      <td>54.31</td>\n",
       "      <td>0.00</td>\n",
       "    </tr>\n",
       "    <tr>\n",
       "      <th>50%</th>\n",
       "      <td>250360.00</td>\n",
       "      <td>202110.00</td>\n",
       "      <td>130.96</td>\n",
       "      <td>0.00</td>\n",
       "    </tr>\n",
       "    <tr>\n",
       "      <th>75%</th>\n",
       "      <td>325280.00</td>\n",
       "      <td>202210.00</td>\n",
       "      <td>275.67</td>\n",
       "      <td>0.00</td>\n",
       "    </tr>\n",
       "    <tr>\n",
       "      <th>max</th>\n",
       "      <td>399999.00</td>\n",
       "      <td>202311.00</td>\n",
       "      <td>24286.95</td>\n",
       "      <td>1.00</td>\n",
       "    </tr>\n",
       "  </tbody>\n",
       "</table>\n",
       "</div>"
      ],
      "text/plain": [
       "       customer_id      month     amount  churn_next_month\n",
       "count   5386175.00 5386175.00 5386175.00        5291903.00\n",
       "mean     250112.72  202139.33     215.23              0.01\n",
       "std       86654.30     116.40     299.69              0.12\n",
       "min      100000.00  201911.00    -343.77              0.00\n",
       "25%      174945.50  202011.00      54.31              0.00\n",
       "50%      250360.00  202110.00     130.96              0.00\n",
       "75%      325280.00  202210.00     275.67              0.00\n",
       "max      399999.00  202311.00   24286.95              1.00"
      ]
     },
     "execution_count": 71,
     "metadata": {},
     "output_type": "execute_result"
    }
   ],
   "source": [
    "sales.describe()"
   ]
  },
  {
   "cell_type": "code",
   "execution_count": 72,
   "id": "5ba9c3ce-8691-41e7-9150-a578f7e1c8d6",
   "metadata": {
    "tags": []
   },
   "outputs": [
    {
     "data": {
      "text/plain": [
       "107"
      ]
     },
     "execution_count": 72,
     "metadata": {},
     "output_type": "execute_result"
    }
   ],
   "source": [
    "len(sales[sales.amount < 0])"
   ]
  },
  {
   "cell_type": "code",
   "execution_count": 73,
   "id": "128c239b-5363-470b-aab9-face7dbfaa66",
   "metadata": {
    "tags": []
   },
   "outputs": [
    {
     "data": {
      "text/html": [
       "<div>\n",
       "<style scoped>\n",
       "    .dataframe tbody tr th:only-of-type {\n",
       "        vertical-align: middle;\n",
       "    }\n",
       "\n",
       "    .dataframe tbody tr th {\n",
       "        vertical-align: top;\n",
       "    }\n",
       "\n",
       "    .dataframe thead th {\n",
       "        text-align: right;\n",
       "    }\n",
       "</style>\n",
       "<table border=\"1\" class=\"dataframe\">\n",
       "  <thead>\n",
       "    <tr style=\"text-align: right;\">\n",
       "      <th></th>\n",
       "      <th>customer_id</th>\n",
       "      <th>month</th>\n",
       "      <th>amount</th>\n",
       "      <th>churn_next_month</th>\n",
       "    </tr>\n",
       "  </thead>\n",
       "  <tbody>\n",
       "    <tr>\n",
       "      <th>44694</th>\n",
       "      <td>102503</td>\n",
       "      <td>202205</td>\n",
       "      <td>-0.09</td>\n",
       "      <td>1.00</td>\n",
       "    </tr>\n",
       "    <tr>\n",
       "      <th>99026</th>\n",
       "      <td>105528</td>\n",
       "      <td>202302</td>\n",
       "      <td>-0.72</td>\n",
       "      <td>0.00</td>\n",
       "    </tr>\n",
       "    <tr>\n",
       "      <th>119379</th>\n",
       "      <td>106607</td>\n",
       "      <td>202207</td>\n",
       "      <td>-0.00</td>\n",
       "      <td>1.00</td>\n",
       "    </tr>\n",
       "    <tr>\n",
       "      <th>148344</th>\n",
       "      <td>108253</td>\n",
       "      <td>202210</td>\n",
       "      <td>-0.00</td>\n",
       "      <td>1.00</td>\n",
       "    </tr>\n",
       "    <tr>\n",
       "      <th>204773</th>\n",
       "      <td>111343</td>\n",
       "      <td>202203</td>\n",
       "      <td>-0.00</td>\n",
       "      <td>0.00</td>\n",
       "    </tr>\n",
       "  </tbody>\n",
       "</table>\n",
       "</div>"
      ],
      "text/plain": [
       "        customer_id   month  amount  churn_next_month\n",
       "44694        102503  202205   -0.09              1.00\n",
       "99026        105528  202302   -0.72              0.00\n",
       "119379       106607  202207   -0.00              1.00\n",
       "148344       108253  202210   -0.00              1.00\n",
       "204773       111343  202203   -0.00              0.00"
      ]
     },
     "execution_count": 73,
     "metadata": {},
     "output_type": "execute_result"
    }
   ],
   "source": [
    "sales[sales.amount < 0].head()"
   ]
  },
  {
   "cell_type": "code",
   "execution_count": 74,
   "id": "1cb57721-0c9c-4447-a891-7f889aca5438",
   "metadata": {
    "tags": []
   },
   "outputs": [
    {
     "data": {
      "text/html": [
       "<div>\n",
       "<style scoped>\n",
       "    .dataframe tbody tr th:only-of-type {\n",
       "        vertical-align: middle;\n",
       "    }\n",
       "\n",
       "    .dataframe tbody tr th {\n",
       "        vertical-align: top;\n",
       "    }\n",
       "\n",
       "    .dataframe thead th {\n",
       "        text-align: right;\n",
       "    }\n",
       "</style>\n",
       "<table border=\"1\" class=\"dataframe\">\n",
       "  <thead>\n",
       "    <tr style=\"text-align: right;\">\n",
       "      <th></th>\n",
       "      <th>customer_id</th>\n",
       "      <th>month</th>\n",
       "      <th>amount</th>\n",
       "      <th>churn_next_month</th>\n",
       "      <th>date</th>\n",
       "      <th>year</th>\n",
       "    </tr>\n",
       "  </thead>\n",
       "  <tbody>\n",
       "    <tr>\n",
       "      <th>0</th>\n",
       "      <td>100000</td>\n",
       "      <td>2</td>\n",
       "      <td>48.07</td>\n",
       "      <td>0.00</td>\n",
       "      <td>202102</td>\n",
       "      <td>2021</td>\n",
       "    </tr>\n",
       "    <tr>\n",
       "      <th>1</th>\n",
       "      <td>100000</td>\n",
       "      <td>6</td>\n",
       "      <td>40.30</td>\n",
       "      <td>0.00</td>\n",
       "      <td>202306</td>\n",
       "      <td>2023</td>\n",
       "    </tr>\n",
       "    <tr>\n",
       "      <th>2</th>\n",
       "      <td>100000</td>\n",
       "      <td>8</td>\n",
       "      <td>32.90</td>\n",
       "      <td>0.00</td>\n",
       "      <td>202308</td>\n",
       "      <td>2023</td>\n",
       "    </tr>\n",
       "    <tr>\n",
       "      <th>3</th>\n",
       "      <td>100000</td>\n",
       "      <td>7</td>\n",
       "      <td>50.72</td>\n",
       "      <td>0.00</td>\n",
       "      <td>202207</td>\n",
       "      <td>2022</td>\n",
       "    </tr>\n",
       "    <tr>\n",
       "      <th>4</th>\n",
       "      <td>100000</td>\n",
       "      <td>12</td>\n",
       "      <td>47.87</td>\n",
       "      <td>0.00</td>\n",
       "      <td>202212</td>\n",
       "      <td>2022</td>\n",
       "    </tr>\n",
       "  </tbody>\n",
       "</table>\n",
       "</div>"
      ],
      "text/plain": [
       "   customer_id  month  amount  churn_next_month    date  year\n",
       "0       100000      2   48.07              0.00  202102  2021\n",
       "1       100000      6   40.30              0.00  202306  2023\n",
       "2       100000      8   32.90              0.00  202308  2023\n",
       "3       100000      7   50.72              0.00  202207  2022\n",
       "4       100000     12   47.87              0.00  202212  2022"
      ]
     },
     "execution_count": 74,
     "metadata": {},
     "output_type": "execute_result"
    }
   ],
   "source": [
    "sales['month'] = sales['month'].astype(str)\n",
    "\n",
    "sales['date'] = sales['month']\n",
    "\n",
    "sales['year'] = sales['month'].str[:4]\n",
    "sales['month'] = sales['month'].str[4:]\n",
    "\n",
    "sales['month'] = sales['month'].astype(int)\n",
    "sales['year'] = sales['year'].astype(int)\n",
    "\n",
    "sales.head()"
   ]
  },
  {
   "cell_type": "code",
   "execution_count": 75,
   "id": "399418b7-eb01-4232-9c34-06400d3da0f8",
   "metadata": {
    "tags": []
   },
   "outputs": [
    {
     "data": {
      "text/html": [
       "<div>\n",
       "<style scoped>\n",
       "    .dataframe tbody tr th:only-of-type {\n",
       "        vertical-align: middle;\n",
       "    }\n",
       "\n",
       "    .dataframe tbody tr th {\n",
       "        vertical-align: top;\n",
       "    }\n",
       "\n",
       "    .dataframe thead th {\n",
       "        text-align: right;\n",
       "    }\n",
       "</style>\n",
       "<table border=\"1\" class=\"dataframe\">\n",
       "  <thead>\n",
       "    <tr style=\"text-align: right;\">\n",
       "      <th></th>\n",
       "      <th>customer_id</th>\n",
       "      <th>month</th>\n",
       "      <th>amount</th>\n",
       "      <th>churn_next_month</th>\n",
       "      <th>date</th>\n",
       "      <th>year</th>\n",
       "      <th>type</th>\n",
       "    </tr>\n",
       "  </thead>\n",
       "  <tbody>\n",
       "    <tr>\n",
       "      <th>0</th>\n",
       "      <td>100000</td>\n",
       "      <td>2</td>\n",
       "      <td>48.07</td>\n",
       "      <td>0.00</td>\n",
       "      <td>202102</td>\n",
       "      <td>2021</td>\n",
       "      <td>Estanquillos / kioscos</td>\n",
       "    </tr>\n",
       "    <tr>\n",
       "      <th>1</th>\n",
       "      <td>100000</td>\n",
       "      <td>6</td>\n",
       "      <td>40.30</td>\n",
       "      <td>0.00</td>\n",
       "      <td>202306</td>\n",
       "      <td>2023</td>\n",
       "      <td>Estanquillos / kioscos</td>\n",
       "    </tr>\n",
       "    <tr>\n",
       "      <th>2</th>\n",
       "      <td>100000</td>\n",
       "      <td>8</td>\n",
       "      <td>32.90</td>\n",
       "      <td>0.00</td>\n",
       "      <td>202308</td>\n",
       "      <td>2023</td>\n",
       "      <td>Estanquillos / kioscos</td>\n",
       "    </tr>\n",
       "    <tr>\n",
       "      <th>3</th>\n",
       "      <td>100000</td>\n",
       "      <td>7</td>\n",
       "      <td>50.72</td>\n",
       "      <td>0.00</td>\n",
       "      <td>202207</td>\n",
       "      <td>2022</td>\n",
       "      <td>Estanquillos / kioscos</td>\n",
       "    </tr>\n",
       "    <tr>\n",
       "      <th>4</th>\n",
       "      <td>100000</td>\n",
       "      <td>12</td>\n",
       "      <td>47.87</td>\n",
       "      <td>0.00</td>\n",
       "      <td>202212</td>\n",
       "      <td>2022</td>\n",
       "      <td>Estanquillos / kioscos</td>\n",
       "    </tr>\n",
       "  </tbody>\n",
       "</table>\n",
       "</div>"
      ],
      "text/plain": [
       "   customer_id  month  amount  churn_next_month    date  year  \\\n",
       "0       100000      2   48.07              0.00  202102  2021   \n",
       "1       100000      6   40.30              0.00  202306  2023   \n",
       "2       100000      8   32.90              0.00  202308  2023   \n",
       "3       100000      7   50.72              0.00  202207  2022   \n",
       "4       100000     12   47.87              0.00  202212  2022   \n",
       "\n",
       "                     type  \n",
       "0  Estanquillos / kioscos  \n",
       "1  Estanquillos / kioscos  \n",
       "2  Estanquillos / kioscos  \n",
       "3  Estanquillos / kioscos  \n",
       "4  Estanquillos / kioscos  "
      ]
     },
     "execution_count": 75,
     "metadata": {},
     "output_type": "execute_result"
    }
   ],
   "source": [
    "full_db = pd.merge(sales, customers, on='customer_id', how='left')\n",
    "full_db.head()"
   ]
  },
  {
   "cell_type": "code",
   "execution_count": 76,
   "id": "2d0a1570-d747-4273-a54a-23629b61d323",
   "metadata": {
    "tags": []
   },
   "outputs": [
    {
     "data": {
      "text/html": [
       "<div>\n",
       "<style scoped>\n",
       "    .dataframe tbody tr th:only-of-type {\n",
       "        vertical-align: middle;\n",
       "    }\n",
       "\n",
       "    .dataframe tbody tr th {\n",
       "        vertical-align: top;\n",
       "    }\n",
       "\n",
       "    .dataframe thead th {\n",
       "        text-align: right;\n",
       "    }\n",
       "</style>\n",
       "<table border=\"1\" class=\"dataframe\">\n",
       "  <thead>\n",
       "    <tr style=\"text-align: right;\">\n",
       "      <th></th>\n",
       "      <th>customer_id</th>\n",
       "      <th>month</th>\n",
       "      <th>amount</th>\n",
       "      <th>churn_next_month</th>\n",
       "      <th>date</th>\n",
       "      <th>year</th>\n",
       "      <th>type</th>\n",
       "    </tr>\n",
       "  </thead>\n",
       "  <tbody>\n",
       "    <tr>\n",
       "      <th>0</th>\n",
       "      <td>100000</td>\n",
       "      <td>2</td>\n",
       "      <td>48.07</td>\n",
       "      <td>0.00</td>\n",
       "      <td>2021-02-01</td>\n",
       "      <td>2021</td>\n",
       "      <td>Estanquillos / kioscos</td>\n",
       "    </tr>\n",
       "    <tr>\n",
       "      <th>1</th>\n",
       "      <td>100000</td>\n",
       "      <td>6</td>\n",
       "      <td>40.30</td>\n",
       "      <td>0.00</td>\n",
       "      <td>2023-06-01</td>\n",
       "      <td>2023</td>\n",
       "      <td>Estanquillos / kioscos</td>\n",
       "    </tr>\n",
       "    <tr>\n",
       "      <th>2</th>\n",
       "      <td>100000</td>\n",
       "      <td>8</td>\n",
       "      <td>32.90</td>\n",
       "      <td>0.00</td>\n",
       "      <td>2023-08-01</td>\n",
       "      <td>2023</td>\n",
       "      <td>Estanquillos / kioscos</td>\n",
       "    </tr>\n",
       "    <tr>\n",
       "      <th>3</th>\n",
       "      <td>100000</td>\n",
       "      <td>7</td>\n",
       "      <td>50.72</td>\n",
       "      <td>0.00</td>\n",
       "      <td>2022-07-01</td>\n",
       "      <td>2022</td>\n",
       "      <td>Estanquillos / kioscos</td>\n",
       "    </tr>\n",
       "    <tr>\n",
       "      <th>4</th>\n",
       "      <td>100000</td>\n",
       "      <td>12</td>\n",
       "      <td>47.87</td>\n",
       "      <td>0.00</td>\n",
       "      <td>2022-12-01</td>\n",
       "      <td>2022</td>\n",
       "      <td>Estanquillos / kioscos</td>\n",
       "    </tr>\n",
       "  </tbody>\n",
       "</table>\n",
       "</div>"
      ],
      "text/plain": [
       "   customer_id  month  amount  churn_next_month       date  year  \\\n",
       "0       100000      2   48.07              0.00 2021-02-01  2021   \n",
       "1       100000      6   40.30              0.00 2023-06-01  2023   \n",
       "2       100000      8   32.90              0.00 2023-08-01  2023   \n",
       "3       100000      7   50.72              0.00 2022-07-01  2022   \n",
       "4       100000     12   47.87              0.00 2022-12-01  2022   \n",
       "\n",
       "                     type  \n",
       "0  Estanquillos / kioscos  \n",
       "1  Estanquillos / kioscos  \n",
       "2  Estanquillos / kioscos  \n",
       "3  Estanquillos / kioscos  \n",
       "4  Estanquillos / kioscos  "
      ]
     },
     "execution_count": 76,
     "metadata": {},
     "output_type": "execute_result"
    }
   ],
   "source": [
    "full_db['date'] = pd.to_datetime(full_db['date'], format='%Y%m')\n",
    "full_db.head()"
   ]
  },
  {
   "cell_type": "markdown",
   "id": "6ddcfa8c-e881-4dd1-961f-2cb660e94a70",
   "metadata": {},
   "source": [
    "# Stats"
   ]
  },
  {
   "cell_type": "code",
   "execution_count": 78,
   "id": "f1c7b42f-e9d8-48da-b6e1-6d199a42dfde",
   "metadata": {
    "tags": []
   },
   "outputs": [],
   "source": [
    "full_db = full_db[full_db.amount >= 0]"
   ]
  },
  {
   "cell_type": "code",
   "execution_count": 79,
   "id": "92dc0551-5517-4ba5-9c50-a822a8f2a3ad",
   "metadata": {
    "tags": []
   },
   "outputs": [
    {
     "data": {
      "text/plain": [
       "customer_id             0\n",
       "month                   0\n",
       "amount                  0\n",
       "churn_next_month    94269\n",
       "date                    0\n",
       "year                    0\n",
       "type                  696\n",
       "dtype: int64"
      ]
     },
     "execution_count": 79,
     "metadata": {},
     "output_type": "execute_result"
    }
   ],
   "source": [
    "full_db.isna().sum()"
   ]
  },
  {
   "cell_type": "code",
   "execution_count": 80,
   "id": "cf922cee-aa8e-4d26-b734-b58586e0b0ce",
   "metadata": {
    "tags": []
   },
   "outputs": [
    {
     "data": {
      "text/html": [
       "<div>\n",
       "<style scoped>\n",
       "    .dataframe tbody tr th:only-of-type {\n",
       "        vertical-align: middle;\n",
       "    }\n",
       "\n",
       "    .dataframe tbody tr th {\n",
       "        vertical-align: top;\n",
       "    }\n",
       "\n",
       "    .dataframe thead th {\n",
       "        text-align: right;\n",
       "    }\n",
       "</style>\n",
       "<table border=\"1\" class=\"dataframe\">\n",
       "  <thead>\n",
       "    <tr style=\"text-align: right;\">\n",
       "      <th></th>\n",
       "      <th>customer_id</th>\n",
       "      <th>month</th>\n",
       "      <th>amount</th>\n",
       "      <th>churn_next_month</th>\n",
       "      <th>date</th>\n",
       "      <th>year</th>\n",
       "    </tr>\n",
       "  </thead>\n",
       "  <tbody>\n",
       "    <tr>\n",
       "      <th>count</th>\n",
       "      <td>5386068.00</td>\n",
       "      <td>5386068.00</td>\n",
       "      <td>5386068.00</td>\n",
       "      <td>5291799.00</td>\n",
       "      <td>5386068</td>\n",
       "      <td>5386068.00</td>\n",
       "    </tr>\n",
       "    <tr>\n",
       "      <th>mean</th>\n",
       "      <td>250112.60</td>\n",
       "      <td>6.58</td>\n",
       "      <td>215.23</td>\n",
       "      <td>0.01</td>\n",
       "      <td>2021-10-16 09:53:15.628721920</td>\n",
       "      <td>2021.33</td>\n",
       "    </tr>\n",
       "    <tr>\n",
       "      <th>min</th>\n",
       "      <td>100000.00</td>\n",
       "      <td>1.00</td>\n",
       "      <td>0.00</td>\n",
       "      <td>0.00</td>\n",
       "      <td>2019-11-01 00:00:00</td>\n",
       "      <td>2019.00</td>\n",
       "    </tr>\n",
       "    <tr>\n",
       "      <th>25%</th>\n",
       "      <td>174946.00</td>\n",
       "      <td>4.00</td>\n",
       "      <td>54.31</td>\n",
       "      <td>0.00</td>\n",
       "      <td>2020-11-01 00:00:00</td>\n",
       "      <td>2020.00</td>\n",
       "    </tr>\n",
       "    <tr>\n",
       "      <th>50%</th>\n",
       "      <td>250360.00</td>\n",
       "      <td>7.00</td>\n",
       "      <td>130.96</td>\n",
       "      <td>0.00</td>\n",
       "      <td>2021-10-01 00:00:00</td>\n",
       "      <td>2021.00</td>\n",
       "    </tr>\n",
       "    <tr>\n",
       "      <th>75%</th>\n",
       "      <td>325275.00</td>\n",
       "      <td>10.00</td>\n",
       "      <td>275.67</td>\n",
       "      <td>0.00</td>\n",
       "      <td>2022-10-01 00:00:00</td>\n",
       "      <td>2022.00</td>\n",
       "    </tr>\n",
       "    <tr>\n",
       "      <th>max</th>\n",
       "      <td>399999.00</td>\n",
       "      <td>12.00</td>\n",
       "      <td>24286.95</td>\n",
       "      <td>1.00</td>\n",
       "      <td>2023-11-01 00:00:00</td>\n",
       "      <td>2023.00</td>\n",
       "    </tr>\n",
       "    <tr>\n",
       "      <th>std</th>\n",
       "      <td>86654.23</td>\n",
       "      <td>3.48</td>\n",
       "      <td>299.69</td>\n",
       "      <td>0.12</td>\n",
       "      <td>NaN</td>\n",
       "      <td>1.17</td>\n",
       "    </tr>\n",
       "  </tbody>\n",
       "</table>\n",
       "</div>"
      ],
      "text/plain": [
       "       customer_id      month     amount  churn_next_month  \\\n",
       "count   5386068.00 5386068.00 5386068.00        5291799.00   \n",
       "mean     250112.60       6.58     215.23              0.01   \n",
       "min      100000.00       1.00       0.00              0.00   \n",
       "25%      174946.00       4.00      54.31              0.00   \n",
       "50%      250360.00       7.00     130.96              0.00   \n",
       "75%      325275.00      10.00     275.67              0.00   \n",
       "max      399999.00      12.00   24286.95              1.00   \n",
       "std       86654.23       3.48     299.69              0.12   \n",
       "\n",
       "                                date       year  \n",
       "count                        5386068 5386068.00  \n",
       "mean   2021-10-16 09:53:15.628721920    2021.33  \n",
       "min              2019-11-01 00:00:00    2019.00  \n",
       "25%              2020-11-01 00:00:00    2020.00  \n",
       "50%              2021-10-01 00:00:00    2021.00  \n",
       "75%              2022-10-01 00:00:00    2022.00  \n",
       "max              2023-11-01 00:00:00    2023.00  \n",
       "std                              NaN       1.17  "
      ]
     },
     "execution_count": 80,
     "metadata": {},
     "output_type": "execute_result"
    }
   ],
   "source": [
    "full_db.describe()"
   ]
  },
  {
   "cell_type": "code",
   "execution_count": 81,
   "id": "fef69f3a-7570-4290-9257-dd7e20fb0840",
   "metadata": {
    "tags": []
   },
   "outputs": [],
   "source": [
    "df_avg = full_db.groupby('date', as_index=False)['amount'].mean()"
   ]
  },
  {
   "cell_type": "code",
   "execution_count": 82,
   "id": "16e7e50c-f624-4a13-8d93-8d87387896f0",
   "metadata": {
    "tags": []
   },
   "outputs": [
    {
     "name": "stderr",
     "output_type": "stream",
     "text": [
      "C:\\Users\\oabanderas\\AppData\\Local\\anaconda3\\Lib\\site-packages\\_plotly_utils\\basevalidators.py:106: FutureWarning:\n",
      "\n",
      "The behavior of DatetimeProperties.to_pydatetime is deprecated, in a future version this will return a Series containing python datetime objects instead of an ndarray. To retain the old behavior, call `np.array` on the result\n",
      "\n"
     ]
    },
    {
     "data": {
      "application/vnd.plotly.v1+json": {
       "config": {
        "plotlyServerURL": "https://plot.ly"
       },
       "data": [
        {
         "hovertemplate": "Fecha=%{x}<br>Monto Promedio=%{y}<extra></extra>",
         "legendgroup": "",
         "line": {
          "color": "#636efa",
          "dash": "solid"
         },
         "marker": {
          "symbol": "circle"
         },
         "mode": "lines",
         "name": "",
         "orientation": "v",
         "showlegend": false,
         "type": "scatter",
         "x": [
          "2019-11-01T00:00:00",
          "2019-12-01T00:00:00",
          "2020-01-01T00:00:00",
          "2020-02-01T00:00:00",
          "2020-03-01T00:00:00",
          "2020-04-01T00:00:00",
          "2020-05-01T00:00:00",
          "2020-06-01T00:00:00",
          "2020-07-01T00:00:00",
          "2020-08-01T00:00:00",
          "2020-09-01T00:00:00",
          "2020-10-01T00:00:00",
          "2020-11-01T00:00:00",
          "2020-12-01T00:00:00",
          "2021-01-01T00:00:00",
          "2021-02-01T00:00:00",
          "2021-03-01T00:00:00",
          "2021-04-01T00:00:00",
          "2021-05-01T00:00:00",
          "2021-06-01T00:00:00",
          "2021-07-01T00:00:00",
          "2021-08-01T00:00:00",
          "2021-09-01T00:00:00",
          "2021-10-01T00:00:00",
          "2021-11-01T00:00:00",
          "2021-12-01T00:00:00",
          "2022-01-01T00:00:00",
          "2022-02-01T00:00:00",
          "2022-03-01T00:00:00",
          "2022-04-01T00:00:00",
          "2022-05-01T00:00:00",
          "2022-06-01T00:00:00",
          "2022-07-01T00:00:00",
          "2022-08-01T00:00:00",
          "2022-09-01T00:00:00",
          "2022-10-01T00:00:00",
          "2022-11-01T00:00:00",
          "2022-12-01T00:00:00",
          "2023-01-01T00:00:00",
          "2023-02-01T00:00:00",
          "2023-03-01T00:00:00",
          "2023-04-01T00:00:00",
          "2023-05-01T00:00:00",
          "2023-06-01T00:00:00",
          "2023-07-01T00:00:00",
          "2023-08-01T00:00:00",
          "2023-09-01T00:00:00",
          "2023-10-01T00:00:00",
          "2023-11-01T00:00:00"
         ],
         "xaxis": "x",
         "y": [
          195.23997038771802,
          196.6458034462612,
          178.34119896304412,
          174.83155449868914,
          194.97272688030995,
          219.5421950634701,
          249.19285992221006,
          246.32626106822718,
          245.76668469042366,
          234.15451962457314,
          217.24517647714364,
          220.7832499520179,
          198.13846901596764,
          194.39215042180894,
          169.44566486152894,
          168.1417177232637,
          210.0489479040231,
          212.1041791098239,
          224.5219494958023,
          228.7022336982821,
          225.4290263403178,
          219.87536453091215,
          216.10680121133427,
          210.74448394473325,
          192.471542958381,
          205.42497298817133,
          165.56771110470845,
          168.98365971231163,
          212.0921480974923,
          219.48535106899536,
          237.2960655463778,
          240.7321233104814,
          237.08747258518355,
          237.233069025686,
          218.536229496401,
          204.73655842014819,
          191.318984506089,
          205.94241470128117,
          179.9637241650695,
          178.86561909718588,
          226.94597258248245,
          222.17872774211034,
          248.80622000306008,
          270.1607229262122,
          267.12821841156483,
          275.08872662168113,
          262.89484786627503,
          233.9630719343165,
          220.08796467779123
         ],
         "yaxis": "y"
        }
       ],
       "layout": {
        "autosize": true,
        "legend": {
         "tracegroupgap": 0
        },
        "template": {
         "data": {
          "bar": [
           {
            "error_x": {
             "color": "#2a3f5f"
            },
            "error_y": {
             "color": "#2a3f5f"
            },
            "marker": {
             "line": {
              "color": "#E5ECF6",
              "width": 0.5
             },
             "pattern": {
              "fillmode": "overlay",
              "size": 10,
              "solidity": 0.2
             }
            },
            "type": "bar"
           }
          ],
          "barpolar": [
           {
            "marker": {
             "line": {
              "color": "#E5ECF6",
              "width": 0.5
             },
             "pattern": {
              "fillmode": "overlay",
              "size": 10,
              "solidity": 0.2
             }
            },
            "type": "barpolar"
           }
          ],
          "carpet": [
           {
            "aaxis": {
             "endlinecolor": "#2a3f5f",
             "gridcolor": "white",
             "linecolor": "white",
             "minorgridcolor": "white",
             "startlinecolor": "#2a3f5f"
            },
            "baxis": {
             "endlinecolor": "#2a3f5f",
             "gridcolor": "white",
             "linecolor": "white",
             "minorgridcolor": "white",
             "startlinecolor": "#2a3f5f"
            },
            "type": "carpet"
           }
          ],
          "choropleth": [
           {
            "colorbar": {
             "outlinewidth": 0,
             "ticks": ""
            },
            "type": "choropleth"
           }
          ],
          "contour": [
           {
            "colorbar": {
             "outlinewidth": 0,
             "ticks": ""
            },
            "colorscale": [
             [
              0,
              "#0d0887"
             ],
             [
              0.1111111111111111,
              "#46039f"
             ],
             [
              0.2222222222222222,
              "#7201a8"
             ],
             [
              0.3333333333333333,
              "#9c179e"
             ],
             [
              0.4444444444444444,
              "#bd3786"
             ],
             [
              0.5555555555555556,
              "#d8576b"
             ],
             [
              0.6666666666666666,
              "#ed7953"
             ],
             [
              0.7777777777777778,
              "#fb9f3a"
             ],
             [
              0.8888888888888888,
              "#fdca26"
             ],
             [
              1,
              "#f0f921"
             ]
            ],
            "type": "contour"
           }
          ],
          "contourcarpet": [
           {
            "colorbar": {
             "outlinewidth": 0,
             "ticks": ""
            },
            "type": "contourcarpet"
           }
          ],
          "heatmap": [
           {
            "colorbar": {
             "outlinewidth": 0,
             "ticks": ""
            },
            "colorscale": [
             [
              0,
              "#0d0887"
             ],
             [
              0.1111111111111111,
              "#46039f"
             ],
             [
              0.2222222222222222,
              "#7201a8"
             ],
             [
              0.3333333333333333,
              "#9c179e"
             ],
             [
              0.4444444444444444,
              "#bd3786"
             ],
             [
              0.5555555555555556,
              "#d8576b"
             ],
             [
              0.6666666666666666,
              "#ed7953"
             ],
             [
              0.7777777777777778,
              "#fb9f3a"
             ],
             [
              0.8888888888888888,
              "#fdca26"
             ],
             [
              1,
              "#f0f921"
             ]
            ],
            "type": "heatmap"
           }
          ],
          "heatmapgl": [
           {
            "colorbar": {
             "outlinewidth": 0,
             "ticks": ""
            },
            "colorscale": [
             [
              0,
              "#0d0887"
             ],
             [
              0.1111111111111111,
              "#46039f"
             ],
             [
              0.2222222222222222,
              "#7201a8"
             ],
             [
              0.3333333333333333,
              "#9c179e"
             ],
             [
              0.4444444444444444,
              "#bd3786"
             ],
             [
              0.5555555555555556,
              "#d8576b"
             ],
             [
              0.6666666666666666,
              "#ed7953"
             ],
             [
              0.7777777777777778,
              "#fb9f3a"
             ],
             [
              0.8888888888888888,
              "#fdca26"
             ],
             [
              1,
              "#f0f921"
             ]
            ],
            "type": "heatmapgl"
           }
          ],
          "histogram": [
           {
            "marker": {
             "pattern": {
              "fillmode": "overlay",
              "size": 10,
              "solidity": 0.2
             }
            },
            "type": "histogram"
           }
          ],
          "histogram2d": [
           {
            "colorbar": {
             "outlinewidth": 0,
             "ticks": ""
            },
            "colorscale": [
             [
              0,
              "#0d0887"
             ],
             [
              0.1111111111111111,
              "#46039f"
             ],
             [
              0.2222222222222222,
              "#7201a8"
             ],
             [
              0.3333333333333333,
              "#9c179e"
             ],
             [
              0.4444444444444444,
              "#bd3786"
             ],
             [
              0.5555555555555556,
              "#d8576b"
             ],
             [
              0.6666666666666666,
              "#ed7953"
             ],
             [
              0.7777777777777778,
              "#fb9f3a"
             ],
             [
              0.8888888888888888,
              "#fdca26"
             ],
             [
              1,
              "#f0f921"
             ]
            ],
            "type": "histogram2d"
           }
          ],
          "histogram2dcontour": [
           {
            "colorbar": {
             "outlinewidth": 0,
             "ticks": ""
            },
            "colorscale": [
             [
              0,
              "#0d0887"
             ],
             [
              0.1111111111111111,
              "#46039f"
             ],
             [
              0.2222222222222222,
              "#7201a8"
             ],
             [
              0.3333333333333333,
              "#9c179e"
             ],
             [
              0.4444444444444444,
              "#bd3786"
             ],
             [
              0.5555555555555556,
              "#d8576b"
             ],
             [
              0.6666666666666666,
              "#ed7953"
             ],
             [
              0.7777777777777778,
              "#fb9f3a"
             ],
             [
              0.8888888888888888,
              "#fdca26"
             ],
             [
              1,
              "#f0f921"
             ]
            ],
            "type": "histogram2dcontour"
           }
          ],
          "mesh3d": [
           {
            "colorbar": {
             "outlinewidth": 0,
             "ticks": ""
            },
            "type": "mesh3d"
           }
          ],
          "parcoords": [
           {
            "line": {
             "colorbar": {
              "outlinewidth": 0,
              "ticks": ""
             }
            },
            "type": "parcoords"
           }
          ],
          "pie": [
           {
            "automargin": true,
            "type": "pie"
           }
          ],
          "scatter": [
           {
            "fillpattern": {
             "fillmode": "overlay",
             "size": 10,
             "solidity": 0.2
            },
            "type": "scatter"
           }
          ],
          "scatter3d": [
           {
            "line": {
             "colorbar": {
              "outlinewidth": 0,
              "ticks": ""
             }
            },
            "marker": {
             "colorbar": {
              "outlinewidth": 0,
              "ticks": ""
             }
            },
            "type": "scatter3d"
           }
          ],
          "scattercarpet": [
           {
            "marker": {
             "colorbar": {
              "outlinewidth": 0,
              "ticks": ""
             }
            },
            "type": "scattercarpet"
           }
          ],
          "scattergeo": [
           {
            "marker": {
             "colorbar": {
              "outlinewidth": 0,
              "ticks": ""
             }
            },
            "type": "scattergeo"
           }
          ],
          "scattergl": [
           {
            "marker": {
             "colorbar": {
              "outlinewidth": 0,
              "ticks": ""
             }
            },
            "type": "scattergl"
           }
          ],
          "scattermapbox": [
           {
            "marker": {
             "colorbar": {
              "outlinewidth": 0,
              "ticks": ""
             }
            },
            "type": "scattermapbox"
           }
          ],
          "scatterpolar": [
           {
            "marker": {
             "colorbar": {
              "outlinewidth": 0,
              "ticks": ""
             }
            },
            "type": "scatterpolar"
           }
          ],
          "scatterpolargl": [
           {
            "marker": {
             "colorbar": {
              "outlinewidth": 0,
              "ticks": ""
             }
            },
            "type": "scatterpolargl"
           }
          ],
          "scatterternary": [
           {
            "marker": {
             "colorbar": {
              "outlinewidth": 0,
              "ticks": ""
             }
            },
            "type": "scatterternary"
           }
          ],
          "surface": [
           {
            "colorbar": {
             "outlinewidth": 0,
             "ticks": ""
            },
            "colorscale": [
             [
              0,
              "#0d0887"
             ],
             [
              0.1111111111111111,
              "#46039f"
             ],
             [
              0.2222222222222222,
              "#7201a8"
             ],
             [
              0.3333333333333333,
              "#9c179e"
             ],
             [
              0.4444444444444444,
              "#bd3786"
             ],
             [
              0.5555555555555556,
              "#d8576b"
             ],
             [
              0.6666666666666666,
              "#ed7953"
             ],
             [
              0.7777777777777778,
              "#fb9f3a"
             ],
             [
              0.8888888888888888,
              "#fdca26"
             ],
             [
              1,
              "#f0f921"
             ]
            ],
            "type": "surface"
           }
          ],
          "table": [
           {
            "cells": {
             "fill": {
              "color": "#EBF0F8"
             },
             "line": {
              "color": "white"
             }
            },
            "header": {
             "fill": {
              "color": "#C8D4E3"
             },
             "line": {
              "color": "white"
             }
            },
            "type": "table"
           }
          ]
         },
         "layout": {
          "annotationdefaults": {
           "arrowcolor": "#2a3f5f",
           "arrowhead": 0,
           "arrowwidth": 1
          },
          "autotypenumbers": "strict",
          "coloraxis": {
           "colorbar": {
            "outlinewidth": 0,
            "ticks": ""
           }
          },
          "colorscale": {
           "diverging": [
            [
             0,
             "#8e0152"
            ],
            [
             0.1,
             "#c51b7d"
            ],
            [
             0.2,
             "#de77ae"
            ],
            [
             0.3,
             "#f1b6da"
            ],
            [
             0.4,
             "#fde0ef"
            ],
            [
             0.5,
             "#f7f7f7"
            ],
            [
             0.6,
             "#e6f5d0"
            ],
            [
             0.7,
             "#b8e186"
            ],
            [
             0.8,
             "#7fbc41"
            ],
            [
             0.9,
             "#4d9221"
            ],
            [
             1,
             "#276419"
            ]
           ],
           "sequential": [
            [
             0,
             "#0d0887"
            ],
            [
             0.1111111111111111,
             "#46039f"
            ],
            [
             0.2222222222222222,
             "#7201a8"
            ],
            [
             0.3333333333333333,
             "#9c179e"
            ],
            [
             0.4444444444444444,
             "#bd3786"
            ],
            [
             0.5555555555555556,
             "#d8576b"
            ],
            [
             0.6666666666666666,
             "#ed7953"
            ],
            [
             0.7777777777777778,
             "#fb9f3a"
            ],
            [
             0.8888888888888888,
             "#fdca26"
            ],
            [
             1,
             "#f0f921"
            ]
           ],
           "sequentialminus": [
            [
             0,
             "#0d0887"
            ],
            [
             0.1111111111111111,
             "#46039f"
            ],
            [
             0.2222222222222222,
             "#7201a8"
            ],
            [
             0.3333333333333333,
             "#9c179e"
            ],
            [
             0.4444444444444444,
             "#bd3786"
            ],
            [
             0.5555555555555556,
             "#d8576b"
            ],
            [
             0.6666666666666666,
             "#ed7953"
            ],
            [
             0.7777777777777778,
             "#fb9f3a"
            ],
            [
             0.8888888888888888,
             "#fdca26"
            ],
            [
             1,
             "#f0f921"
            ]
           ]
          },
          "colorway": [
           "#636efa",
           "#EF553B",
           "#00cc96",
           "#ab63fa",
           "#FFA15A",
           "#19d3f3",
           "#FF6692",
           "#B6E880",
           "#FF97FF",
           "#FECB52"
          ],
          "font": {
           "color": "#2a3f5f"
          },
          "geo": {
           "bgcolor": "white",
           "lakecolor": "white",
           "landcolor": "#E5ECF6",
           "showlakes": true,
           "showland": true,
           "subunitcolor": "white"
          },
          "hoverlabel": {
           "align": "left"
          },
          "hovermode": "closest",
          "mapbox": {
           "style": "light"
          },
          "paper_bgcolor": "white",
          "plot_bgcolor": "#E5ECF6",
          "polar": {
           "angularaxis": {
            "gridcolor": "white",
            "linecolor": "white",
            "ticks": ""
           },
           "bgcolor": "#E5ECF6",
           "radialaxis": {
            "gridcolor": "white",
            "linecolor": "white",
            "ticks": ""
           }
          },
          "scene": {
           "xaxis": {
            "backgroundcolor": "#E5ECF6",
            "gridcolor": "white",
            "gridwidth": 2,
            "linecolor": "white",
            "showbackground": true,
            "ticks": "",
            "zerolinecolor": "white"
           },
           "yaxis": {
            "backgroundcolor": "#E5ECF6",
            "gridcolor": "white",
            "gridwidth": 2,
            "linecolor": "white",
            "showbackground": true,
            "ticks": "",
            "zerolinecolor": "white"
           },
           "zaxis": {
            "backgroundcolor": "#E5ECF6",
            "gridcolor": "white",
            "gridwidth": 2,
            "linecolor": "white",
            "showbackground": true,
            "ticks": "",
            "zerolinecolor": "white"
           }
          },
          "shapedefaults": {
           "line": {
            "color": "#2a3f5f"
           }
          },
          "ternary": {
           "aaxis": {
            "gridcolor": "white",
            "linecolor": "white",
            "ticks": ""
           },
           "baxis": {
            "gridcolor": "white",
            "linecolor": "white",
            "ticks": ""
           },
           "bgcolor": "#E5ECF6",
           "caxis": {
            "gridcolor": "white",
            "linecolor": "white",
            "ticks": ""
           }
          },
          "title": {
           "x": 0.05
          },
          "xaxis": {
           "automargin": true,
           "gridcolor": "white",
           "linecolor": "white",
           "ticks": "",
           "title": {
            "standoff": 15
           },
           "zerolinecolor": "white",
           "zerolinewidth": 2
          },
          "yaxis": {
           "automargin": true,
           "gridcolor": "white",
           "linecolor": "white",
           "ticks": "",
           "title": {
            "standoff": 15
           },
           "zerolinecolor": "white",
           "zerolinewidth": 2
          }
         }
        },
        "title": {
         "text": "Promedio de Montos por Fecha"
        },
        "xaxis": {
         "anchor": "y",
         "autorange": true,
         "domain": [
          0,
          1
         ],
         "range": [
          "2019-11-01",
          "2023-11-01"
         ],
         "title": {
          "text": "Fecha"
         },
         "type": "date"
        },
        "yaxis": {
         "anchor": "x",
         "autorange": true,
         "domain": [
          0,
          1
         ],
         "range": [
          159.48321024265442,
          281.17322748373516
         ],
         "title": {
          "text": "Monto Promedio"
         },
         "type": "linear"
        }
       }
      },
      "image/png": "[encoded data removed]",
      "text/html": [
       "<div>                            <div id=\"4516ff7e-7e07-4f2f-971b-fadbe119e888\" class=\"plotly-graph-div\" style=\"height:525px; width:100%;\"></div>            <script type=\"text/javascript\">                require([\"plotly\"], function(Plotly) {                    window.PLOTLYENV=window.PLOTLYENV || {};                                    if (document.getElementById(\"4516ff7e-7e07-4f2f-971b-fadbe119e888\")) {                    Plotly.newPlot(                        \"4516ff7e-7e07-4f2f-971b-fadbe119e888\",                        [{\"hovertemplate\":\"Fecha=%{x}<br>Monto Promedio=%{y}<extra></extra>\",\"legendgroup\":\"\",\"line\":{\"color\":\"#636efa\",\"dash\":\"solid\"},\"marker\":{\"symbol\":\"circle\"},\"mode\":\"lines\",\"name\":\"\",\"orientation\":\"v\",\"showlegend\":false,\"x\":[\"2019-11-01T00:00:00\",\"2019-12-01T00:00:00\",\"2020-01-01T00:00:00\",\"2020-02-01T00:00:00\",\"2020-03-01T00:00:00\",\"2020-04-01T00:00:00\",\"2020-05-01T00:00:00\",\"2020-06-01T00:00:00\",\"2020-07-01T00:00:00\",\"2020-08-01T00:00:00\",\"2020-09-01T00:00:00\",\"2020-10-01T00:00:00\",\"2020-11-01T00:00:00\",\"2020-12-01T00:00:00\",\"2021-01-01T00:00:00\",\"2021-02-01T00:00:00\",\"2021-03-01T00:00:00\",\"2021-04-01T00:00:00\",\"2021-05-01T00:00:00\",\"2021-06-01T00:00:00\",\"2021-07-01T00:00:00\",\"2021-08-01T00:00:00\",\"2021-09-01T00:00:00\",\"2021-10-01T00:00:00\",\"2021-11-01T00:00:00\",\"2021-12-01T00:00:00\",\"2022-01-01T00:00:00\",\"2022-02-01T00:00:00\",\"2022-03-01T00:00:00\",\"2022-04-01T00:00:00\",\"2022-05-01T00:00:00\",\"2022-06-01T00:00:00\",\"2022-07-01T00:00:00\",\"2022-08-01T00:00:00\",\"2022-09-01T00:00:00\",\"2022-10-01T00:00:00\",\"2022-11-01T00:00:00\",\"2022-12-01T00:00:00\",\"2023-01-01T00:00:00\",\"2023-02-01T00:00:00\",\"2023-03-01T00:00:00\",\"2023-04-01T00:00:00\",\"2023-05-01T00:00:00\",\"2023-06-01T00:00:00\",\"2023-07-01T00:00:00\",\"2023-08-01T00:00:00\",\"2023-09-01T00:00:00\",\"2023-10-01T00:00:00\",\"2023-11-01T00:00:00\"],\"xaxis\":\"x\",\"y\":[195.23997038771802,196.6458034462612,178.34119896304412,174.83155449868914,194.97272688030995,219.5421950634701,249.19285992221006,246.32626106822718,245.76668469042366,234.15451962457314,217.24517647714364,220.7832499520179,198.13846901596764,194.39215042180894,169.44566486152894,168.1417177232637,210.0489479040231,212.1041791098239,224.5219494958023,228.7022336982821,225.4290263403178,219.87536453091215,216.10680121133427,210.74448394473325,192.471542958381,205.42497298817133,165.56771110470845,168.98365971231163,212.0921480974923,219.48535106899536,237.2960655463778,240.7321233104814,237.08747258518355,237.233069025686,218.536229496401,204.73655842014819,191.318984506089,205.94241470128117,179.9637241650695,178.86561909718588,226.94597258248245,222.17872774211034,248.80622000306008,270.1607229262122,267.12821841156483,275.08872662168113,262.89484786627503,233.9630719343165,220.08796467779123],\"yaxis\":\"y\",\"type\":\"scatter\"}],                        {\"template\":{\"data\":{\"histogram2dcontour\":[{\"type\":\"histogram2dcontour\",\"colorbar\":{\"outlinewidth\":0,\"ticks\":\"\"},\"colorscale\":[[0.0,\"#0d0887\"],[0.1111111111111111,\"#46039f\"],[0.2222222222222222,\"#7201a8\"],[0.3333333333333333,\"#9c179e\"],[0.4444444444444444,\"#bd3786\"],[0.5555555555555556,\"#d8576b\"],[0.6666666666666666,\"#ed7953\"],[0.7777777777777778,\"#fb9f3a\"],[0.8888888888888888,\"#fdca26\"],[1.0,\"#f0f921\"]]}],\"choropleth\":[{\"type\":\"choropleth\",\"colorbar\":{\"outlinewidth\":0,\"ticks\":\"\"}}],\"histogram2d\":[{\"type\":\"histogram2d\",\"colorbar\":{\"outlinewidth\":0,\"ticks\":\"\"},\"colorscale\":[[0.0,\"#0d0887\"],[0.1111111111111111,\"#46039f\"],[0.2222222222222222,\"#7201a8\"],[0.3333333333333333,\"#9c179e\"],[0.4444444444444444,\"#bd3786\"],[0.5555555555555556,\"#d8576b\"],[0.6666666666666666,\"#ed7953\"],[0.7777777777777778,\"#fb9f3a\"],[0.8888888888888888,\"#fdca26\"],[1.0,\"#f0f921\"]]}],\"heatmap\":[{\"type\":\"heatmap\",\"colorbar\":{\"outlinewidth\":0,\"ticks\":\"\"},\"colorscale\":[[0.0,\"#0d0887\"],[0.1111111111111111,\"#46039f\"],[0.2222222222222222,\"#7201a8\"],[0.3333333333333333,\"#9c179e\"],[0.4444444444444444,\"#bd3786\"],[0.5555555555555556,\"#d8576b\"],[0.6666666666666666,\"#ed7953\"],[0.7777777777777778,\"#fb9f3a\"],[0.8888888888888888,\"#fdca26\"],[1.0,\"#f0f921\"]]}],\"heatmapgl\":[{\"type\":\"heatmapgl\",\"colorbar\":{\"outlinewidth\":0,\"ticks\":\"\"},\"colorscale\":[[0.0,\"#0d0887\"],[0.1111111111111111,\"#46039f\"],[0.2222222222222222,\"#7201a8\"],[0.3333333333333333,\"#9c179e\"],[0.4444444444444444,\"#bd3786\"],[0.5555555555555556,\"#d8576b\"],[0.6666666666666666,\"#ed7953\"],[0.7777777777777778,\"#fb9f3a\"],[0.8888888888888888,\"#fdca26\"],[1.0,\"#f0f921\"]]}],\"contourcarpet\":[{\"type\":\"contourcarpet\",\"colorbar\":{\"outlinewidth\":0,\"ticks\":\"\"}}],\"contour\":[{\"type\":\"contour\",\"colorbar\":{\"outlinewidth\":0,\"ticks\":\"\"},\"colorscale\":[[0.0,\"#0d0887\"],[0.1111111111111111,\"#46039f\"],[0.2222222222222222,\"#7201a8\"],[0.3333333333333333,\"#9c179e\"],[0.4444444444444444,\"#bd3786\"],[0.5555555555555556,\"#d8576b\"],[0.6666666666666666,\"#ed7953\"],[0.7777777777777778,\"#fb9f3a\"],[0.8888888888888888,\"#fdca26\"],[1.0,\"#f0f921\"]]}],\"surface\":[{\"type\":\"surface\",\"colorbar\":{\"outlinewidth\":0,\"ticks\":\"\"},\"colorscale\":[[0.0,\"#0d0887\"],[0.1111111111111111,\"#46039f\"],[0.2222222222222222,\"#7201a8\"],[0.3333333333333333,\"#9c179e\"],[0.4444444444444444,\"#bd3786\"],[0.5555555555555556,\"#d8576b\"],[0.6666666666666666,\"#ed7953\"],[0.7777777777777778,\"#fb9f3a\"],[0.8888888888888888,\"#fdca26\"],[1.0,\"#f0f921\"]]}],\"mesh3d\":[{\"type\":\"mesh3d\",\"colorbar\":{\"outlinewidth\":0,\"ticks\":\"\"}}],\"scatter\":[{\"fillpattern\":{\"fillmode\":\"overlay\",\"size\":10,\"solidity\":0.2},\"type\":\"scatter\"}],\"parcoords\":[{\"type\":\"parcoords\",\"line\":{\"colorbar\":{\"outlinewidth\":0,\"ticks\":\"\"}}}],\"scatterpolargl\":[{\"type\":\"scatterpolargl\",\"marker\":{\"colorbar\":{\"outlinewidth\":0,\"ticks\":\"\"}}}],\"bar\":[{\"error_x\":{\"color\":\"#2a3f5f\"},\"error_y\":{\"color\":\"#2a3f5f\"},\"marker\":{\"line\":{\"color\":\"#E5ECF6\",\"width\":0.5},\"pattern\":{\"fillmode\":\"overlay\",\"size\":10,\"solidity\":0.2}},\"type\":\"bar\"}],\"scattergeo\":[{\"type\":\"scattergeo\",\"marker\":{\"colorbar\":{\"outlinewidth\":0,\"ticks\":\"\"}}}],\"scatterpolar\":[{\"type\":\"scatterpolar\",\"marker\":{\"colorbar\":{\"outlinewidth\":0,\"ticks\":\"\"}}}],\"histogram\":[{\"marker\":{\"pattern\":{\"fillmode\":\"overlay\",\"size\":10,\"solidity\":0.2}},\"type\":\"histogram\"}],\"scattergl\":[{\"type\":\"scattergl\",\"marker\":{\"colorbar\":{\"outlinewidth\":0,\"ticks\":\"\"}}}],\"scatter3d\":[{\"type\":\"scatter3d\",\"line\":{\"colorbar\":{\"outlinewidth\":0,\"ticks\":\"\"}},\"marker\":{\"colorbar\":{\"outlinewidth\":0,\"ticks\":\"\"}}}],\"scattermapbox\":[{\"type\":\"scattermapbox\",\"marker\":{\"colorbar\":{\"outlinewidth\":0,\"ticks\":\"\"}}}],\"scatterternary\":[{\"type\":\"scatterternary\",\"marker\":{\"colorbar\":{\"outlinewidth\":0,\"ticks\":\"\"}}}],\"scattercarpet\":[{\"type\":\"scattercarpet\",\"marker\":{\"colorbar\":{\"outlinewidth\":0,\"ticks\":\"\"}}}],\"carpet\":[{\"aaxis\":{\"endlinecolor\":\"#2a3f5f\",\"gridcolor\":\"white\",\"linecolor\":\"white\",\"minorgridcolor\":\"white\",\"startlinecolor\":\"#2a3f5f\"},\"baxis\":{\"endlinecolor\":\"#2a3f5f\",\"gridcolor\":\"white\",\"linecolor\":\"white\",\"minorgridcolor\":\"white\",\"startlinecolor\":\"#2a3f5f\"},\"type\":\"carpet\"}],\"table\":[{\"cells\":{\"fill\":{\"color\":\"#EBF0F8\"},\"line\":{\"color\":\"white\"}},\"header\":{\"fill\":{\"color\":\"#C8D4E3\"},\"line\":{\"color\":\"white\"}},\"type\":\"table\"}],\"barpolar\":[{\"marker\":{\"line\":{\"color\":\"#E5ECF6\",\"width\":0.5},\"pattern\":{\"fillmode\":\"overlay\",\"size\":10,\"solidity\":0.2}},\"type\":\"barpolar\"}],\"pie\":[{\"automargin\":true,\"type\":\"pie\"}]},\"layout\":{\"autotypenumbers\":\"strict\",\"colorway\":[\"#636efa\",\"#EF553B\",\"#00cc96\",\"#ab63fa\",\"#FFA15A\",\"#19d3f3\",\"#FF6692\",\"#B6E880\",\"#FF97FF\",\"#FECB52\"],\"font\":{\"color\":\"#2a3f5f\"},\"hovermode\":\"closest\",\"hoverlabel\":{\"align\":\"left\"},\"paper_bgcolor\":\"white\",\"plot_bgcolor\":\"#E5ECF6\",\"polar\":{\"bgcolor\":\"#E5ECF6\",\"angularaxis\":{\"gridcolor\":\"white\",\"linecolor\":\"white\",\"ticks\":\"\"},\"radialaxis\":{\"gridcolor\":\"white\",\"linecolor\":\"white\",\"ticks\":\"\"}},\"ternary\":{\"bgcolor\":\"#E5ECF6\",\"aaxis\":{\"gridcolor\":\"white\",\"linecolor\":\"white\",\"ticks\":\"\"},\"baxis\":{\"gridcolor\":\"white\",\"linecolor\":\"white\",\"ticks\":\"\"},\"caxis\":{\"gridcolor\":\"white\",\"linecolor\":\"white\",\"ticks\":\"\"}},\"coloraxis\":{\"colorbar\":{\"outlinewidth\":0,\"ticks\":\"\"}},\"colorscale\":{\"sequential\":[[0.0,\"#0d0887\"],[0.1111111111111111,\"#46039f\"],[0.2222222222222222,\"#7201a8\"],[0.3333333333333333,\"#9c179e\"],[0.4444444444444444,\"#bd3786\"],[0.5555555555555556,\"#d8576b\"],[0.6666666666666666,\"#ed7953\"],[0.7777777777777778,\"#fb9f3a\"],[0.8888888888888888,\"#fdca26\"],[1.0,\"#f0f921\"]],\"sequentialminus\":[[0.0,\"#0d0887\"],[0.1111111111111111,\"#46039f\"],[0.2222222222222222,\"#7201a8\"],[0.3333333333333333,\"#9c179e\"],[0.4444444444444444,\"#bd3786\"],[0.5555555555555556,\"#d8576b\"],[0.6666666666666666,\"#ed7953\"],[0.7777777777777778,\"#fb9f3a\"],[0.8888888888888888,\"#fdca26\"],[1.0,\"#f0f921\"]],\"diverging\":[[0,\"#8e0152\"],[0.1,\"#c51b7d\"],[0.2,\"#de77ae\"],[0.3,\"#f1b6da\"],[0.4,\"#fde0ef\"],[0.5,\"#f7f7f7\"],[0.6,\"#e6f5d0\"],[0.7,\"#b8e186\"],[0.8,\"#7fbc41\"],[0.9,\"#4d9221\"],[1,\"#276419\"]]},\"xaxis\":{\"gridcolor\":\"white\",\"linecolor\":\"white\",\"ticks\":\"\",\"title\":{\"standoff\":15},\"zerolinecolor\":\"white\",\"automargin\":true,\"zerolinewidth\":2},\"yaxis\":{\"gridcolor\":\"white\",\"linecolor\":\"white\",\"ticks\":\"\",\"title\":{\"standoff\":15},\"zerolinecolor\":\"white\",\"automargin\":true,\"zerolinewidth\":2},\"scene\":{\"xaxis\":{\"backgroundcolor\":\"#E5ECF6\",\"gridcolor\":\"white\",\"linecolor\":\"white\",\"showbackground\":true,\"ticks\":\"\",\"zerolinecolor\":\"white\",\"gridwidth\":2},\"yaxis\":{\"backgroundcolor\":\"#E5ECF6\",\"gridcolor\":\"white\",\"linecolor\":\"white\",\"showbackground\":true,\"ticks\":\"\",\"zerolinecolor\":\"white\",\"gridwidth\":2},\"zaxis\":{\"backgroundcolor\":\"#E5ECF6\",\"gridcolor\":\"white\",\"linecolor\":\"white\",\"showbackground\":true,\"ticks\":\"\",\"zerolinecolor\":\"white\",\"gridwidth\":2}},\"shapedefaults\":{\"line\":{\"color\":\"#2a3f5f\"}},\"annotationdefaults\":{\"arrowcolor\":\"#2a3f5f\",\"arrowhead\":0,\"arrowwidth\":1},\"geo\":{\"bgcolor\":\"white\",\"landcolor\":\"#E5ECF6\",\"subunitcolor\":\"white\",\"showland\":true,\"showlakes\":true,\"lakecolor\":\"white\"},\"title\":{\"x\":0.05},\"mapbox\":{\"style\":\"light\"}}},\"xaxis\":{\"anchor\":\"y\",\"domain\":[0.0,1.0],\"title\":{\"text\":\"Fecha\"}},\"yaxis\":{\"anchor\":\"x\",\"domain\":[0.0,1.0],\"title\":{\"text\":\"Monto Promedio\"}},\"legend\":{\"tracegroupgap\":0},\"title\":{\"text\":\"Promedio de Montos por Fecha\"}},                        {\"responsive\": true}                    ).then(function(){\n",
       "                            \n",
       "var gd = document.getElementById('4516ff7e-7e07-4f2f-971b-fadbe119e888');\n",
       "var x = new MutationObserver(function (mutations, observer) {{\n",
       "        var display = window.getComputedStyle(gd).display;\n",
       "        if (!display || display === 'none') {{\n",
       "            console.log([gd, 'removed!']);\n",
       "            Plotly.purge(gd);\n",
       "            observer.disconnect();\n",
       "        }}\n",
       "}});\n",
       "\n",
       "// Listen for the removal of the full notebook cells\n",
       "var notebookContainer = gd.closest('#notebook-container');\n",
       "if (notebookContainer) {{\n",
       "    x.observe(notebookContainer, {childList: true});\n",
       "}}\n",
       "\n",
       "// Listen for the clearing of the current output cell\n",
       "var outputEl = gd.closest('.output');\n",
       "if (outputEl) {{\n",
       "    x.observe(outputEl, {childList: true});\n",
       "}}\n",
       "\n",
       "                        })                };                });            </script>        </div>"
      ]
     },
     "metadata": {},
     "output_type": "display_data"
    }
   ],
   "source": [
    "fig = px.line(df_avg, x='date', y='amount', title='Promedio de Montos por Fecha', labels={'date': 'Fecha', 'amount': 'Monto Promedio'})\n",
    "\n",
    "# Mostrar la gráfica\n",
    "fig.show()"
   ]
  },
  {
   "cell_type": "code",
   "execution_count": 83,
   "id": "b1795533-a28e-4685-add0-10077677ae5a",
   "metadata": {
    "tags": []
   },
   "outputs": [],
   "source": [
    "df_avg2 = full_db.groupby(['date', 'type'], as_index=False)['amount'].mean()"
   ]
  },
  {
   "cell_type": "code",
   "execution_count": 84,
   "id": "6a416cf7-7ab8-4f91-b217-e89c238df06e",
   "metadata": {
    "tags": []
   },
   "outputs": [
    {
     "name": "stderr",
     "output_type": "stream",
     "text": [
      "C:\\Users\\oabanderas\\AppData\\Local\\anaconda3\\Lib\\site-packages\\_plotly_utils\\basevalidators.py:106: FutureWarning:\n",
      "\n",
      "The behavior of DatetimeProperties.to_pydatetime is deprecated, in a future version this will return a Series containing python datetime objects instead of an ndarray. To retain the old behavior, call `np.array` on the result\n",
      "\n"
     ]
    },
    {
     "data": {
      "application/vnd.plotly.v1+json": {
       "config": {
        "plotlyServerURL": "https://plot.ly"
       },
       "data": [
        {
         "hovertemplate": "Tipo de Tienda=Abarrotes / Almacenes / Bodegas / Víveres<br>Fecha=%{x}<br>Monto Promedio=%{y}<extra></extra>",
         "legendgroup": "Abarrotes / Almacenes / Bodegas / Víveres",
         "line": {
          "color": "#636efa",
          "dash": "solid"
         },
         "marker": {
          "symbol": "circle"
         },
         "mode": "lines",
         "name": "Abarrotes / Almacenes / Bodegas / Víveres",
         "orientation": "v",
         "showlegend": true,
         "type": "scatter",
         "x": [
          "2019-11-01T00:00:00",
          "2019-12-01T00:00:00",
          "2020-01-01T00:00:00",
          "2020-02-01T00:00:00",
          "2020-03-01T00:00:00",
          "2020-04-01T00:00:00",
          "2020-05-01T00:00:00",
          "2020-06-01T00:00:00",
          "2020-07-01T00:00:00",
          "2020-08-01T00:00:00",
          "2020-09-01T00:00:00",
          "2020-10-01T00:00:00",
          "2020-11-01T00:00:00",
          "2020-12-01T00:00:00",
          "2021-01-01T00:00:00",
          "2021-02-01T00:00:00",
          "2021-03-01T00:00:00",
          "2021-04-01T00:00:00",
          "2021-05-01T00:00:00",
          "2021-06-01T00:00:00",
          "2021-07-01T00:00:00",
          "2021-08-01T00:00:00",
          "2021-09-01T00:00:00",
          "2021-10-01T00:00:00",
          "2021-11-01T00:00:00",
          "2021-12-01T00:00:00",
          "2022-01-01T00:00:00",
          "2022-02-01T00:00:00",
          "2022-03-01T00:00:00",
          "2022-04-01T00:00:00",
          "2022-05-01T00:00:00",
          "2022-06-01T00:00:00",
          "2022-07-01T00:00:00",
          "2022-08-01T00:00:00",
          "2022-09-01T00:00:00",
          "2022-10-01T00:00:00",
          "2022-11-01T00:00:00",
          "2022-12-01T00:00:00",
          "2023-01-01T00:00:00",
          "2023-02-01T00:00:00",
          "2023-03-01T00:00:00",
          "2023-04-01T00:00:00",
          "2023-05-01T00:00:00",
          "2023-06-01T00:00:00",
          "2023-07-01T00:00:00",
          "2023-08-01T00:00:00",
          "2023-09-01T00:00:00",
          "2023-10-01T00:00:00",
          "2023-11-01T00:00:00"
         ],
         "xaxis": "x",
         "y": [
          319.8588180374952,
          319.16808083877,
          285.74900254476694,
          278.94191091783694,
          304.62194454874935,
          341.6622774866339,
          383.9440435551274,
          378.94262461516126,
          375.6144267166442,
          359.15750380455154,
          331.7756756496384,
          338.2762446426669,
          306.9323979265324,
          300.8680647166593,
          261.5461096733426,
          259.0000378989389,
          321.5838923385327,
          325.49576823056253,
          346.0516019033011,
          351.35271446335435,
          347.4418395289235,
          336.84773493339793,
          329.54003308730233,
          324.00471759781067,
          296.08174366204395,
          315.3748057012055,
          254.49504705658288,
          261.03283132153365,
          324.6763990603814,
          332.96160986482556,
          361.91458516653205,
          367.3677096710879,
          359.1600145304564,
          361.0002419675599,
          334.0417430405427,
          315.69596822488325,
          294.1852574327574,
          317.0920689516731,
          274.6340182847309,
          274.5791670478851,
          344.4684519198004,
          338.4669323191133,
          380.3415953480264,
          411.4947085650564,
          406.2626872291194,
          418.62810477091676,
          404.54928588142997,
          361.65847080751394,
          344.1658082214774
         ],
         "yaxis": "y"
        },
        {
         "hovertemplate": "Tipo de Tienda=Carnicería / Pollería / Pescadería<br>Fecha=%{x}<br>Monto Promedio=%{y}<extra></extra>",
         "legendgroup": "Carnicería / Pollería / Pescadería",
         "line": {
          "color": "#EF553B",
          "dash": "solid"
         },
         "marker": {
          "symbol": "circle"
         },
         "mode": "lines",
         "name": "Carnicería / Pollería / Pescadería",
         "orientation": "v",
         "showlegend": true,
         "type": "scatter",
         "x": [
          "2019-11-01T00:00:00",
          "2019-12-01T00:00:00",
          "2020-01-01T00:00:00",
          "2020-02-01T00:00:00",
          "2020-03-01T00:00:00",
          "2020-04-01T00:00:00",
          "2020-05-01T00:00:00",
          "2020-06-01T00:00:00",
          "2020-07-01T00:00:00",
          "2020-08-01T00:00:00",
          "2020-09-01T00:00:00",
          "2020-10-01T00:00:00",
          "2020-11-01T00:00:00",
          "2020-12-01T00:00:00",
          "2021-01-01T00:00:00",
          "2021-02-01T00:00:00",
          "2021-03-01T00:00:00",
          "2021-04-01T00:00:00",
          "2021-05-01T00:00:00",
          "2021-06-01T00:00:00",
          "2021-07-01T00:00:00",
          "2021-08-01T00:00:00",
          "2021-09-01T00:00:00",
          "2021-10-01T00:00:00",
          "2021-11-01T00:00:00",
          "2021-12-01T00:00:00",
          "2022-01-01T00:00:00",
          "2022-02-01T00:00:00",
          "2022-03-01T00:00:00",
          "2022-04-01T00:00:00",
          "2022-05-01T00:00:00",
          "2022-06-01T00:00:00",
          "2022-07-01T00:00:00",
          "2022-08-01T00:00:00",
          "2022-09-01T00:00:00",
          "2022-10-01T00:00:00",
          "2022-11-01T00:00:00",
          "2022-12-01T00:00:00",
          "2023-01-01T00:00:00",
          "2023-02-01T00:00:00",
          "2023-03-01T00:00:00",
          "2023-04-01T00:00:00",
          "2023-05-01T00:00:00",
          "2023-06-01T00:00:00",
          "2023-07-01T00:00:00",
          "2023-08-01T00:00:00",
          "2023-09-01T00:00:00",
          "2023-10-01T00:00:00",
          "2023-11-01T00:00:00"
         ],
         "xaxis": "x",
         "y": [
          197.05733708334353,
          200.33302115229358,
          178.8091169081114,
          172.79202165051115,
          196.80356845186748,
          214.9406539124551,
          249.71088433785545,
          239.88934574045535,
          246.02078001451707,
          232.07532520063003,
          214.40582012534247,
          216.34650711581924,
          192.6359001993841,
          190.1741190388858,
          161.42942222481915,
          158.30165840138272,
          199.88506355312157,
          196.22652338488624,
          210.57651736215783,
          213.87273719113722,
          212.3382566723754,
          209.50493429607428,
          209.54394606589108,
          198.80926596957912,
          178.62294699909864,
          196.82730483533192,
          150.69315191925133,
          157.3136320780763,
          196.85809926131623,
          204.05626664037533,
          221.44261850277925,
          225.500919550775,
          224.4194176014431,
          225.13041644094574,
          209.4732086839785,
          186.4099356817546,
          175.26608437743673,
          191.88387681829005,
          164.14963031659437,
          163.02314563867102,
          206.9647050519978,
          198.17050687855186,
          224.18987358868236,
          240.89318467175826,
          247.2731145670893,
          253.16479421025358,
          246.09365933262924,
          211.70437787878447,
          195.8134474205967
         ],
         "yaxis": "y"
        },
        {
         "hovertemplate": "Tipo de Tienda=Cerveza y Licores<br>Fecha=%{x}<br>Monto Promedio=%{y}<extra></extra>",
         "legendgroup": "Cerveza y Licores",
         "line": {
          "color": "#00cc96",
          "dash": "solid"
         },
         "marker": {
          "symbol": "circle"
         },
         "mode": "lines",
         "name": "Cerveza y Licores",
         "orientation": "v",
         "showlegend": true,
         "type": "scatter",
         "x": [
          "2019-11-01T00:00:00",
          "2019-12-01T00:00:00",
          "2020-01-01T00:00:00",
          "2020-02-01T00:00:00",
          "2020-03-01T00:00:00",
          "2020-04-01T00:00:00",
          "2020-05-01T00:00:00",
          "2020-06-01T00:00:00",
          "2020-07-01T00:00:00",
          "2020-08-01T00:00:00",
          "2020-09-01T00:00:00",
          "2020-10-01T00:00:00",
          "2020-11-01T00:00:00",
          "2020-12-01T00:00:00",
          "2021-01-01T00:00:00",
          "2021-02-01T00:00:00",
          "2021-03-01T00:00:00",
          "2021-04-01T00:00:00",
          "2021-05-01T00:00:00",
          "2021-06-01T00:00:00",
          "2021-07-01T00:00:00",
          "2021-08-01T00:00:00",
          "2021-09-01T00:00:00",
          "2021-10-01T00:00:00",
          "2021-11-01T00:00:00",
          "2021-12-01T00:00:00",
          "2022-01-01T00:00:00",
          "2022-02-01T00:00:00",
          "2022-03-01T00:00:00",
          "2022-04-01T00:00:00",
          "2022-05-01T00:00:00",
          "2022-06-01T00:00:00",
          "2022-07-01T00:00:00",
          "2022-08-01T00:00:00",
          "2022-09-01T00:00:00",
          "2022-10-01T00:00:00",
          "2022-11-01T00:00:00",
          "2022-12-01T00:00:00",
          "2023-01-01T00:00:00",
          "2023-02-01T00:00:00",
          "2023-03-01T00:00:00",
          "2023-04-01T00:00:00",
          "2023-05-01T00:00:00",
          "2023-06-01T00:00:00",
          "2023-07-01T00:00:00",
          "2023-08-01T00:00:00",
          "2023-09-01T00:00:00",
          "2023-10-01T00:00:00",
          "2023-11-01T00:00:00"
         ],
         "xaxis": "x",
         "y": [
          190.29996833661681,
          201.06750489737058,
          169.6423836865255,
          169.3070249302533,
          186.85788185724556,
          200.91269781779408,
          226.73214754680524,
          229.5685868360543,
          230.08049616643842,
          218.5918150573241,
          205.85164862948733,
          213.0360617863778,
          188.01691227040314,
          195.5653941657438,
          159.61279263013972,
          158.4943335309671,
          203.9434229187116,
          206.28544844943752,
          215.09479674882053,
          218.74375864996563,
          214.99711011556013,
          207.6289713928025,
          206.60683052543087,
          201.33455191884767,
          183.86092196875367,
          206.4216096670594,
          152.333310272015,
          159.0996069681818,
          201.7366881579261,
          211.76399211510227,
          228.74286869179429,
          227.36994122298046,
          222.51622339643328,
          220.52958801544534,
          203.48698330230667,
          189.78292689081238,
          179.0478353595101,
          202.64743951404165,
          164.610416312275,
          166.40798650876414,
          210.9634005910481,
          204.67970768596024,
          228.16438563819526,
          251.1690255588914,
          242.67814800683223,
          250.67126921591282,
          234.3954019463447,
          205.6897802772373,
          199.5895830060924
         ],
         "yaxis": "y"
        },
        {
         "hovertemplate": "Tipo de Tienda=Estanquillos / kioscos<br>Fecha=%{x}<br>Monto Promedio=%{y}<extra></extra>",
         "legendgroup": "Estanquillos / kioscos",
         "line": {
          "color": "#ab63fa",
          "dash": "solid"
         },
         "marker": {
          "symbol": "circle"
         },
         "mode": "lines",
         "name": "Estanquillos / kioscos",
         "orientation": "v",
         "showlegend": true,
         "type": "scatter",
         "x": [
          "2019-11-01T00:00:00",
          "2019-12-01T00:00:00",
          "2020-01-01T00:00:00",
          "2020-02-01T00:00:00",
          "2020-03-01T00:00:00",
          "2020-04-01T00:00:00",
          "2020-05-01T00:00:00",
          "2020-06-01T00:00:00",
          "2020-07-01T00:00:00",
          "2020-08-01T00:00:00",
          "2020-09-01T00:00:00",
          "2020-10-01T00:00:00",
          "2020-11-01T00:00:00",
          "2020-12-01T00:00:00",
          "2021-01-01T00:00:00",
          "2021-02-01T00:00:00",
          "2021-03-01T00:00:00",
          "2021-04-01T00:00:00",
          "2021-05-01T00:00:00",
          "2021-06-01T00:00:00",
          "2021-07-01T00:00:00",
          "2021-08-01T00:00:00",
          "2021-09-01T00:00:00",
          "2021-10-01T00:00:00",
          "2021-11-01T00:00:00",
          "2021-12-01T00:00:00",
          "2022-01-01T00:00:00",
          "2022-02-01T00:00:00",
          "2022-03-01T00:00:00",
          "2022-04-01T00:00:00",
          "2022-05-01T00:00:00",
          "2022-06-01T00:00:00",
          "2022-07-01T00:00:00",
          "2022-08-01T00:00:00",
          "2022-09-01T00:00:00",
          "2022-10-01T00:00:00",
          "2022-11-01T00:00:00",
          "2022-12-01T00:00:00",
          "2023-01-01T00:00:00",
          "2023-02-01T00:00:00",
          "2023-03-01T00:00:00",
          "2023-04-01T00:00:00",
          "2023-05-01T00:00:00",
          "2023-06-01T00:00:00",
          "2023-07-01T00:00:00",
          "2023-08-01T00:00:00",
          "2023-09-01T00:00:00",
          "2023-10-01T00:00:00",
          "2023-11-01T00:00:00"
         ],
         "xaxis": "x",
         "y": [
          194.92836355222676,
          199.04648657903988,
          184.10061710866952,
          178.88869439247344,
          203.5400488566103,
          231.0220362622727,
          262.24259778172444,
          258.9379179195726,
          260.21305502263067,
          248.6879797550895,
          231.59216114109162,
          234.69483019342798,
          209.73274939512297,
          206.17467720796245,
          182.75921659606058,
          180.9863989343135,
          226.22955409926413,
          229.32905088676793,
          243.4564355394482,
          249.2355251155371,
          245.3323300824029,
          241.84708368158428,
          235.10778705946174,
          227.44728770816266,
          206.0018098456098,
          220.31648194662102,
          179.05291587513165,
          178.86909654159626,
          226.04847551202704,
          234.72996991309273,
          253.078179327343,
          257.2787017425737,
          254.58183386657427,
          255.11985803318095,
          230.0742751645968,
          215.33442612940954,
          200.10949481627694,
          213.893760481758,
          191.39768665792334,
          187.7887740824228,
          238.66772255966185,
          232.13484111593334,
          258.2369206412132,
          281.96748443291483,
          277.58697244644867,
          287.0151835207039,
          271.66580473798336,
          239.1215048464748,
          219.72091704577875
         ],
         "yaxis": "y"
        },
        {
         "hovertemplate": "Tipo de Tienda=Farmacia Independiente<br>Fecha=%{x}<br>Monto Promedio=%{y}<extra></extra>",
         "legendgroup": "Farmacia Independiente",
         "line": {
          "color": "#FFA15A",
          "dash": "solid"
         },
         "marker": {
          "symbol": "circle"
         },
         "mode": "lines",
         "name": "Farmacia Independiente",
         "orientation": "v",
         "showlegend": true,
         "type": "scatter",
         "x": [
          "2019-11-01T00:00:00",
          "2019-12-01T00:00:00",
          "2020-01-01T00:00:00",
          "2020-02-01T00:00:00",
          "2020-03-01T00:00:00",
          "2020-04-01T00:00:00",
          "2020-05-01T00:00:00",
          "2020-06-01T00:00:00",
          "2020-07-01T00:00:00",
          "2020-08-01T00:00:00",
          "2020-09-01T00:00:00",
          "2020-10-01T00:00:00",
          "2020-11-01T00:00:00",
          "2020-12-01T00:00:00",
          "2021-01-01T00:00:00",
          "2021-02-01T00:00:00",
          "2021-03-01T00:00:00",
          "2021-04-01T00:00:00",
          "2021-05-01T00:00:00",
          "2021-06-01T00:00:00",
          "2021-07-01T00:00:00",
          "2021-08-01T00:00:00",
          "2021-09-01T00:00:00",
          "2021-10-01T00:00:00",
          "2021-11-01T00:00:00",
          "2021-12-01T00:00:00",
          "2022-01-01T00:00:00",
          "2022-02-01T00:00:00",
          "2022-03-01T00:00:00",
          "2022-04-01T00:00:00",
          "2022-05-01T00:00:00",
          "2022-06-01T00:00:00",
          "2022-07-01T00:00:00",
          "2022-08-01T00:00:00",
          "2022-09-01T00:00:00",
          "2022-10-01T00:00:00",
          "2022-11-01T00:00:00",
          "2022-12-01T00:00:00",
          "2023-01-01T00:00:00",
          "2023-02-01T00:00:00",
          "2023-03-01T00:00:00",
          "2023-04-01T00:00:00",
          "2023-05-01T00:00:00",
          "2023-06-01T00:00:00",
          "2023-07-01T00:00:00",
          "2023-08-01T00:00:00",
          "2023-09-01T00:00:00",
          "2023-10-01T00:00:00",
          "2023-11-01T00:00:00"
         ],
         "xaxis": "x",
         "y": [
          68.76454320468565,
          68.12358679571092,
          64.58117373571008,
          61.748453422778105,
          69.54467811475602,
          61.61704521588896,
          73.27181271305115,
          78.23223197443215,
          80.74452930998845,
          73.8802277463164,
          68.77898063803612,
          70.54576662972671,
          62.253720644518644,
          61.273645610459326,
          53.55086607400663,
          52.786336277387484,
          68.51761733834056,
          69.6531554210837,
          73.71772401953291,
          77.33816824294705,
          74.82389503972819,
          72.40920716179542,
          69.19931738563996,
          67.96410896429315,
          63.0495827616025,
          67.40331070167802,
          55.17602920975866,
          53.04636333082942,
          67.58052217702215,
          71.10312464910302,
          77.21379012377301,
          77.40141974410723,
          78.4276636260606,
          75.52326079385475,
          69.93330371773374,
          64.03150807385786,
          63.434549242776924,
          66.20534600529562,
          58.19875579311054,
          54.70618806659783,
          70.30619245085448,
          67.801259515625,
          78.36542528526043,
          87.69230837061883,
          83.38557892433421,
          83.10217782848868,
          78.49498481734747,
          68.51648660763888,
          65.94394456208609
         ],
         "yaxis": "y"
        },
        {
         "hovertemplate": "Tipo de Tienda=Frutas y Verduras<br>Fecha=%{x}<br>Monto Promedio=%{y}<extra></extra>",
         "legendgroup": "Frutas y Verduras",
         "line": {
          "color": "#19d3f3",
          "dash": "solid"
         },
         "marker": {
          "symbol": "circle"
         },
         "mode": "lines",
         "name": "Frutas y Verduras",
         "orientation": "v",
         "showlegend": true,
         "type": "scatter",
         "x": [
          "2019-11-01T00:00:00",
          "2019-12-01T00:00:00",
          "2020-01-01T00:00:00",
          "2020-02-01T00:00:00",
          "2020-03-01T00:00:00",
          "2020-04-01T00:00:00",
          "2020-05-01T00:00:00",
          "2020-06-01T00:00:00",
          "2020-07-01T00:00:00",
          "2020-08-01T00:00:00",
          "2020-09-01T00:00:00",
          "2020-10-01T00:00:00",
          "2020-11-01T00:00:00",
          "2020-12-01T00:00:00",
          "2021-01-01T00:00:00",
          "2021-02-01T00:00:00",
          "2021-03-01T00:00:00",
          "2021-04-01T00:00:00",
          "2021-05-01T00:00:00",
          "2021-06-01T00:00:00",
          "2021-07-01T00:00:00",
          "2021-08-01T00:00:00",
          "2021-09-01T00:00:00",
          "2021-10-01T00:00:00",
          "2021-11-01T00:00:00",
          "2021-12-01T00:00:00",
          "2022-01-01T00:00:00",
          "2022-02-01T00:00:00",
          "2022-03-01T00:00:00",
          "2022-04-01T00:00:00",
          "2022-05-01T00:00:00",
          "2022-06-01T00:00:00",
          "2022-07-01T00:00:00",
          "2022-08-01T00:00:00",
          "2022-09-01T00:00:00",
          "2022-10-01T00:00:00",
          "2022-11-01T00:00:00",
          "2022-12-01T00:00:00",
          "2023-01-01T00:00:00",
          "2023-02-01T00:00:00",
          "2023-03-01T00:00:00",
          "2023-04-01T00:00:00",
          "2023-05-01T00:00:00",
          "2023-06-01T00:00:00",
          "2023-07-01T00:00:00",
          "2023-08-01T00:00:00",
          "2023-09-01T00:00:00",
          "2023-10-01T00:00:00",
          "2023-11-01T00:00:00"
         ],
         "xaxis": "x",
         "y": [
          169.67963920589506,
          170.6497584452756,
          155.91884343614674,
          152.18760606745667,
          170.87070484940142,
          188.47894290768153,
          210.55987789361407,
          206.76159460325943,
          204.79620428036773,
          192.5028508388728,
          179.93234842129746,
          184.2964369305122,
          167.34157607890333,
          164.02131353231147,
          142.2662157433951,
          140.2256279437201,
          173.7151394584806,
          173.86528716901287,
          180.7361955151392,
          183.34321173879607,
          179.89371842627045,
          177.75249006035128,
          175.95554656720324,
          173.73810721086014,
          160.53920590377467,
          168.6484247568599,
          138.74765864231105,
          141.49159132024542,
          174.12806649714452,
          179.90628151334118,
          192.34401385363293,
          189.7279553903807,
          187.13288998913487,
          189.17584269296026,
          173.6982129607681,
          161.6726499399286,
          155.50266888593237,
          164.3640138311272,
          144.5556125996336,
          144.59252678264616,
          183.07667506373764,
          176.4698162681875,
          196.2022209266124,
          212.17457888650617,
          210.29923085337387,
          218.26855605106314,
          209.01238802185773,
          185.09021589735625,
          179.21418952968116
         ],
         "yaxis": "y"
        },
        {
         "hovertemplate": "Tipo de Tienda=Hogar con Venta<br>Fecha=%{x}<br>Monto Promedio=%{y}<extra></extra>",
         "legendgroup": "Hogar con Venta",
         "line": {
          "color": "#FF6692",
          "dash": "solid"
         },
         "marker": {
          "symbol": "circle"
         },
         "mode": "lines",
         "name": "Hogar con Venta",
         "orientation": "v",
         "showlegend": true,
         "type": "scatter",
         "x": [
          "2019-11-01T00:00:00",
          "2019-12-01T00:00:00",
          "2020-01-01T00:00:00",
          "2020-02-01T00:00:00",
          "2020-03-01T00:00:00",
          "2020-04-01T00:00:00",
          "2020-05-01T00:00:00",
          "2020-06-01T00:00:00",
          "2020-07-01T00:00:00",
          "2020-08-01T00:00:00",
          "2020-09-01T00:00:00",
          "2020-10-01T00:00:00",
          "2020-11-01T00:00:00",
          "2020-12-01T00:00:00",
          "2021-01-01T00:00:00",
          "2021-02-01T00:00:00",
          "2021-03-01T00:00:00",
          "2021-04-01T00:00:00",
          "2021-05-01T00:00:00",
          "2021-06-01T00:00:00",
          "2021-07-01T00:00:00",
          "2021-08-01T00:00:00",
          "2021-09-01T00:00:00",
          "2021-10-01T00:00:00",
          "2021-11-01T00:00:00",
          "2021-12-01T00:00:00",
          "2022-01-01T00:00:00",
          "2022-02-01T00:00:00",
          "2022-03-01T00:00:00",
          "2022-04-01T00:00:00",
          "2022-05-01T00:00:00",
          "2022-06-01T00:00:00",
          "2022-07-01T00:00:00",
          "2022-08-01T00:00:00",
          "2022-09-01T00:00:00",
          "2022-10-01T00:00:00",
          "2022-11-01T00:00:00",
          "2022-12-01T00:00:00",
          "2023-01-01T00:00:00",
          "2023-02-01T00:00:00",
          "2023-03-01T00:00:00",
          "2023-04-01T00:00:00",
          "2023-05-01T00:00:00",
          "2023-06-01T00:00:00",
          "2023-07-01T00:00:00",
          "2023-08-01T00:00:00",
          "2023-09-01T00:00:00",
          "2023-10-01T00:00:00",
          "2023-11-01T00:00:00"
         ],
         "xaxis": "x",
         "y": [
          80.98311065733975,
          77.60261660594395,
          73.5449625605032,
          71.88975293655233,
          82.27114530180661,
          94.24004403219713,
          109.77140996124616,
          110.19668247543747,
          110.71499570047881,
          104.95103052234468,
          97.13784792972717,
          97.46001311933313,
          85.60418140738292,
          80.48986793019192,
          71.97696504197238,
          72.63269483307299,
          90.15080816966987,
          90.17412471838624,
          94.74964983261766,
          97.94314170478498,
          94.85097718593491,
          92.290723646607,
          91.50084109139179,
          86.80054781561674,
          78.40786309710292,
          78.22176457306017,
          65.99478356000265,
          66.51057631339827,
          84.24322968203096,
          87.36960112582078,
          94.0732781863781,
          96.16118943969805,
          96.6094256475938,
          95.85491692371066,
          88.67582977631213,
          81.31856451655118,
          74.90635931207777,
          76.94203729128779,
          71.66547658194253,
          68.88898738266423,
          88.98141469130505,
          87.87013290216164,
          99.80856477980022,
          107.70877564011947,
          108.9656385964072,
          112.59231508904791,
          107.35255398050134,
          97.40706255393263,
          89.11114578264511
         ],
         "yaxis": "y"
        },
        {
         "hovertemplate": "Tipo de Tienda=Mayorista Abarrotero<br>Fecha=%{x}<br>Monto Promedio=%{y}<extra></extra>",
         "legendgroup": "Mayorista Abarrotero",
         "line": {
          "color": "#B6E880",
          "dash": "solid"
         },
         "marker": {
          "symbol": "circle"
         },
         "mode": "lines",
         "name": "Mayorista Abarrotero",
         "orientation": "v",
         "showlegend": true,
         "type": "scatter",
         "x": [
          "2019-11-01T00:00:00",
          "2019-12-01T00:00:00",
          "2020-01-01T00:00:00",
          "2020-02-01T00:00:00",
          "2020-03-01T00:00:00",
          "2020-04-01T00:00:00",
          "2020-05-01T00:00:00",
          "2020-06-01T00:00:00",
          "2020-07-01T00:00:00",
          "2020-08-01T00:00:00",
          "2020-09-01T00:00:00",
          "2020-10-01T00:00:00",
          "2020-11-01T00:00:00",
          "2020-12-01T00:00:00",
          "2021-01-01T00:00:00",
          "2021-02-01T00:00:00",
          "2021-03-01T00:00:00",
          "2021-04-01T00:00:00",
          "2021-05-01T00:00:00",
          "2021-06-01T00:00:00",
          "2021-07-01T00:00:00",
          "2021-08-01T00:00:00",
          "2021-09-01T00:00:00",
          "2021-10-01T00:00:00",
          "2021-11-01T00:00:00",
          "2021-12-01T00:00:00",
          "2022-01-01T00:00:00",
          "2022-02-01T00:00:00",
          "2022-03-01T00:00:00",
          "2022-04-01T00:00:00",
          "2022-05-01T00:00:00",
          "2022-06-01T00:00:00",
          "2022-07-01T00:00:00",
          "2022-08-01T00:00:00",
          "2022-09-01T00:00:00",
          "2022-10-01T00:00:00",
          "2022-11-01T00:00:00",
          "2022-12-01T00:00:00",
          "2023-01-01T00:00:00",
          "2023-02-01T00:00:00",
          "2023-03-01T00:00:00",
          "2023-04-01T00:00:00",
          "2023-05-01T00:00:00",
          "2023-06-01T00:00:00",
          "2023-07-01T00:00:00",
          "2023-08-01T00:00:00",
          "2023-09-01T00:00:00",
          "2023-10-01T00:00:00",
          "2023-11-01T00:00:00"
         ],
         "xaxis": "x",
         "y": [
          588.5943696228378,
          590.1360769502696,
          499.13860665142084,
          502.25342573910694,
          523.6668967419399,
          631.982073583402,
          738.9586050906336,
          726.4777556973794,
          704.5122658176066,
          674.8848617546832,
          613.8119754019257,
          623.7636707370013,
          568.4439081356653,
          561.5056285966988,
          481.97206768259673,
          458.54319352798353,
          605.0139833618982,
          621.5549020094134,
          671.0869970786291,
          658.8914110773891,
          647.9735432122312,
          625.0657016906757,
          603.5806401939353,
          627.5034388966033,
          559.6940572261225,
          626.8638826555102,
          476.56134813301105,
          488.0908215116183,
          620.3740032591667,
          654.1170123441341,
          732.9387805788218,
          736.8736172091293,
          685.8589573612676,
          684.4956871742937,
          654.5896182599432,
          573.2099666314735,
          556.2939718597422,
          607.3355763402018,
          468.1352219700146,
          512.5949023961709,
          661.7342330133531,
          660.6636057665172,
          741.4845437179217,
          790.0897686840602,
          814.2628029022694,
          811.3332493881818,
          748.8641734270517,
          671.3870617270229,
          636.3026234209628
         ],
         "yaxis": "y"
        },
        {
         "hovertemplate": "Tipo de Tienda=Minisuper / Minimarket<br>Fecha=%{x}<br>Monto Promedio=%{y}<extra></extra>",
         "legendgroup": "Minisuper / Minimarket",
         "line": {
          "color": "#FF97FF",
          "dash": "solid"
         },
         "marker": {
          "symbol": "circle"
         },
         "mode": "lines",
         "name": "Minisuper / Minimarket",
         "orientation": "v",
         "showlegend": true,
         "type": "scatter",
         "x": [
          "2019-11-01T00:00:00",
          "2019-12-01T00:00:00",
          "2020-01-01T00:00:00",
          "2020-02-01T00:00:00",
          "2020-03-01T00:00:00",
          "2020-04-01T00:00:00",
          "2020-05-01T00:00:00",
          "2020-06-01T00:00:00",
          "2020-07-01T00:00:00",
          "2020-08-01T00:00:00",
          "2020-09-01T00:00:00",
          "2020-10-01T00:00:00",
          "2020-11-01T00:00:00",
          "2020-12-01T00:00:00",
          "2021-01-01T00:00:00",
          "2021-02-01T00:00:00",
          "2021-03-01T00:00:00",
          "2021-04-01T00:00:00",
          "2021-05-01T00:00:00",
          "2021-06-01T00:00:00",
          "2021-07-01T00:00:00",
          "2021-08-01T00:00:00",
          "2021-09-01T00:00:00",
          "2021-10-01T00:00:00",
          "2021-11-01T00:00:00",
          "2021-12-01T00:00:00",
          "2022-01-01T00:00:00",
          "2022-02-01T00:00:00",
          "2022-03-01T00:00:00",
          "2022-04-01T00:00:00",
          "2022-05-01T00:00:00",
          "2022-06-01T00:00:00",
          "2022-07-01T00:00:00",
          "2022-08-01T00:00:00",
          "2022-09-01T00:00:00",
          "2022-10-01T00:00:00",
          "2022-11-01T00:00:00",
          "2022-12-01T00:00:00",
          "2023-01-01T00:00:00",
          "2023-02-01T00:00:00",
          "2023-03-01T00:00:00",
          "2023-04-01T00:00:00",
          "2023-05-01T00:00:00",
          "2023-06-01T00:00:00",
          "2023-07-01T00:00:00",
          "2023-08-01T00:00:00",
          "2023-09-01T00:00:00",
          "2023-10-01T00:00:00",
          "2023-11-01T00:00:00"
         ],
         "xaxis": "x",
         "y": [
          442.62505684763215,
          443.82483037569966,
          386.03739015128724,
          379.04629176121625,
          423.10728098662634,
          489.11811181067117,
          556.7661996322192,
          544.8729652420319,
          546.2383714152016,
          522.1483797579606,
          488.9642853365069,
          492.86517014438647,
          452.7669187515625,
          436.42645934617383,
          364.87083214618866,
          360.1061922666882,
          460.21442285260116,
          472.9322738475977,
          510.14497370511833,
          508.1009362486227,
          508.3580201261617,
          481.4185513344544,
          473.0941168655436,
          463.4035673231254,
          429.3581981238336,
          460.36886558668346,
          344.56487290847457,
          358.87924020702195,
          455.39136750056537,
          478.4967974505044,
          508.43127394353314,
          521.6035036834069,
          514.185410692916,
          496.1553778327411,
          464.9813887183893,
          426.5274948070076,
          406.95536578612166,
          446.87880270451365,
          363.55209857412365,
          365.1160715168698,
          468.8302254866581,
          465.75582014064105,
          517.9589753826675,
          560.5377382171079,
          559.5218039742562,
          556.8620458467879,
          531.9040191929037,
          473.0145386997389,
          452.5997623720345
         ],
         "yaxis": "y"
        },
        {
         "hovertemplate": "Tipo de Tienda=Panadería / Pastelería<br>Fecha=%{x}<br>Monto Promedio=%{y}<extra></extra>",
         "legendgroup": "Panadería / Pastelería",
         "line": {
          "color": "#FECB52",
          "dash": "solid"
         },
         "marker": {
          "symbol": "circle"
         },
         "mode": "lines",
         "name": "Panadería / Pastelería",
         "orientation": "v",
         "showlegend": true,
         "type": "scatter",
         "x": [
          "2019-11-01T00:00:00",
          "2019-12-01T00:00:00",
          "2020-01-01T00:00:00",
          "2020-02-01T00:00:00",
          "2020-03-01T00:00:00",
          "2020-04-01T00:00:00",
          "2020-05-01T00:00:00",
          "2020-06-01T00:00:00",
          "2020-07-01T00:00:00",
          "2020-08-01T00:00:00",
          "2020-09-01T00:00:00",
          "2020-10-01T00:00:00",
          "2020-11-01T00:00:00",
          "2020-12-01T00:00:00",
          "2021-01-01T00:00:00",
          "2021-02-01T00:00:00",
          "2021-03-01T00:00:00",
          "2021-04-01T00:00:00",
          "2021-05-01T00:00:00",
          "2021-06-01T00:00:00",
          "2021-07-01T00:00:00",
          "2021-08-01T00:00:00",
          "2021-09-01T00:00:00",
          "2021-10-01T00:00:00",
          "2021-11-01T00:00:00",
          "2021-12-01T00:00:00",
          "2022-01-01T00:00:00",
          "2022-02-01T00:00:00",
          "2022-03-01T00:00:00",
          "2022-04-01T00:00:00",
          "2022-05-01T00:00:00",
          "2022-06-01T00:00:00",
          "2022-07-01T00:00:00",
          "2022-08-01T00:00:00",
          "2022-09-01T00:00:00",
          "2022-10-01T00:00:00",
          "2022-11-01T00:00:00",
          "2022-12-01T00:00:00",
          "2023-01-01T00:00:00",
          "2023-02-01T00:00:00",
          "2023-03-01T00:00:00",
          "2023-04-01T00:00:00",
          "2023-05-01T00:00:00",
          "2023-06-01T00:00:00",
          "2023-07-01T00:00:00",
          "2023-08-01T00:00:00",
          "2023-09-01T00:00:00",
          "2023-10-01T00:00:00",
          "2023-11-01T00:00:00"
         ],
         "xaxis": "x",
         "y": [
          100.55756138662252,
          98.98885191205767,
          92.78798980340761,
          89.67016676910995,
          97.15517162486773,
          101.34078822480106,
          116.32168430197369,
          115.24721717948051,
          118.93346213940951,
          112.062360452235,
          105.06542550843673,
          106.64488329975491,
          92.24189086131386,
          92.83256487626076,
          82.04927823691358,
          79.82165240660954,
          101.03164360085785,
          100.00298970182483,
          103.2711682088058,
          108.2335567614458,
          107.54843451934704,
          102.3478086004884,
          102.30796738697788,
          97.6594513202934,
          91.4470078935366,
          95.83716542720589,
          78.75674165166052,
          79.54126464981412,
          97.9484900324627,
          99.82660627877654,
          106.72119650513784,
          108.57697185325816,
          106.17087648902901,
          105.45314077949045,
          98.18423879437341,
          96.22834685564203,
          90.13828456597672,
          92.27873842010376,
          84.21097719748678,
          81.73864717743658,
          103.73993730923914,
          100.06570981728909,
          111.8126648452778,
          120.09482352262569,
          117.93875551818181,
          122.43815649829787,
          119.12448829825328,
          107.06753392786885,
          104.47611540485583
         ],
         "yaxis": "y"
        },
        {
         "hovertemplate": "Tipo de Tienda=TDC/Proximidad Independiente<br>Fecha=%{x}<br>Monto Promedio=%{y}<extra></extra>",
         "legendgroup": "TDC/Proximidad Independiente",
         "line": {
          "color": "#636efa",
          "dash": "solid"
         },
         "marker": {
          "symbol": "circle"
         },
         "mode": "lines",
         "name": "TDC/Proximidad Independiente",
         "orientation": "v",
         "showlegend": true,
         "type": "scatter",
         "x": [
          "2019-11-01T00:00:00",
          "2019-12-01T00:00:00",
          "2020-01-01T00:00:00",
          "2020-02-01T00:00:00",
          "2020-03-01T00:00:00",
          "2020-04-01T00:00:00",
          "2020-05-01T00:00:00",
          "2020-06-01T00:00:00",
          "2020-07-01T00:00:00",
          "2020-08-01T00:00:00",
          "2020-09-01T00:00:00",
          "2020-10-01T00:00:00",
          "2020-11-01T00:00:00",
          "2020-12-01T00:00:00",
          "2021-01-01T00:00:00",
          "2021-02-01T00:00:00",
          "2021-03-01T00:00:00",
          "2021-04-01T00:00:00",
          "2021-05-01T00:00:00",
          "2021-06-01T00:00:00",
          "2021-07-01T00:00:00",
          "2021-08-01T00:00:00",
          "2021-09-01T00:00:00",
          "2021-10-01T00:00:00",
          "2021-11-01T00:00:00",
          "2021-12-01T00:00:00",
          "2022-01-01T00:00:00",
          "2022-02-01T00:00:00",
          "2022-03-01T00:00:00",
          "2022-04-01T00:00:00",
          "2022-05-01T00:00:00",
          "2022-06-01T00:00:00",
          "2022-07-01T00:00:00",
          "2022-08-01T00:00:00",
          "2022-09-01T00:00:00",
          "2022-10-01T00:00:00",
          "2022-11-01T00:00:00",
          "2022-12-01T00:00:00",
          "2023-01-01T00:00:00",
          "2023-02-01T00:00:00",
          "2023-03-01T00:00:00",
          "2023-04-01T00:00:00",
          "2023-05-01T00:00:00",
          "2023-06-01T00:00:00",
          "2023-07-01T00:00:00",
          "2023-08-01T00:00:00",
          "2023-09-01T00:00:00",
          "2023-10-01T00:00:00",
          "2023-11-01T00:00:00"
         ],
         "xaxis": "x",
         "y": [
          518.4226078098814,
          530.282788987451,
          421.88195482578124,
          413.9354881084291,
          456.3298745379845,
          481.1004179667969,
          582.5225715292969,
          558.0781905034885,
          612.3148678416343,
          563.2304647918288,
          538.5491910410854,
          534.0053573057693,
          468.13288992884617,
          488.60857397567565,
          369.9825681030888,
          383.7202454891473,
          487.8936720351352,
          511.192724929845,
          552.0799304300781,
          563.5706083192157,
          590.2656342403922,
          531.3022691280156,
          552.7612437356589,
          504.6618573848838,
          483.3749836011583,
          523.0067833385214,
          378.03630962539063,
          405.09622204921266,
          536.2322570137795,
          570.9856616476378,
          576.9754998529645,
          622.6098572325398,
          650.3841031816734,
          635.5792726200001,
          590.0201848196787,
          545.2355400550608,
          482.78254096546186,
          545.0487491293172,
          423.69837994578313,
          437.6651579304878,
          582.462953031174,
          557.6467038208164,
          614.2746672412245,
          697.7424808300411,
          729.52783131375,
          719.4284027182573,
          683.1488037256199,
          611.9971258163865,
          546.4077463991342
         ],
         "yaxis": "y"
        },
        {
         "hovertemplate": "Tipo de Tienda=Tiendas de Alimentos Especializados Orgánicos<br>Fecha=%{x}<br>Monto Promedio=%{y}<extra></extra>",
         "legendgroup": "Tiendas de Alimentos Especializados Orgánicos",
         "line": {
          "color": "#EF553B",
          "dash": "solid"
         },
         "marker": {
          "symbol": "circle"
         },
         "mode": "lines",
         "name": "Tiendas de Alimentos Especializados Orgánicos",
         "orientation": "v",
         "showlegend": true,
         "type": "scatter",
         "x": [
          "2019-11-01T00:00:00",
          "2019-12-01T00:00:00",
          "2020-01-01T00:00:00",
          "2020-02-01T00:00:00",
          "2020-03-01T00:00:00",
          "2020-04-01T00:00:00",
          "2020-05-01T00:00:00",
          "2020-06-01T00:00:00",
          "2020-07-01T00:00:00",
          "2020-08-01T00:00:00",
          "2020-09-01T00:00:00",
          "2020-10-01T00:00:00",
          "2020-11-01T00:00:00",
          "2020-12-01T00:00:00",
          "2021-01-01T00:00:00",
          "2021-02-01T00:00:00",
          "2021-03-01T00:00:00",
          "2021-04-01T00:00:00",
          "2021-05-01T00:00:00",
          "2021-06-01T00:00:00",
          "2021-07-01T00:00:00",
          "2021-08-01T00:00:00",
          "2021-09-01T00:00:00",
          "2021-10-01T00:00:00",
          "2021-11-01T00:00:00",
          "2021-12-01T00:00:00",
          "2022-01-01T00:00:00",
          "2022-02-01T00:00:00",
          "2022-03-01T00:00:00",
          "2022-04-01T00:00:00",
          "2022-05-01T00:00:00",
          "2022-06-01T00:00:00",
          "2022-07-01T00:00:00",
          "2022-08-01T00:00:00",
          "2022-09-01T00:00:00",
          "2022-10-01T00:00:00",
          "2022-11-01T00:00:00",
          "2022-12-01T00:00:00",
          "2023-01-01T00:00:00",
          "2023-02-01T00:00:00",
          "2023-03-01T00:00:00",
          "2023-04-01T00:00:00",
          "2023-05-01T00:00:00",
          "2023-06-01T00:00:00",
          "2023-07-01T00:00:00",
          "2023-08-01T00:00:00",
          "2023-09-01T00:00:00",
          "2023-10-01T00:00:00",
          "2023-11-01T00:00:00"
         ],
         "xaxis": "x",
         "y": [
          184.2891233941994,
          179.24395099028365,
          162.56542691705096,
          160.67309382186554,
          179.21443717541086,
          198.34481135,
          230.8042575406884,
          227.22928761815982,
          227.7166440681544,
          218.85919720078078,
          205.6366403038118,
          211.6768623122328,
          190.84960284199647,
          179.83496340241177,
          156.36506257650177,
          153.47913963617148,
          193.4163530369591,
          197.0156398977233,
          203.91214168301227,
          207.29831460505523,
          204.23188370221706,
          194.33674926995306,
          200.22027097929825,
          195.05587518405886,
          180.70830171358824,
          188.41612678288075,
          152.71609132808587,
          154.38850500671464,
          189.04784549421242,
          191.4473483652461,
          207.8548043970606,
          212.1339319626354,
          207.12443472061116,
          200.20613016584784,
          189.10062814477973,
          184.0895517539204,
          167.6272473761702,
          176.78419377702704,
          157.52008349386733,
          153.39735606424938,
          196.5353326013531,
          190.804637674354,
          213.2912849189242,
          226.70496825536762,
          221.57072572625,
          227.41409045379496,
          222.37775691251684,
          197.46999465738836,
          195.88136300070522
         ],
         "yaxis": "y"
        },
        {
         "hovertemplate": "Tipo de Tienda=Tortillería<br>Fecha=%{x}<br>Monto Promedio=%{y}<extra></extra>",
         "legendgroup": "Tortillería",
         "line": {
          "color": "#00cc96",
          "dash": "solid"
         },
         "marker": {
          "symbol": "circle"
         },
         "mode": "lines",
         "name": "Tortillería",
         "orientation": "v",
         "showlegend": true,
         "type": "scatter",
         "x": [
          "2019-11-01T00:00:00",
          "2019-12-01T00:00:00",
          "2020-01-01T00:00:00",
          "2020-02-01T00:00:00",
          "2020-03-01T00:00:00",
          "2020-04-01T00:00:00",
          "2020-05-01T00:00:00",
          "2020-06-01T00:00:00",
          "2020-07-01T00:00:00",
          "2020-08-01T00:00:00",
          "2020-09-01T00:00:00",
          "2020-10-01T00:00:00",
          "2020-11-01T00:00:00",
          "2020-12-01T00:00:00",
          "2021-01-01T00:00:00",
          "2021-02-01T00:00:00",
          "2021-03-01T00:00:00",
          "2021-04-01T00:00:00",
          "2021-05-01T00:00:00",
          "2021-06-01T00:00:00",
          "2021-07-01T00:00:00",
          "2021-08-01T00:00:00",
          "2021-09-01T00:00:00",
          "2021-10-01T00:00:00",
          "2021-11-01T00:00:00",
          "2021-12-01T00:00:00",
          "2022-01-01T00:00:00",
          "2022-02-01T00:00:00",
          "2022-03-01T00:00:00",
          "2022-04-01T00:00:00",
          "2022-05-01T00:00:00",
          "2022-06-01T00:00:00",
          "2022-07-01T00:00:00",
          "2022-08-01T00:00:00",
          "2022-09-01T00:00:00",
          "2022-10-01T00:00:00",
          "2022-11-01T00:00:00",
          "2022-12-01T00:00:00",
          "2023-01-01T00:00:00",
          "2023-02-01T00:00:00",
          "2023-03-01T00:00:00",
          "2023-04-01T00:00:00",
          "2023-05-01T00:00:00",
          "2023-06-01T00:00:00",
          "2023-07-01T00:00:00",
          "2023-08-01T00:00:00",
          "2023-09-01T00:00:00",
          "2023-10-01T00:00:00",
          "2023-11-01T00:00:00"
         ],
         "xaxis": "x",
         "y": [
          168.83081515492688,
          157.07039838855155,
          148.858810180545,
          147.00684936654017,
          164.5115040350633,
          185.0056422226523,
          216.6895808364721,
          216.1379017658838,
          222.91449089827904,
          210.27193853447017,
          195.7332940892771,
          198.31576782508938,
          173.92376591428572,
          163.33122175754158,
          144.24541723784745,
          143.20341509970692,
          174.78444124809027,
          171.87668783994252,
          181.80780704576173,
          189.00998815939806,
          189.61166077515634,
          183.25979440924226,
          186.51583812285054,
          179.62703791133487,
          165.81385552709048,
          164.93249324493087,
          139.126655668841,
          141.516257186954,
          174.8515194379169,
          176.2423353985294,
          188.19561276213193,
          194.1354075104583,
          194.65009200643448,
          190.4302946917792,
          178.5682169837647,
          170.18089465741514,
          155.11582130788682,
          159.5489454923821,
          146.19254554579268,
          144.10528981780905,
          182.0655289325753,
          178.91295462616242,
          200.62034632540073,
          215.042589997879,
          216.09811079046136,
          221.96291059500936,
          211.92494281473552,
          194.00200327527088,
          183.52232786900586
         ],
         "yaxis": "y"
        }
       ],
       "layout": {
        "autosize": true,
        "legend": {
         "title": {
          "text": "Tipo de Tienda"
         },
         "tracegroupgap": 0
        },
        "template": {
         "data": {
          "bar": [
           {
            "error_x": {
             "color": "#2a3f5f"
            },
            "error_y": {
             "color": "#2a3f5f"
            },
            "marker": {
             "line": {
              "color": "#E5ECF6",
              "width": 0.5
             },
             "pattern": {
              "fillmode": "overlay",
              "size": 10,
              "solidity": 0.2
             }
            },
            "type": "bar"
           }
          ],
          "barpolar": [
           {
            "marker": {
             "line": {
              "color": "#E5ECF6",
              "width": 0.5
             },
             "pattern": {
              "fillmode": "overlay",
              "size": 10,
              "solidity": 0.2
             }
            },
            "type": "barpolar"
           }
          ],
          "carpet": [
           {
            "aaxis": {
             "endlinecolor": "#2a3f5f",
             "gridcolor": "white",
             "linecolor": "white",
             "minorgridcolor": "white",
             "startlinecolor": "#2a3f5f"
            },
            "baxis": {
             "endlinecolor": "#2a3f5f",
             "gridcolor": "white",
             "linecolor": "white",
             "minorgridcolor": "white",
             "startlinecolor": "#2a3f5f"
            },
            "type": "carpet"
           }
          ],
          "choropleth": [
           {
            "colorbar": {
             "outlinewidth": 0,
             "ticks": ""
            },
            "type": "choropleth"
           }
          ],
          "contour": [
           {
            "colorbar": {
             "outlinewidth": 0,
             "ticks": ""
            },
            "colorscale": [
             [
              0,
              "#0d0887"
             ],
             [
              0.1111111111111111,
              "#46039f"
             ],
             [
              0.2222222222222222,
              "#7201a8"
             ],
             [
              0.3333333333333333,
              "#9c179e"
             ],
             [
              0.4444444444444444,
              "#bd3786"
             ],
             [
              0.5555555555555556,
              "#d8576b"
             ],
             [
              0.6666666666666666,
              "#ed7953"
             ],
             [
              0.7777777777777778,
              "#fb9f3a"
             ],
             [
              0.8888888888888888,
              "#fdca26"
             ],
             [
              1,
              "#f0f921"
             ]
            ],
            "type": "contour"
           }
          ],
          "contourcarpet": [
           {
            "colorbar": {
             "outlinewidth": 0,
             "ticks": ""
            },
            "type": "contourcarpet"
           }
          ],
          "heatmap": [
           {
            "colorbar": {
             "outlinewidth": 0,
             "ticks": ""
            },
            "colorscale": [
             [
              0,
              "#0d0887"
             ],
             [
              0.1111111111111111,
              "#46039f"
             ],
             [
              0.2222222222222222,
              "#7201a8"
             ],
             [
              0.3333333333333333,
              "#9c179e"
             ],
             [
              0.4444444444444444,
              "#bd3786"
             ],
             [
              0.5555555555555556,
              "#d8576b"
             ],
             [
              0.6666666666666666,
              "#ed7953"
             ],
             [
              0.7777777777777778,
              "#fb9f3a"
             ],
             [
              0.8888888888888888,
              "#fdca26"
             ],
             [
              1,
              "#f0f921"
             ]
            ],
            "type": "heatmap"
           }
          ],
          "heatmapgl": [
           {
            "colorbar": {
             "outlinewidth": 0,
             "ticks": ""
            },
            "colorscale": [
             [
              0,
              "#0d0887"
             ],
             [
              0.1111111111111111,
              "#46039f"
             ],
             [
              0.2222222222222222,
              "#7201a8"
             ],
             [
              0.3333333333333333,
              "#9c179e"
             ],
             [
              0.4444444444444444,
              "#bd3786"
             ],
             [
              0.5555555555555556,
              "#d8576b"
             ],
             [
              0.6666666666666666,
              "#ed7953"
             ],
             [
              0.7777777777777778,
              "#fb9f3a"
             ],
             [
              0.8888888888888888,
              "#fdca26"
             ],
             [
              1,
              "#f0f921"
             ]
            ],
            "type": "heatmapgl"
           }
          ],
          "histogram": [
           {
            "marker": {
             "pattern": {
              "fillmode": "overlay",
              "size": 10,
              "solidity": 0.2
             }
            },
            "type": "histogram"
           }
          ],
          "histogram2d": [
           {
            "colorbar": {
             "outlinewidth": 0,
             "ticks": ""
            },
            "colorscale": [
             [
              0,
              "#0d0887"
             ],
             [
              0.1111111111111111,
              "#46039f"
             ],
             [
              0.2222222222222222,
              "#7201a8"
             ],
             [
              0.3333333333333333,
              "#9c179e"
             ],
             [
              0.4444444444444444,
              "#bd3786"
             ],
             [
              0.5555555555555556,
              "#d8576b"
             ],
             [
              0.6666666666666666,
              "#ed7953"
             ],
             [
              0.7777777777777778,
              "#fb9f3a"
             ],
             [
              0.8888888888888888,
              "#fdca26"
             ],
             [
              1,
              "#f0f921"
             ]
            ],
            "type": "histogram2d"
           }
          ],
          "histogram2dcontour": [
           {
            "colorbar": {
             "outlinewidth": 0,
             "ticks": ""
            },
            "colorscale": [
             [
              0,
              "#0d0887"
             ],
             [
              0.1111111111111111,
              "#46039f"
             ],
             [
              0.2222222222222222,
              "#7201a8"
             ],
             [
              0.3333333333333333,
              "#9c179e"
             ],
             [
              0.4444444444444444,
              "#bd3786"
             ],
             [
              0.5555555555555556,
              "#d8576b"
             ],
             [
              0.6666666666666666,
              "#ed7953"
             ],
             [
              0.7777777777777778,
              "#fb9f3a"
             ],
             [
              0.8888888888888888,
              "#fdca26"
             ],
             [
              1,
              "#f0f921"
             ]
            ],
            "type": "histogram2dcontour"
           }
          ],
          "mesh3d": [
           {
            "colorbar": {
             "outlinewidth": 0,
             "ticks": ""
            },
            "type": "mesh3d"
           }
          ],
          "parcoords": [
           {
            "line": {
             "colorbar": {
              "outlinewidth": 0,
              "ticks": ""
             }
            },
            "type": "parcoords"
           }
          ],
          "pie": [
           {
            "automargin": true,
            "type": "pie"
           }
          ],
          "scatter": [
           {
            "fillpattern": {
             "fillmode": "overlay",
             "size": 10,
             "solidity": 0.2
            },
            "type": "scatter"
           }
          ],
          "scatter3d": [
           {
            "line": {
             "colorbar": {
              "outlinewidth": 0,
              "ticks": ""
             }
            },
            "marker": {
             "colorbar": {
              "outlinewidth": 0,
              "ticks": ""
             }
            },
            "type": "scatter3d"
           }
          ],
          "scattercarpet": [
           {
            "marker": {
             "colorbar": {
              "outlinewidth": 0,
              "ticks": ""
             }
            },
            "type": "scattercarpet"
           }
          ],
          "scattergeo": [
           {
            "marker": {
             "colorbar": {
              "outlinewidth": 0,
              "ticks": ""
             }
            },
            "type": "scattergeo"
           }
          ],
          "scattergl": [
           {
            "marker": {
             "colorbar": {
              "outlinewidth": 0,
              "ticks": ""
             }
            },
            "type": "scattergl"
           }
          ],
          "scattermapbox": [
           {
            "marker": {
             "colorbar": {
              "outlinewidth": 0,
              "ticks": ""
             }
            },
            "type": "scattermapbox"
           }
          ],
          "scatterpolar": [
           {
            "marker": {
             "colorbar": {
              "outlinewidth": 0,
              "ticks": ""
             }
            },
            "type": "scatterpolar"
           }
          ],
          "scatterpolargl": [
           {
            "marker": {
             "colorbar": {
              "outlinewidth": 0,
              "ticks": ""
             }
            },
            "type": "scatterpolargl"
           }
          ],
          "scatterternary": [
           {
            "marker": {
             "colorbar": {
              "outlinewidth": 0,
              "ticks": ""
             }
            },
            "type": "scatterternary"
           }
          ],
          "surface": [
           {
            "colorbar": {
             "outlinewidth": 0,
             "ticks": ""
            },
            "colorscale": [
             [
              0,
              "#0d0887"
             ],
             [
              0.1111111111111111,
              "#46039f"
             ],
             [
              0.2222222222222222,
              "#7201a8"
             ],
             [
              0.3333333333333333,
              "#9c179e"
             ],
             [
              0.4444444444444444,
              "#bd3786"
             ],
             [
              0.5555555555555556,
              "#d8576b"
             ],
             [
              0.6666666666666666,
              "#ed7953"
             ],
             [
              0.7777777777777778,
              "#fb9f3a"
             ],
             [
              0.8888888888888888,
              "#fdca26"
             ],
             [
              1,
              "#f0f921"
             ]
            ],
            "type": "surface"
           }
          ],
          "table": [
           {
            "cells": {
             "fill": {
              "color": "#EBF0F8"
             },
             "line": {
              "color": "white"
             }
            },
            "header": {
             "fill": {
              "color": "#C8D4E3"
             },
             "line": {
              "color": "white"
             }
            },
            "type": "table"
           }
          ]
         },
         "layout": {
          "annotationdefaults": {
           "arrowcolor": "#2a3f5f",
           "arrowhead": 0,
           "arrowwidth": 1
          },
          "autotypenumbers": "strict",
          "coloraxis": {
           "colorbar": {
            "outlinewidth": 0,
            "ticks": ""
           }
          },
          "colorscale": {
           "diverging": [
            [
             0,
             "#8e0152"
            ],
            [
             0.1,
             "#c51b7d"
            ],
            [
             0.2,
             "#de77ae"
            ],
            [
             0.3,
             "#f1b6da"
            ],
            [
             0.4,
             "#fde0ef"
            ],
            [
             0.5,
             "#f7f7f7"
            ],
            [
             0.6,
             "#e6f5d0"
            ],
            [
             0.7,
             "#b8e186"
            ],
            [
             0.8,
             "#7fbc41"
            ],
            [
             0.9,
             "#4d9221"
            ],
            [
             1,
             "#276419"
            ]
           ],
           "sequential": [
            [
             0,
             "#0d0887"
            ],
            [
             0.1111111111111111,
             "#46039f"
            ],
            [
             0.2222222222222222,
             "#7201a8"
            ],
            [
             0.3333333333333333,
             "#9c179e"
            ],
            [
             0.4444444444444444,
             "#bd3786"
            ],
            [
             0.5555555555555556,
             "#d8576b"
            ],
            [
             0.6666666666666666,
             "#ed7953"
            ],
            [
             0.7777777777777778,
             "#fb9f3a"
            ],
            [
             0.8888888888888888,
             "#fdca26"
            ],
            [
             1,
             "#f0f921"
            ]
           ],
           "sequentialminus": [
            [
             0,
             "#0d0887"
            ],
            [
             0.1111111111111111,
             "#46039f"
            ],
            [
             0.2222222222222222,
             "#7201a8"
            ],
            [
             0.3333333333333333,
             "#9c179e"
            ],
            [
             0.4444444444444444,
             "#bd3786"
            ],
            [
             0.5555555555555556,
             "#d8576b"
            ],
            [
             0.6666666666666666,
             "#ed7953"
            ],
            [
             0.7777777777777778,
             "#fb9f3a"
            ],
            [
             0.8888888888888888,
             "#fdca26"
            ],
            [
             1,
             "#f0f921"
            ]
           ]
          },
          "colorway": [
           "#636efa",
           "#EF553B",
           "#00cc96",
           "#ab63fa",
           "#FFA15A",
           "#19d3f3",
           "#FF6692",
           "#B6E880",
           "#FF97FF",
           "#FECB52"
          ],
          "font": {
           "color": "#2a3f5f"
          },
          "geo": {
           "bgcolor": "white",
           "lakecolor": "white",
           "landcolor": "#E5ECF6",
           "showlakes": true,
           "showland": true,
           "subunitcolor": "white"
          },
          "hoverlabel": {
           "align": "left"
          },
          "hovermode": "closest",
          "mapbox": {
           "style": "light"
          },
          "paper_bgcolor": "white",
          "plot_bgcolor": "#E5ECF6",
          "polar": {
           "angularaxis": {
            "gridcolor": "white",
            "linecolor": "white",
            "ticks": ""
           },
           "bgcolor": "#E5ECF6",
           "radialaxis": {
            "gridcolor": "white",
            "linecolor": "white",
            "ticks": ""
           }
          },
          "scene": {
           "xaxis": {
            "backgroundcolor": "#E5ECF6",
            "gridcolor": "white",
            "gridwidth": 2,
            "linecolor": "white",
            "showbackground": true,
            "ticks": "",
            "zerolinecolor": "white"
           },
           "yaxis": {
            "backgroundcolor": "#E5ECF6",
            "gridcolor": "white",
            "gridwidth": 2,
            "linecolor": "white",
            "showbackground": true,
            "ticks": "",
            "zerolinecolor": "white"
           },
           "zaxis": {
            "backgroundcolor": "#E5ECF6",
            "gridcolor": "white",
            "gridwidth": 2,
            "linecolor": "white",
            "showbackground": true,
            "ticks": "",
            "zerolinecolor": "white"
           }
          },
          "shapedefaults": {
           "line": {
            "color": "#2a3f5f"
           }
          },
          "ternary": {
           "aaxis": {
            "gridcolor": "white",
            "linecolor": "white",
            "ticks": ""
           },
           "baxis": {
            "gridcolor": "white",
            "linecolor": "white",
            "ticks": ""
           },
           "bgcolor": "#E5ECF6",
           "caxis": {
            "gridcolor": "white",
            "linecolor": "white",
            "ticks": ""
           }
          },
          "title": {
           "x": 0.05
          },
          "xaxis": {
           "automargin": true,
           "gridcolor": "white",
           "linecolor": "white",
           "ticks": "",
           "title": {
            "standoff": 15
           },
           "zerolinecolor": "white",
           "zerolinewidth": 2
          },
          "yaxis": {
           "automargin": true,
           "gridcolor": "white",
           "linecolor": "white",
           "ticks": "",
           "title": {
            "standoff": 15
           },
           "zerolinecolor": "white",
           "zerolinewidth": 2
          }
         }
        },
        "title": {
         "text": "Promedio de Montos por Fecha y Tipo de Tienda"
        },
        "xaxis": {
         "anchor": "y",
         "autorange": true,
         "domain": [
          0,
          1
         ],
         "range": [
          "2019-11-01",
          "2023-11-01"
         ],
         "title": {
          "text": "Fecha"
         },
         "type": "date"
        },
        "yaxis": {
         "anchor": "x",
         "autorange": true,
         "domain": [
          0,
          1
         ],
         "range": [
          10.482088131560715,
          856.5670510480962
         ],
         "title": {
          "text": "Monto Promedio"
         },
         "type": "linear"
        }
       }
      },
      "image/png": "[encoded data removed]",
      "text/html": [
       "<div>                            <div id=\"32345edc-d4f2-4e88-8d1c-00e6f1e10219\" class=\"plotly-graph-div\" style=\"height:525px; width:100%;\"></div>            <script type=\"text/javascript\">                require([\"plotly\"], function(Plotly) {                    window.PLOTLYENV=window.PLOTLYENV || {};                                    if (document.getElementById(\"32345edc-d4f2-4e88-8d1c-00e6f1e10219\")) {                    Plotly.newPlot(                        \"32345edc-d4f2-4e88-8d1c-00e6f1e10219\",                        [{\"hovertemplate\":\"Tipo de Tienda=Abarrotes / Almacenes / Bodegas / V\\u00edveres<br>Fecha=%{x}<br>Monto Promedio=%{y}<extra></extra>\",\"legendgroup\":\"Abarrotes / Almacenes / Bodegas / V\\u00edveres\",\"line\":{\"color\":\"#636efa\",\"dash\":\"solid\"},\"marker\":{\"symbol\":\"circle\"},\"mode\":\"lines\",\"name\":\"Abarrotes / Almacenes / Bodegas / V\\u00edveres\",\"orientation\":\"v\",\"showlegend\":true,\"x\":[\"2019-11-01T00:00:00\",\"2019-12-01T00:00:00\",\"2020-01-01T00:00:00\",\"2020-02-01T00:00:00\",\"2020-03-01T00:00:00\",\"2020-04-01T00:00:00\",\"2020-05-01T00:00:00\",\"2020-06-01T00:00:00\",\"2020-07-01T00:00:00\",\"2020-08-01T00:00:00\",\"2020-09-01T00:00:00\",\"2020-10-01T00:00:00\",\"2020-11-01T00:00:00\",\"2020-12-01T00:00:00\",\"2021-01-01T00:00:00\",\"2021-02-01T00:00:00\",\"2021-03-01T00:00:00\",\"2021-04-01T00:00:00\",\"2021-05-01T00:00:00\",\"2021-06-01T00:00:00\",\"2021-07-01T00:00:00\",\"2021-08-01T00:00:00\",\"2021-09-01T00:00:00\",\"2021-10-01T00:00:00\",\"2021-11-01T00:00:00\",\"2021-12-01T00:00:00\",\"2022-01-01T00:00:00\",\"2022-02-01T00:00:00\",\"2022-03-01T00:00:00\",\"2022-04-01T00:00:00\",\"2022-05-01T00:00:00\",\"2022-06-01T00:00:00\",\"2022-07-01T00:00:00\",\"2022-08-01T00:00:00\",\"2022-09-01T00:00:00\",\"2022-10-01T00:00:00\",\"2022-11-01T00:00:00\",\"2022-12-01T00:00:00\",\"2023-01-01T00:00:00\",\"2023-02-01T00:00:00\",\"2023-03-01T00:00:00\",\"2023-04-01T00:00:00\",\"2023-05-01T00:00:00\",\"2023-06-01T00:00:00\",\"2023-07-01T00:00:00\",\"2023-08-01T00:00:00\",\"2023-09-01T00:00:00\",\"2023-10-01T00:00:00\",\"2023-11-01T00:00:00\"],\"xaxis\":\"x\",\"y\":[319.8588180374952,319.16808083877,285.74900254476694,278.94191091783694,304.62194454874935,341.6622774866339,383.9440435551274,378.94262461516126,375.6144267166442,359.15750380455154,331.7756756496384,338.2762446426669,306.9323979265324,300.8680647166593,261.5461096733426,259.0000378989389,321.5838923385327,325.49576823056253,346.0516019033011,351.35271446335435,347.4418395289235,336.84773493339793,329.54003308730233,324.00471759781067,296.08174366204395,315.3748057012055,254.49504705658288,261.03283132153365,324.6763990603814,332.96160986482556,361.91458516653205,367.3677096710879,359.1600145304564,361.0002419675599,334.0417430405427,315.69596822488325,294.1852574327574,317.0920689516731,274.6340182847309,274.5791670478851,344.4684519198004,338.4669323191133,380.3415953480264,411.4947085650564,406.2626872291194,418.62810477091676,404.54928588142997,361.65847080751394,344.1658082214774],\"yaxis\":\"y\",\"type\":\"scatter\"},{\"hovertemplate\":\"Tipo de Tienda=Carnicer\\u00eda / Poller\\u00eda / Pescader\\u00eda<br>Fecha=%{x}<br>Monto Promedio=%{y}<extra></extra>\",\"legendgroup\":\"Carnicer\\u00eda / Poller\\u00eda / Pescader\\u00eda\",\"line\":{\"color\":\"#EF553B\",\"dash\":\"solid\"},\"marker\":{\"symbol\":\"circle\"},\"mode\":\"lines\",\"name\":\"Carnicer\\u00eda / Poller\\u00eda / Pescader\\u00eda\",\"orientation\":\"v\",\"showlegend\":true,\"x\":[\"2019-11-01T00:00:00\",\"2019-12-01T00:00:00\",\"2020-01-01T00:00:00\",\"2020-02-01T00:00:00\",\"2020-03-01T00:00:00\",\"2020-04-01T00:00:00\",\"2020-05-01T00:00:00\",\"2020-06-01T00:00:00\",\"2020-07-01T00:00:00\",\"2020-08-01T00:00:00\",\"2020-09-01T00:00:00\",\"2020-10-01T00:00:00\",\"2020-11-01T00:00:00\",\"2020-12-01T00:00:00\",\"2021-01-01T00:00:00\",\"2021-02-01T00:00:00\",\"2021-03-01T00:00:00\",\"2021-04-01T00:00:00\",\"2021-05-01T00:00:00\",\"2021-06-01T00:00:00\",\"2021-07-01T00:00:00\",\"2021-08-01T00:00:00\",\"2021-09-01T00:00:00\",\"2021-10-01T00:00:00\",\"2021-11-01T00:00:00\",\"2021-12-01T00:00:00\",\"2022-01-01T00:00:00\",\"2022-02-01T00:00:00\",\"2022-03-01T00:00:00\",\"2022-04-01T00:00:00\",\"2022-05-01T00:00:00\",\"2022-06-01T00:00:00\",\"2022-07-01T00:00:00\",\"2022-08-01T00:00:00\",\"2022-09-01T00:00:00\",\"2022-10-01T00:00:00\",\"2022-11-01T00:00:00\",\"2022-12-01T00:00:00\",\"2023-01-01T00:00:00\",\"2023-02-01T00:00:00\",\"2023-03-01T00:00:00\",\"2023-04-01T00:00:00\",\"2023-05-01T00:00:00\",\"2023-06-01T00:00:00\",\"2023-07-01T00:00:00\",\"2023-08-01T00:00:00\",\"2023-09-01T00:00:00\",\"2023-10-01T00:00:00\",\"2023-11-01T00:00:00\"],\"xaxis\":\"x\",\"y\":[197.05733708334353,200.33302115229358,178.8091169081114,172.79202165051115,196.80356845186748,214.9406539124551,249.71088433785545,239.88934574045535,246.02078001451707,232.07532520063003,214.40582012534247,216.34650711581924,192.6359001993841,190.1741190388858,161.42942222481915,158.30165840138272,199.88506355312157,196.22652338488624,210.57651736215783,213.87273719113722,212.3382566723754,209.50493429607428,209.54394606589108,198.80926596957912,178.62294699909864,196.82730483533192,150.69315191925133,157.3136320780763,196.85809926131623,204.05626664037533,221.44261850277925,225.500919550775,224.4194176014431,225.13041644094574,209.4732086839785,186.4099356817546,175.26608437743673,191.88387681829005,164.14963031659437,163.02314563867102,206.9647050519978,198.17050687855186,224.18987358868236,240.89318467175826,247.2731145670893,253.16479421025358,246.09365933262924,211.70437787878447,195.8134474205967],\"yaxis\":\"y\",\"type\":\"scatter\"},{\"hovertemplate\":\"Tipo de Tienda=Cerveza y Licores<br>Fecha=%{x}<br>Monto Promedio=%{y}<extra></extra>\",\"legendgroup\":\"Cerveza y Licores\",\"line\":{\"color\":\"#00cc96\",\"dash\":\"solid\"},\"marker\":{\"symbol\":\"circle\"},\"mode\":\"lines\",\"name\":\"Cerveza y Licores\",\"orientation\":\"v\",\"showlegend\":true,\"x\":[\"2019-11-01T00:00:00\",\"2019-12-01T00:00:00\",\"2020-01-01T00:00:00\",\"2020-02-01T00:00:00\",\"2020-03-01T00:00:00\",\"2020-04-01T00:00:00\",\"2020-05-01T00:00:00\",\"2020-06-01T00:00:00\",\"2020-07-01T00:00:00\",\"2020-08-01T00:00:00\",\"2020-09-01T00:00:00\",\"2020-10-01T00:00:00\",\"2020-11-01T00:00:00\",\"2020-12-01T00:00:00\",\"2021-01-01T00:00:00\",\"2021-02-01T00:00:00\",\"2021-03-01T00:00:00\",\"2021-04-01T00:00:00\",\"2021-05-01T00:00:00\",\"2021-06-01T00:00:00\",\"2021-07-01T00:00:00\",\"2021-08-01T00:00:00\",\"2021-09-01T00:00:00\",\"2021-10-01T00:00:00\",\"2021-11-01T00:00:00\",\"2021-12-01T00:00:00\",\"2022-01-01T00:00:00\",\"2022-02-01T00:00:00\",\"2022-03-01T00:00:00\",\"2022-04-01T00:00:00\",\"2022-05-01T00:00:00\",\"2022-06-01T00:00:00\",\"2022-07-01T00:00:00\",\"2022-08-01T00:00:00\",\"2022-09-01T00:00:00\",\"2022-10-01T00:00:00\",\"2022-11-01T00:00:00\",\"2022-12-01T00:00:00\",\"2023-01-01T00:00:00\",\"2023-02-01T00:00:00\",\"2023-03-01T00:00:00\",\"2023-04-01T00:00:00\",\"2023-05-01T00:00:00\",\"2023-06-01T00:00:00\",\"2023-07-01T00:00:00\",\"2023-08-01T00:00:00\",\"2023-09-01T00:00:00\",\"2023-10-01T00:00:00\",\"2023-11-01T00:00:00\"],\"xaxis\":\"x\",\"y\":[190.29996833661681,201.06750489737058,169.6423836865255,169.3070249302533,186.85788185724556,200.91269781779408,226.73214754680524,229.5685868360543,230.08049616643842,218.5918150573241,205.85164862948733,213.0360617863778,188.01691227040314,195.5653941657438,159.61279263013972,158.4943335309671,203.9434229187116,206.28544844943752,215.09479674882053,218.74375864996563,214.99711011556013,207.6289713928025,206.60683052543087,201.33455191884767,183.86092196875367,206.4216096670594,152.333310272015,159.0996069681818,201.7366881579261,211.76399211510227,228.74286869179429,227.36994122298046,222.51622339643328,220.52958801544534,203.48698330230667,189.78292689081238,179.0478353595101,202.64743951404165,164.610416312275,166.40798650876414,210.9634005910481,204.67970768596024,228.16438563819526,251.1690255588914,242.67814800683223,250.67126921591282,234.3954019463447,205.6897802772373,199.5895830060924],\"yaxis\":\"y\",\"type\":\"scatter\"},{\"hovertemplate\":\"Tipo de Tienda=Estanquillos / kioscos<br>Fecha=%{x}<br>Monto Promedio=%{y}<extra></extra>\",\"legendgroup\":\"Estanquillos / kioscos\",\"line\":{\"color\":\"#ab63fa\",\"dash\":\"solid\"},\"marker\":{\"symbol\":\"circle\"},\"mode\":\"lines\",\"name\":\"Estanquillos / kioscos\",\"orientation\":\"v\",\"showlegend\":true,\"x\":[\"2019-11-01T00:00:00\",\"2019-12-01T00:00:00\",\"2020-01-01T00:00:00\",\"2020-02-01T00:00:00\",\"2020-03-01T00:00:00\",\"2020-04-01T00:00:00\",\"2020-05-01T00:00:00\",\"2020-06-01T00:00:00\",\"2020-07-01T00:00:00\",\"2020-08-01T00:00:00\",\"2020-09-01T00:00:00\",\"2020-10-01T00:00:00\",\"2020-11-01T00:00:00\",\"2020-12-01T00:00:00\",\"2021-01-01T00:00:00\",\"2021-02-01T00:00:00\",\"2021-03-01T00:00:00\",\"2021-04-01T00:00:00\",\"2021-05-01T00:00:00\",\"2021-06-01T00:00:00\",\"2021-07-01T00:00:00\",\"2021-08-01T00:00:00\",\"2021-09-01T00:00:00\",\"2021-10-01T00:00:00\",\"2021-11-01T00:00:00\",\"2021-12-01T00:00:00\",\"2022-01-01T00:00:00\",\"2022-02-01T00:00:00\",\"2022-03-01T00:00:00\",\"2022-04-01T00:00:00\",\"2022-05-01T00:00:00\",\"2022-06-01T00:00:00\",\"2022-07-01T00:00:00\",\"2022-08-01T00:00:00\",\"2022-09-01T00:00:00\",\"2022-10-01T00:00:00\",\"2022-11-01T00:00:00\",\"2022-12-01T00:00:00\",\"2023-01-01T00:00:00\",\"2023-02-01T00:00:00\",\"2023-03-01T00:00:00\",\"2023-04-01T00:00:00\",\"2023-05-01T00:00:00\",\"2023-06-01T00:00:00\",\"2023-07-01T00:00:00\",\"2023-08-01T00:00:00\",\"2023-09-01T00:00:00\",\"2023-10-01T00:00:00\",\"2023-11-01T00:00:00\"],\"xaxis\":\"x\",\"y\":[194.92836355222676,199.04648657903988,184.10061710866952,178.88869439247344,203.5400488566103,231.0220362622727,262.24259778172444,258.9379179195726,260.21305502263067,248.6879797550895,231.59216114109162,234.69483019342798,209.73274939512297,206.17467720796245,182.75921659606058,180.9863989343135,226.22955409926413,229.32905088676793,243.4564355394482,249.2355251155371,245.3323300824029,241.84708368158428,235.10778705946174,227.44728770816266,206.0018098456098,220.31648194662102,179.05291587513165,178.86909654159626,226.04847551202704,234.72996991309273,253.078179327343,257.2787017425737,254.58183386657427,255.11985803318095,230.0742751645968,215.33442612940954,200.10949481627694,213.893760481758,191.39768665792334,187.7887740824228,238.66772255966185,232.13484111593334,258.2369206412132,281.96748443291483,277.58697244644867,287.0151835207039,271.66580473798336,239.1215048464748,219.72091704577875],\"yaxis\":\"y\",\"type\":\"scatter\"},{\"hovertemplate\":\"Tipo de Tienda=Farmacia Independiente<br>Fecha=%{x}<br>Monto Promedio=%{y}<extra></extra>\",\"legendgroup\":\"Farmacia Independiente\",\"line\":{\"color\":\"#FFA15A\",\"dash\":\"solid\"},\"marker\":{\"symbol\":\"circle\"},\"mode\":\"lines\",\"name\":\"Farmacia Independiente\",\"orientation\":\"v\",\"showlegend\":true,\"x\":[\"2019-11-01T00:00:00\",\"2019-12-01T00:00:00\",\"2020-01-01T00:00:00\",\"2020-02-01T00:00:00\",\"2020-03-01T00:00:00\",\"2020-04-01T00:00:00\",\"2020-05-01T00:00:00\",\"2020-06-01T00:00:00\",\"2020-07-01T00:00:00\",\"2020-08-01T00:00:00\",\"2020-09-01T00:00:00\",\"2020-10-01T00:00:00\",\"2020-11-01T00:00:00\",\"2020-12-01T00:00:00\",\"2021-01-01T00:00:00\",\"2021-02-01T00:00:00\",\"2021-03-01T00:00:00\",\"2021-04-01T00:00:00\",\"2021-05-01T00:00:00\",\"2021-06-01T00:00:00\",\"2021-07-01T00:00:00\",\"2021-08-01T00:00:00\",\"2021-09-01T00:00:00\",\"2021-10-01T00:00:00\",\"2021-11-01T00:00:00\",\"2021-12-01T00:00:00\",\"2022-01-01T00:00:00\",\"2022-02-01T00:00:00\",\"2022-03-01T00:00:00\",\"2022-04-01T00:00:00\",\"2022-05-01T00:00:00\",\"2022-06-01T00:00:00\",\"2022-07-01T00:00:00\",\"2022-08-01T00:00:00\",\"2022-09-01T00:00:00\",\"2022-10-01T00:00:00\",\"2022-11-01T00:00:00\",\"2022-12-01T00:00:00\",\"2023-01-01T00:00:00\",\"2023-02-01T00:00:00\",\"2023-03-01T00:00:00\",\"2023-04-01T00:00:00\",\"2023-05-01T00:00:00\",\"2023-06-01T00:00:00\",\"2023-07-01T00:00:00\",\"2023-08-01T00:00:00\",\"2023-09-01T00:00:00\",\"2023-10-01T00:00:00\",\"2023-11-01T00:00:00\"],\"xaxis\":\"x\",\"y\":[68.76454320468565,68.12358679571092,64.58117373571008,61.748453422778105,69.54467811475602,61.61704521588896,73.27181271305115,78.23223197443215,80.74452930998845,73.8802277463164,68.77898063803612,70.54576662972671,62.253720644518644,61.273645610459326,53.55086607400663,52.786336277387484,68.51761733834056,69.6531554210837,73.71772401953291,77.33816824294705,74.82389503972819,72.40920716179542,69.19931738563996,67.96410896429315,63.0495827616025,67.40331070167802,55.17602920975866,53.04636333082942,67.58052217702215,71.10312464910302,77.21379012377301,77.40141974410723,78.4276636260606,75.52326079385475,69.93330371773374,64.03150807385786,63.434549242776924,66.20534600529562,58.19875579311054,54.70618806659783,70.30619245085448,67.801259515625,78.36542528526043,87.69230837061883,83.38557892433421,83.10217782848868,78.49498481734747,68.51648660763888,65.94394456208609],\"yaxis\":\"y\",\"type\":\"scatter\"},{\"hovertemplate\":\"Tipo de Tienda=Frutas y Verduras<br>Fecha=%{x}<br>Monto Promedio=%{y}<extra></extra>\",\"legendgroup\":\"Frutas y Verduras\",\"line\":{\"color\":\"#19d3f3\",\"dash\":\"solid\"},\"marker\":{\"symbol\":\"circle\"},\"mode\":\"lines\",\"name\":\"Frutas y Verduras\",\"orientation\":\"v\",\"showlegend\":true,\"x\":[\"2019-11-01T00:00:00\",\"2019-12-01T00:00:00\",\"2020-01-01T00:00:00\",\"2020-02-01T00:00:00\",\"2020-03-01T00:00:00\",\"2020-04-01T00:00:00\",\"2020-05-01T00:00:00\",\"2020-06-01T00:00:00\",\"2020-07-01T00:00:00\",\"2020-08-01T00:00:00\",\"2020-09-01T00:00:00\",\"2020-10-01T00:00:00\",\"2020-11-01T00:00:00\",\"2020-12-01T00:00:00\",\"2021-01-01T00:00:00\",\"2021-02-01T00:00:00\",\"2021-03-01T00:00:00\",\"2021-04-01T00:00:00\",\"2021-05-01T00:00:00\",\"2021-06-01T00:00:00\",\"2021-07-01T00:00:00\",\"2021-08-01T00:00:00\",\"2021-09-01T00:00:00\",\"2021-10-01T00:00:00\",\"2021-11-01T00:00:00\",\"2021-12-01T00:00:00\",\"2022-01-01T00:00:00\",\"2022-02-01T00:00:00\",\"2022-03-01T00:00:00\",\"2022-04-01T00:00:00\",\"2022-05-01T00:00:00\",\"2022-06-01T00:00:00\",\"2022-07-01T00:00:00\",\"2022-08-01T00:00:00\",\"2022-09-01T00:00:00\",\"2022-10-01T00:00:00\",\"2022-11-01T00:00:00\",\"2022-12-01T00:00:00\",\"2023-01-01T00:00:00\",\"2023-02-01T00:00:00\",\"2023-03-01T00:00:00\",\"2023-04-01T00:00:00\",\"2023-05-01T00:00:00\",\"2023-06-01T00:00:00\",\"2023-07-01T00:00:00\",\"2023-08-01T00:00:00\",\"2023-09-01T00:00:00\",\"2023-10-01T00:00:00\",\"2023-11-01T00:00:00\"],\"xaxis\":\"x\",\"y\":[169.67963920589506,170.6497584452756,155.91884343614674,152.18760606745667,170.87070484940142,188.47894290768153,210.55987789361407,206.76159460325943,204.79620428036773,192.5028508388728,179.93234842129746,184.2964369305122,167.34157607890333,164.02131353231147,142.2662157433951,140.2256279437201,173.7151394584806,173.86528716901287,180.7361955151392,183.34321173879607,179.89371842627045,177.75249006035128,175.95554656720324,173.73810721086014,160.53920590377467,168.6484247568599,138.74765864231105,141.49159132024542,174.12806649714452,179.90628151334118,192.34401385363293,189.7279553903807,187.13288998913487,189.17584269296026,173.6982129607681,161.6726499399286,155.50266888593237,164.3640138311272,144.5556125996336,144.59252678264616,183.07667506373764,176.4698162681875,196.2022209266124,212.17457888650617,210.29923085337387,218.26855605106314,209.01238802185773,185.09021589735625,179.21418952968116],\"yaxis\":\"y\",\"type\":\"scatter\"},{\"hovertemplate\":\"Tipo de Tienda=Hogar con Venta<br>Fecha=%{x}<br>Monto Promedio=%{y}<extra></extra>\",\"legendgroup\":\"Hogar con Venta\",\"line\":{\"color\":\"#FF6692\",\"dash\":\"solid\"},\"marker\":{\"symbol\":\"circle\"},\"mode\":\"lines\",\"name\":\"Hogar con Venta\",\"orientation\":\"v\",\"showlegend\":true,\"x\":[\"2019-11-01T00:00:00\",\"2019-12-01T00:00:00\",\"2020-01-01T00:00:00\",\"2020-02-01T00:00:00\",\"2020-03-01T00:00:00\",\"2020-04-01T00:00:00\",\"2020-05-01T00:00:00\",\"2020-06-01T00:00:00\",\"2020-07-01T00:00:00\",\"2020-08-01T00:00:00\",\"2020-09-01T00:00:00\",\"2020-10-01T00:00:00\",\"2020-11-01T00:00:00\",\"2020-12-01T00:00:00\",\"2021-01-01T00:00:00\",\"2021-02-01T00:00:00\",\"2021-03-01T00:00:00\",\"2021-04-01T00:00:00\",\"2021-05-01T00:00:00\",\"2021-06-01T00:00:00\",\"2021-07-01T00:00:00\",\"2021-08-01T00:00:00\",\"2021-09-01T00:00:00\",\"2021-10-01T00:00:00\",\"2021-11-01T00:00:00\",\"2021-12-01T00:00:00\",\"2022-01-01T00:00:00\",\"2022-02-01T00:00:00\",\"2022-03-01T00:00:00\",\"2022-04-01T00:00:00\",\"2022-05-01T00:00:00\",\"2022-06-01T00:00:00\",\"2022-07-01T00:00:00\",\"2022-08-01T00:00:00\",\"2022-09-01T00:00:00\",\"2022-10-01T00:00:00\",\"2022-11-01T00:00:00\",\"2022-12-01T00:00:00\",\"2023-01-01T00:00:00\",\"2023-02-01T00:00:00\",\"2023-03-01T00:00:00\",\"2023-04-01T00:00:00\",\"2023-05-01T00:00:00\",\"2023-06-01T00:00:00\",\"2023-07-01T00:00:00\",\"2023-08-01T00:00:00\",\"2023-09-01T00:00:00\",\"2023-10-01T00:00:00\",\"2023-11-01T00:00:00\"],\"xaxis\":\"x\",\"y\":[80.98311065733975,77.60261660594395,73.5449625605032,71.88975293655233,82.27114530180661,94.24004403219713,109.77140996124616,110.19668247543747,110.71499570047881,104.95103052234468,97.13784792972717,97.46001311933313,85.60418140738292,80.48986793019192,71.97696504197238,72.63269483307299,90.15080816966987,90.17412471838624,94.74964983261766,97.94314170478498,94.85097718593491,92.290723646607,91.50084109139179,86.80054781561674,78.40786309710292,78.22176457306017,65.99478356000265,66.51057631339827,84.24322968203096,87.36960112582078,94.0732781863781,96.16118943969805,96.6094256475938,95.85491692371066,88.67582977631213,81.31856451655118,74.90635931207777,76.94203729128779,71.66547658194253,68.88898738266423,88.98141469130505,87.87013290216164,99.80856477980022,107.70877564011947,108.9656385964072,112.59231508904791,107.35255398050134,97.40706255393263,89.11114578264511],\"yaxis\":\"y\",\"type\":\"scatter\"},{\"hovertemplate\":\"Tipo de Tienda=Mayorista Abarrotero<br>Fecha=%{x}<br>Monto Promedio=%{y}<extra></extra>\",\"legendgroup\":\"Mayorista Abarrotero\",\"line\":{\"color\":\"#B6E880\",\"dash\":\"solid\"},\"marker\":{\"symbol\":\"circle\"},\"mode\":\"lines\",\"name\":\"Mayorista Abarrotero\",\"orientation\":\"v\",\"showlegend\":true,\"x\":[\"2019-11-01T00:00:00\",\"2019-12-01T00:00:00\",\"2020-01-01T00:00:00\",\"2020-02-01T00:00:00\",\"2020-03-01T00:00:00\",\"2020-04-01T00:00:00\",\"2020-05-01T00:00:00\",\"2020-06-01T00:00:00\",\"2020-07-01T00:00:00\",\"2020-08-01T00:00:00\",\"2020-09-01T00:00:00\",\"2020-10-01T00:00:00\",\"2020-11-01T00:00:00\",\"2020-12-01T00:00:00\",\"2021-01-01T00:00:00\",\"2021-02-01T00:00:00\",\"2021-03-01T00:00:00\",\"2021-04-01T00:00:00\",\"2021-05-01T00:00:00\",\"2021-06-01T00:00:00\",\"2021-07-01T00:00:00\",\"2021-08-01T00:00:00\",\"2021-09-01T00:00:00\",\"2021-10-01T00:00:00\",\"2021-11-01T00:00:00\",\"2021-12-01T00:00:00\",\"2022-01-01T00:00:00\",\"2022-02-01T00:00:00\",\"2022-03-01T00:00:00\",\"2022-04-01T00:00:00\",\"2022-05-01T00:00:00\",\"2022-06-01T00:00:00\",\"2022-07-01T00:00:00\",\"2022-08-01T00:00:00\",\"2022-09-01T00:00:00\",\"2022-10-01T00:00:00\",\"2022-11-01T00:00:00\",\"2022-12-01T00:00:00\",\"2023-01-01T00:00:00\",\"2023-02-01T00:00:00\",\"2023-03-01T00:00:00\",\"2023-04-01T00:00:00\",\"2023-05-01T00:00:00\",\"2023-06-01T00:00:00\",\"2023-07-01T00:00:00\",\"2023-08-01T00:00:00\",\"2023-09-01T00:00:00\",\"2023-10-01T00:00:00\",\"2023-11-01T00:00:00\"],\"xaxis\":\"x\",\"y\":[588.5943696228378,590.1360769502696,499.13860665142084,502.25342573910694,523.6668967419399,631.982073583402,738.9586050906336,726.4777556973794,704.5122658176066,674.8848617546832,613.8119754019257,623.7636707370013,568.4439081356653,561.5056285966988,481.97206768259673,458.54319352798353,605.0139833618982,621.5549020094134,671.0869970786291,658.8914110773891,647.9735432122312,625.0657016906757,603.5806401939353,627.5034388966033,559.6940572261225,626.8638826555102,476.56134813301105,488.0908215116183,620.3740032591667,654.1170123441341,732.9387805788218,736.8736172091293,685.8589573612676,684.4956871742937,654.5896182599432,573.2099666314735,556.2939718597422,607.3355763402018,468.1352219700146,512.5949023961709,661.7342330133531,660.6636057665172,741.4845437179217,790.0897686840602,814.2628029022694,811.3332493881818,748.8641734270517,671.3870617270229,636.3026234209628],\"yaxis\":\"y\",\"type\":\"scatter\"},{\"hovertemplate\":\"Tipo de Tienda=Minisuper / Minimarket<br>Fecha=%{x}<br>Monto Promedio=%{y}<extra></extra>\",\"legendgroup\":\"Minisuper / Minimarket\",\"line\":{\"color\":\"#FF97FF\",\"dash\":\"solid\"},\"marker\":{\"symbol\":\"circle\"},\"mode\":\"lines\",\"name\":\"Minisuper / Minimarket\",\"orientation\":\"v\",\"showlegend\":true,\"x\":[\"2019-11-01T00:00:00\",\"2019-12-01T00:00:00\",\"2020-01-01T00:00:00\",\"2020-02-01T00:00:00\",\"2020-03-01T00:00:00\",\"2020-04-01T00:00:00\",\"2020-05-01T00:00:00\",\"2020-06-01T00:00:00\",\"2020-07-01T00:00:00\",\"2020-08-01T00:00:00\",\"2020-09-01T00:00:00\",\"2020-10-01T00:00:00\",\"2020-11-01T00:00:00\",\"2020-12-01T00:00:00\",\"2021-01-01T00:00:00\",\"2021-02-01T00:00:00\",\"2021-03-01T00:00:00\",\"2021-04-01T00:00:00\",\"2021-05-01T00:00:00\",\"2021-06-01T00:00:00\",\"2021-07-01T00:00:00\",\"2021-08-01T00:00:00\",\"2021-09-01T00:00:00\",\"2021-10-01T00:00:00\",\"2021-11-01T00:00:00\",\"2021-12-01T00:00:00\",\"2022-01-01T00:00:00\",\"2022-02-01T00:00:00\",\"2022-03-01T00:00:00\",\"2022-04-01T00:00:00\",\"2022-05-01T00:00:00\",\"2022-06-01T00:00:00\",\"2022-07-01T00:00:00\",\"2022-08-01T00:00:00\",\"2022-09-01T00:00:00\",\"2022-10-01T00:00:00\",\"2022-11-01T00:00:00\",\"2022-12-01T00:00:00\",\"2023-01-01T00:00:00\",\"2023-02-01T00:00:00\",\"2023-03-01T00:00:00\",\"2023-04-01T00:00:00\",\"2023-05-01T00:00:00\",\"2023-06-01T00:00:00\",\"2023-07-01T00:00:00\",\"2023-08-01T00:00:00\",\"2023-09-01T00:00:00\",\"2023-10-01T00:00:00\",\"2023-11-01T00:00:00\"],\"xaxis\":\"x\",\"y\":[442.62505684763215,443.82483037569966,386.03739015128724,379.04629176121625,423.10728098662634,489.11811181067117,556.7661996322192,544.8729652420319,546.2383714152016,522.1483797579606,488.9642853365069,492.86517014438647,452.7669187515625,436.42645934617383,364.87083214618866,360.1061922666882,460.21442285260116,472.9322738475977,510.14497370511833,508.1009362486227,508.3580201261617,481.4185513344544,473.0941168655436,463.4035673231254,429.3581981238336,460.36886558668346,344.56487290847457,358.87924020702195,455.39136750056537,478.4967974505044,508.43127394353314,521.6035036834069,514.185410692916,496.1553778327411,464.9813887183893,426.5274948070076,406.95536578612166,446.87880270451365,363.55209857412365,365.1160715168698,468.8302254866581,465.75582014064105,517.9589753826675,560.5377382171079,559.5218039742562,556.8620458467879,531.9040191929037,473.0145386997389,452.5997623720345],\"yaxis\":\"y\",\"type\":\"scatter\"},{\"hovertemplate\":\"Tipo de Tienda=Panader\\u00eda / Pasteler\\u00eda<br>Fecha=%{x}<br>Monto Promedio=%{y}<extra></extra>\",\"legendgroup\":\"Panader\\u00eda / Pasteler\\u00eda\",\"line\":{\"color\":\"#FECB52\",\"dash\":\"solid\"},\"marker\":{\"symbol\":\"circle\"},\"mode\":\"lines\",\"name\":\"Panader\\u00eda / Pasteler\\u00eda\",\"orientation\":\"v\",\"showlegend\":true,\"x\":[\"2019-11-01T00:00:00\",\"2019-12-01T00:00:00\",\"2020-01-01T00:00:00\",\"2020-02-01T00:00:00\",\"2020-03-01T00:00:00\",\"2020-04-01T00:00:00\",\"2020-05-01T00:00:00\",\"2020-06-01T00:00:00\",\"2020-07-01T00:00:00\",\"2020-08-01T00:00:00\",\"2020-09-01T00:00:00\",\"2020-10-01T00:00:00\",\"2020-11-01T00:00:00\",\"2020-12-01T00:00:00\",\"2021-01-01T00:00:00\",\"2021-02-01T00:00:00\",\"2021-03-01T00:00:00\",\"2021-04-01T00:00:00\",\"2021-05-01T00:00:00\",\"2021-06-01T00:00:00\",\"2021-07-01T00:00:00\",\"2021-08-01T00:00:00\",\"2021-09-01T00:00:00\",\"2021-10-01T00:00:00\",\"2021-11-01T00:00:00\",\"2021-12-01T00:00:00\",\"2022-01-01T00:00:00\",\"2022-02-01T00:00:00\",\"2022-03-01T00:00:00\",\"2022-04-01T00:00:00\",\"2022-05-01T00:00:00\",\"2022-06-01T00:00:00\",\"2022-07-01T00:00:00\",\"2022-08-01T00:00:00\",\"2022-09-01T00:00:00\",\"2022-10-01T00:00:00\",\"2022-11-01T00:00:00\",\"2022-12-01T00:00:00\",\"2023-01-01T00:00:00\",\"2023-02-01T00:00:00\",\"2023-03-01T00:00:00\",\"2023-04-01T00:00:00\",\"2023-05-01T00:00:00\",\"2023-06-01T00:00:00\",\"2023-07-01T00:00:00\",\"2023-08-01T00:00:00\",\"2023-09-01T00:00:00\",\"2023-10-01T00:00:00\",\"2023-11-01T00:00:00\"],\"xaxis\":\"x\",\"y\":[100.55756138662252,98.98885191205767,92.78798980340761,89.67016676910995,97.15517162486773,101.34078822480106,116.32168430197369,115.24721717948051,118.93346213940951,112.062360452235,105.06542550843673,106.64488329975491,92.24189086131386,92.83256487626076,82.04927823691358,79.82165240660954,101.03164360085785,100.00298970182483,103.2711682088058,108.2335567614458,107.54843451934704,102.3478086004884,102.30796738697788,97.6594513202934,91.4470078935366,95.83716542720589,78.75674165166052,79.54126464981412,97.9484900324627,99.82660627877654,106.72119650513784,108.57697185325816,106.17087648902901,105.45314077949045,98.18423879437341,96.22834685564203,90.13828456597672,92.27873842010376,84.21097719748678,81.73864717743658,103.73993730923914,100.06570981728909,111.8126648452778,120.09482352262569,117.93875551818181,122.43815649829787,119.12448829825328,107.06753392786885,104.47611540485583],\"yaxis\":\"y\",\"type\":\"scatter\"},{\"hovertemplate\":\"Tipo de Tienda=TDC/Proximidad Independiente<br>Fecha=%{x}<br>Monto Promedio=%{y}<extra></extra>\",\"legendgroup\":\"TDC/Proximidad Independiente\",\"line\":{\"color\":\"#636efa\",\"dash\":\"solid\"},\"marker\":{\"symbol\":\"circle\"},\"mode\":\"lines\",\"name\":\"TDC/Proximidad Independiente\",\"orientation\":\"v\",\"showlegend\":true,\"x\":[\"2019-11-01T00:00:00\",\"2019-12-01T00:00:00\",\"2020-01-01T00:00:00\",\"2020-02-01T00:00:00\",\"2020-03-01T00:00:00\",\"2020-04-01T00:00:00\",\"2020-05-01T00:00:00\",\"2020-06-01T00:00:00\",\"2020-07-01T00:00:00\",\"2020-08-01T00:00:00\",\"2020-09-01T00:00:00\",\"2020-10-01T00:00:00\",\"2020-11-01T00:00:00\",\"2020-12-01T00:00:00\",\"2021-01-01T00:00:00\",\"2021-02-01T00:00:00\",\"2021-03-01T00:00:00\",\"2021-04-01T00:00:00\",\"2021-05-01T00:00:00\",\"2021-06-01T00:00:00\",\"2021-07-01T00:00:00\",\"2021-08-01T00:00:00\",\"2021-09-01T00:00:00\",\"2021-10-01T00:00:00\",\"2021-11-01T00:00:00\",\"2021-12-01T00:00:00\",\"2022-01-01T00:00:00\",\"2022-02-01T00:00:00\",\"2022-03-01T00:00:00\",\"2022-04-01T00:00:00\",\"2022-05-01T00:00:00\",\"2022-06-01T00:00:00\",\"2022-07-01T00:00:00\",\"2022-08-01T00:00:00\",\"2022-09-01T00:00:00\",\"2022-10-01T00:00:00\",\"2022-11-01T00:00:00\",\"2022-12-01T00:00:00\",\"2023-01-01T00:00:00\",\"2023-02-01T00:00:00\",\"2023-03-01T00:00:00\",\"2023-04-01T00:00:00\",\"2023-05-01T00:00:00\",\"2023-06-01T00:00:00\",\"2023-07-01T00:00:00\",\"2023-08-01T00:00:00\",\"2023-09-01T00:00:00\",\"2023-10-01T00:00:00\",\"2023-11-01T00:00:00\"],\"xaxis\":\"x\",\"y\":[518.4226078098814,530.282788987451,421.88195482578124,413.9354881084291,456.3298745379845,481.1004179667969,582.5225715292969,558.0781905034885,612.3148678416343,563.2304647918288,538.5491910410854,534.0053573057693,468.13288992884617,488.60857397567565,369.9825681030888,383.7202454891473,487.8936720351352,511.192724929845,552.0799304300781,563.5706083192157,590.2656342403922,531.3022691280156,552.7612437356589,504.6618573848838,483.3749836011583,523.0067833385214,378.03630962539063,405.09622204921266,536.2322570137795,570.9856616476378,576.9754998529645,622.6098572325398,650.3841031816734,635.5792726200001,590.0201848196787,545.2355400550608,482.78254096546186,545.0487491293172,423.69837994578313,437.6651579304878,582.462953031174,557.6467038208164,614.2746672412245,697.7424808300411,729.52783131375,719.4284027182573,683.1488037256199,611.9971258163865,546.4077463991342],\"yaxis\":\"y\",\"type\":\"scatter\"},{\"hovertemplate\":\"Tipo de Tienda=Tiendas de Alimentos Especializados Org\\u00e1nicos<br>Fecha=%{x}<br>Monto Promedio=%{y}<extra></extra>\",\"legendgroup\":\"Tiendas de Alimentos Especializados Org\\u00e1nicos\",\"line\":{\"color\":\"#EF553B\",\"dash\":\"solid\"},\"marker\":{\"symbol\":\"circle\"},\"mode\":\"lines\",\"name\":\"Tiendas de Alimentos Especializados Org\\u00e1nicos\",\"orientation\":\"v\",\"showlegend\":true,\"x\":[\"2019-11-01T00:00:00\",\"2019-12-01T00:00:00\",\"2020-01-01T00:00:00\",\"2020-02-01T00:00:00\",\"2020-03-01T00:00:00\",\"2020-04-01T00:00:00\",\"2020-05-01T00:00:00\",\"2020-06-01T00:00:00\",\"2020-07-01T00:00:00\",\"2020-08-01T00:00:00\",\"2020-09-01T00:00:00\",\"2020-10-01T00:00:00\",\"2020-11-01T00:00:00\",\"2020-12-01T00:00:00\",\"2021-01-01T00:00:00\",\"2021-02-01T00:00:00\",\"2021-03-01T00:00:00\",\"2021-04-01T00:00:00\",\"2021-05-01T00:00:00\",\"2021-06-01T00:00:00\",\"2021-07-01T00:00:00\",\"2021-08-01T00:00:00\",\"2021-09-01T00:00:00\",\"2021-10-01T00:00:00\",\"2021-11-01T00:00:00\",\"2021-12-01T00:00:00\",\"2022-01-01T00:00:00\",\"2022-02-01T00:00:00\",\"2022-03-01T00:00:00\",\"2022-04-01T00:00:00\",\"2022-05-01T00:00:00\",\"2022-06-01T00:00:00\",\"2022-07-01T00:00:00\",\"2022-08-01T00:00:00\",\"2022-09-01T00:00:00\",\"2022-10-01T00:00:00\",\"2022-11-01T00:00:00\",\"2022-12-01T00:00:00\",\"2023-01-01T00:00:00\",\"2023-02-01T00:00:00\",\"2023-03-01T00:00:00\",\"2023-04-01T00:00:00\",\"2023-05-01T00:00:00\",\"2023-06-01T00:00:00\",\"2023-07-01T00:00:00\",\"2023-08-01T00:00:00\",\"2023-09-01T00:00:00\",\"2023-10-01T00:00:00\",\"2023-11-01T00:00:00\"],\"xaxis\":\"x\",\"y\":[184.2891233941994,179.24395099028365,162.56542691705096,160.67309382186554,179.21443717541086,198.34481135,230.8042575406884,227.22928761815982,227.7166440681544,218.85919720078078,205.6366403038118,211.6768623122328,190.84960284199647,179.83496340241177,156.36506257650177,153.47913963617148,193.4163530369591,197.0156398977233,203.91214168301227,207.29831460505523,204.23188370221706,194.33674926995306,200.22027097929825,195.05587518405886,180.70830171358824,188.41612678288075,152.71609132808587,154.38850500671464,189.04784549421242,191.4473483652461,207.8548043970606,212.1339319626354,207.12443472061116,200.20613016584784,189.10062814477973,184.0895517539204,167.6272473761702,176.78419377702704,157.52008349386733,153.39735606424938,196.5353326013531,190.804637674354,213.2912849189242,226.70496825536762,221.57072572625,227.41409045379496,222.37775691251684,197.46999465738836,195.88136300070522],\"yaxis\":\"y\",\"type\":\"scatter\"},{\"hovertemplate\":\"Tipo de Tienda=Tortiller\\u00eda<br>Fecha=%{x}<br>Monto Promedio=%{y}<extra></extra>\",\"legendgroup\":\"Tortiller\\u00eda\",\"line\":{\"color\":\"#00cc96\",\"dash\":\"solid\"},\"marker\":{\"symbol\":\"circle\"},\"mode\":\"lines\",\"name\":\"Tortiller\\u00eda\",\"orientation\":\"v\",\"showlegend\":true,\"x\":[\"2019-11-01T00:00:00\",\"2019-12-01T00:00:00\",\"2020-01-01T00:00:00\",\"2020-02-01T00:00:00\",\"2020-03-01T00:00:00\",\"2020-04-01T00:00:00\",\"2020-05-01T00:00:00\",\"2020-06-01T00:00:00\",\"2020-07-01T00:00:00\",\"2020-08-01T00:00:00\",\"2020-09-01T00:00:00\",\"2020-10-01T00:00:00\",\"2020-11-01T00:00:00\",\"2020-12-01T00:00:00\",\"2021-01-01T00:00:00\",\"2021-02-01T00:00:00\",\"2021-03-01T00:00:00\",\"2021-04-01T00:00:00\",\"2021-05-01T00:00:00\",\"2021-06-01T00:00:00\",\"2021-07-01T00:00:00\",\"2021-08-01T00:00:00\",\"2021-09-01T00:00:00\",\"2021-10-01T00:00:00\",\"2021-11-01T00:00:00\",\"2021-12-01T00:00:00\",\"2022-01-01T00:00:00\",\"2022-02-01T00:00:00\",\"2022-03-01T00:00:00\",\"2022-04-01T00:00:00\",\"2022-05-01T00:00:00\",\"2022-06-01T00:00:00\",\"2022-07-01T00:00:00\",\"2022-08-01T00:00:00\",\"2022-09-01T00:00:00\",\"2022-10-01T00:00:00\",\"2022-11-01T00:00:00\",\"2022-12-01T00:00:00\",\"2023-01-01T00:00:00\",\"2023-02-01T00:00:00\",\"2023-03-01T00:00:00\",\"2023-04-01T00:00:00\",\"2023-05-01T00:00:00\",\"2023-06-01T00:00:00\",\"2023-07-01T00:00:00\",\"2023-08-01T00:00:00\",\"2023-09-01T00:00:00\",\"2023-10-01T00:00:00\",\"2023-11-01T00:00:00\"],\"xaxis\":\"x\",\"y\":[168.83081515492688,157.07039838855155,148.858810180545,147.00684936654017,164.5115040350633,185.0056422226523,216.6895808364721,216.1379017658838,222.91449089827904,210.27193853447017,195.7332940892771,198.31576782508938,173.92376591428572,163.33122175754158,144.24541723784745,143.20341509970692,174.78444124809027,171.87668783994252,181.80780704576173,189.00998815939806,189.61166077515634,183.25979440924226,186.51583812285054,179.62703791133487,165.81385552709048,164.93249324493087,139.126655668841,141.516257186954,174.8515194379169,176.2423353985294,188.19561276213193,194.1354075104583,194.65009200643448,190.4302946917792,178.5682169837647,170.18089465741514,155.11582130788682,159.5489454923821,146.19254554579268,144.10528981780905,182.0655289325753,178.91295462616242,200.62034632540073,215.042589997879,216.09811079046136,221.96291059500936,211.92494281473552,194.00200327527088,183.52232786900586],\"yaxis\":\"y\",\"type\":\"scatter\"}],                        {\"template\":{\"data\":{\"histogram2dcontour\":[{\"type\":\"histogram2dcontour\",\"colorbar\":{\"outlinewidth\":0,\"ticks\":\"\"},\"colorscale\":[[0.0,\"#0d0887\"],[0.1111111111111111,\"#46039f\"],[0.2222222222222222,\"#7201a8\"],[0.3333333333333333,\"#9c179e\"],[0.4444444444444444,\"#bd3786\"],[0.5555555555555556,\"#d8576b\"],[0.6666666666666666,\"#ed7953\"],[0.7777777777777778,\"#fb9f3a\"],[0.8888888888888888,\"#fdca26\"],[1.0,\"#f0f921\"]]}],\"choropleth\":[{\"type\":\"choropleth\",\"colorbar\":{\"outlinewidth\":0,\"ticks\":\"\"}}],\"histogram2d\":[{\"type\":\"histogram2d\",\"colorbar\":{\"outlinewidth\":0,\"ticks\":\"\"},\"colorscale\":[[0.0,\"#0d0887\"],[0.1111111111111111,\"#46039f\"],[0.2222222222222222,\"#7201a8\"],[0.3333333333333333,\"#9c179e\"],[0.4444444444444444,\"#bd3786\"],[0.5555555555555556,\"#d8576b\"],[0.6666666666666666,\"#ed7953\"],[0.7777777777777778,\"#fb9f3a\"],[0.8888888888888888,\"#fdca26\"],[1.0,\"#f0f921\"]]}],\"heatmap\":[{\"type\":\"heatmap\",\"colorbar\":{\"outlinewidth\":0,\"ticks\":\"\"},\"colorscale\":[[0.0,\"#0d0887\"],[0.1111111111111111,\"#46039f\"],[0.2222222222222222,\"#7201a8\"],[0.3333333333333333,\"#9c179e\"],[0.4444444444444444,\"#bd3786\"],[0.5555555555555556,\"#d8576b\"],[0.6666666666666666,\"#ed7953\"],[0.7777777777777778,\"#fb9f3a\"],[0.8888888888888888,\"#fdca26\"],[1.0,\"#f0f921\"]]}],\"heatmapgl\":[{\"type\":\"heatmapgl\",\"colorbar\":{\"outlinewidth\":0,\"ticks\":\"\"},\"colorscale\":[[0.0,\"#0d0887\"],[0.1111111111111111,\"#46039f\"],[0.2222222222222222,\"#7201a8\"],[0.3333333333333333,\"#9c179e\"],[0.4444444444444444,\"#bd3786\"],[0.5555555555555556,\"#d8576b\"],[0.6666666666666666,\"#ed7953\"],[0.7777777777777778,\"#fb9f3a\"],[0.8888888888888888,\"#fdca26\"],[1.0,\"#f0f921\"]]}],\"contourcarpet\":[{\"type\":\"contourcarpet\",\"colorbar\":{\"outlinewidth\":0,\"ticks\":\"\"}}],\"contour\":[{\"type\":\"contour\",\"colorbar\":{\"outlinewidth\":0,\"ticks\":\"\"},\"colorscale\":[[0.0,\"#0d0887\"],[0.1111111111111111,\"#46039f\"],[0.2222222222222222,\"#7201a8\"],[0.3333333333333333,\"#9c179e\"],[0.4444444444444444,\"#bd3786\"],[0.5555555555555556,\"#d8576b\"],[0.6666666666666666,\"#ed7953\"],[0.7777777777777778,\"#fb9f3a\"],[0.8888888888888888,\"#fdca26\"],[1.0,\"#f0f921\"]]}],\"surface\":[{\"type\":\"surface\",\"colorbar\":{\"outlinewidth\":0,\"ticks\":\"\"},\"colorscale\":[[0.0,\"#0d0887\"],[0.1111111111111111,\"#46039f\"],[0.2222222222222222,\"#7201a8\"],[0.3333333333333333,\"#9c179e\"],[0.4444444444444444,\"#bd3786\"],[0.5555555555555556,\"#d8576b\"],[0.6666666666666666,\"#ed7953\"],[0.7777777777777778,\"#fb9f3a\"],[0.8888888888888888,\"#fdca26\"],[1.0,\"#f0f921\"]]}],\"mesh3d\":[{\"type\":\"mesh3d\",\"colorbar\":{\"outlinewidth\":0,\"ticks\":\"\"}}],\"scatter\":[{\"fillpattern\":{\"fillmode\":\"overlay\",\"size\":10,\"solidity\":0.2},\"type\":\"scatter\"}],\"parcoords\":[{\"type\":\"parcoords\",\"line\":{\"colorbar\":{\"outlinewidth\":0,\"ticks\":\"\"}}}],\"scatterpolargl\":[{\"type\":\"scatterpolargl\",\"marker\":{\"colorbar\":{\"outlinewidth\":0,\"ticks\":\"\"}}}],\"bar\":[{\"error_x\":{\"color\":\"#2a3f5f\"},\"error_y\":{\"color\":\"#2a3f5f\"},\"marker\":{\"line\":{\"color\":\"#E5ECF6\",\"width\":0.5},\"pattern\":{\"fillmode\":\"overlay\",\"size\":10,\"solidity\":0.2}},\"type\":\"bar\"}],\"scattergeo\":[{\"type\":\"scattergeo\",\"marker\":{\"colorbar\":{\"outlinewidth\":0,\"ticks\":\"\"}}}],\"scatterpolar\":[{\"type\":\"scatterpolar\",\"marker\":{\"colorbar\":{\"outlinewidth\":0,\"ticks\":\"\"}}}],\"histogram\":[{\"marker\":{\"pattern\":{\"fillmode\":\"overlay\",\"size\":10,\"solidity\":0.2}},\"type\":\"histogram\"}],\"scattergl\":[{\"type\":\"scattergl\",\"marker\":{\"colorbar\":{\"outlinewidth\":0,\"ticks\":\"\"}}}],\"scatter3d\":[{\"type\":\"scatter3d\",\"line\":{\"colorbar\":{\"outlinewidth\":0,\"ticks\":\"\"}},\"marker\":{\"colorbar\":{\"outlinewidth\":0,\"ticks\":\"\"}}}],\"scattermapbox\":[{\"type\":\"scattermapbox\",\"marker\":{\"colorbar\":{\"outlinewidth\":0,\"ticks\":\"\"}}}],\"scatterternary\":[{\"type\":\"scatterternary\",\"marker\":{\"colorbar\":{\"outlinewidth\":0,\"ticks\":\"\"}}}],\"scattercarpet\":[{\"type\":\"scattercarpet\",\"marker\":{\"colorbar\":{\"outlinewidth\":0,\"ticks\":\"\"}}}],\"carpet\":[{\"aaxis\":{\"endlinecolor\":\"#2a3f5f\",\"gridcolor\":\"white\",\"linecolor\":\"white\",\"minorgridcolor\":\"white\",\"startlinecolor\":\"#2a3f5f\"},\"baxis\":{\"endlinecolor\":\"#2a3f5f\",\"gridcolor\":\"white\",\"linecolor\":\"white\",\"minorgridcolor\":\"white\",\"startlinecolor\":\"#2a3f5f\"},\"type\":\"carpet\"}],\"table\":[{\"cells\":{\"fill\":{\"color\":\"#EBF0F8\"},\"line\":{\"color\":\"white\"}},\"header\":{\"fill\":{\"color\":\"#C8D4E3\"},\"line\":{\"color\":\"white\"}},\"type\":\"table\"}],\"barpolar\":[{\"marker\":{\"line\":{\"color\":\"#E5ECF6\",\"width\":0.5},\"pattern\":{\"fillmode\":\"overlay\",\"size\":10,\"solidity\":0.2}},\"type\":\"barpolar\"}],\"pie\":[{\"automargin\":true,\"type\":\"pie\"}]},\"layout\":{\"autotypenumbers\":\"strict\",\"colorway\":[\"#636efa\",\"#EF553B\",\"#00cc96\",\"#ab63fa\",\"#FFA15A\",\"#19d3f3\",\"#FF6692\",\"#B6E880\",\"#FF97FF\",\"#FECB52\"],\"font\":{\"color\":\"#2a3f5f\"},\"hovermode\":\"closest\",\"hoverlabel\":{\"align\":\"left\"},\"paper_bgcolor\":\"white\",\"plot_bgcolor\":\"#E5ECF6\",\"polar\":{\"bgcolor\":\"#E5ECF6\",\"angularaxis\":{\"gridcolor\":\"white\",\"linecolor\":\"white\",\"ticks\":\"\"},\"radialaxis\":{\"gridcolor\":\"white\",\"linecolor\":\"white\",\"ticks\":\"\"}},\"ternary\":{\"bgcolor\":\"#E5ECF6\",\"aaxis\":{\"gridcolor\":\"white\",\"linecolor\":\"white\",\"ticks\":\"\"},\"baxis\":{\"gridcolor\":\"white\",\"linecolor\":\"white\",\"ticks\":\"\"},\"caxis\":{\"gridcolor\":\"white\",\"linecolor\":\"white\",\"ticks\":\"\"}},\"coloraxis\":{\"colorbar\":{\"outlinewidth\":0,\"ticks\":\"\"}},\"colorscale\":{\"sequential\":[[0.0,\"#0d0887\"],[0.1111111111111111,\"#46039f\"],[0.2222222222222222,\"#7201a8\"],[0.3333333333333333,\"#9c179e\"],[0.4444444444444444,\"#bd3786\"],[0.5555555555555556,\"#d8576b\"],[0.6666666666666666,\"#ed7953\"],[0.7777777777777778,\"#fb9f3a\"],[0.8888888888888888,\"#fdca26\"],[1.0,\"#f0f921\"]],\"sequentialminus\":[[0.0,\"#0d0887\"],[0.1111111111111111,\"#46039f\"],[0.2222222222222222,\"#7201a8\"],[0.3333333333333333,\"#9c179e\"],[0.4444444444444444,\"#bd3786\"],[0.5555555555555556,\"#d8576b\"],[0.6666666666666666,\"#ed7953\"],[0.7777777777777778,\"#fb9f3a\"],[0.8888888888888888,\"#fdca26\"],[1.0,\"#f0f921\"]],\"diverging\":[[0,\"#8e0152\"],[0.1,\"#c51b7d\"],[0.2,\"#de77ae\"],[0.3,\"#f1b6da\"],[0.4,\"#fde0ef\"],[0.5,\"#f7f7f7\"],[0.6,\"#e6f5d0\"],[0.7,\"#b8e186\"],[0.8,\"#7fbc41\"],[0.9,\"#4d9221\"],[1,\"#276419\"]]},\"xaxis\":{\"gridcolor\":\"white\",\"linecolor\":\"white\",\"ticks\":\"\",\"title\":{\"standoff\":15},\"zerolinecolor\":\"white\",\"automargin\":true,\"zerolinewidth\":2},\"yaxis\":{\"gridcolor\":\"white\",\"linecolor\":\"white\",\"ticks\":\"\",\"title\":{\"standoff\":15},\"zerolinecolor\":\"white\",\"automargin\":true,\"zerolinewidth\":2},\"scene\":{\"xaxis\":{\"backgroundcolor\":\"#E5ECF6\",\"gridcolor\":\"white\",\"linecolor\":\"white\",\"showbackground\":true,\"ticks\":\"\",\"zerolinecolor\":\"white\",\"gridwidth\":2},\"yaxis\":{\"backgroundcolor\":\"#E5ECF6\",\"gridcolor\":\"white\",\"linecolor\":\"white\",\"showbackground\":true,\"ticks\":\"\",\"zerolinecolor\":\"white\",\"gridwidth\":2},\"zaxis\":{\"backgroundcolor\":\"#E5ECF6\",\"gridcolor\":\"white\",\"linecolor\":\"white\",\"showbackground\":true,\"ticks\":\"\",\"zerolinecolor\":\"white\",\"gridwidth\":2}},\"shapedefaults\":{\"line\":{\"color\":\"#2a3f5f\"}},\"annotationdefaults\":{\"arrowcolor\":\"#2a3f5f\",\"arrowhead\":0,\"arrowwidth\":1},\"geo\":{\"bgcolor\":\"white\",\"landcolor\":\"#E5ECF6\",\"subunitcolor\":\"white\",\"showland\":true,\"showlakes\":true,\"lakecolor\":\"white\"},\"title\":{\"x\":0.05},\"mapbox\":{\"style\":\"light\"}}},\"xaxis\":{\"anchor\":\"y\",\"domain\":[0.0,1.0],\"title\":{\"text\":\"Fecha\"}},\"yaxis\":{\"anchor\":\"x\",\"domain\":[0.0,1.0],\"title\":{\"text\":\"Monto Promedio\"}},\"legend\":{\"title\":{\"text\":\"Tipo de Tienda\"},\"tracegroupgap\":0},\"title\":{\"text\":\"Promedio de Montos por Fecha y Tipo de Tienda\"}},                        {\"responsive\": true}                    ).then(function(){\n",
       "                            \n",
       "var gd = document.getElementById('32345edc-d4f2-4e88-8d1c-00e6f1e10219');\n",
       "var x = new MutationObserver(function (mutations, observer) {{\n",
       "        var display = window.getComputedStyle(gd).display;\n",
       "        if (!display || display === 'none') {{\n",
       "            console.log([gd, 'removed!']);\n",
       "            Plotly.purge(gd);\n",
       "            observer.disconnect();\n",
       "        }}\n",
       "}});\n",
       "\n",
       "// Listen for the removal of the full notebook cells\n",
       "var notebookContainer = gd.closest('#notebook-container');\n",
       "if (notebookContainer) {{\n",
       "    x.observe(notebookContainer, {childList: true});\n",
       "}}\n",
       "\n",
       "// Listen for the clearing of the current output cell\n",
       "var outputEl = gd.closest('.output');\n",
       "if (outputEl) {{\n",
       "    x.observe(outputEl, {childList: true});\n",
       "}}\n",
       "\n",
       "                        })                };                });            </script>        </div>"
      ]
     },
     "metadata": {},
     "output_type": "display_data"
    }
   ],
   "source": [
    "# Crear la gráfica de línea con el promedio de amount por fecha y tipo de tienda\n",
    "fig = px.line(df_avg2, x='date', y='amount', color='type', title='Promedio de Montos por Fecha y Tipo de Tienda', labels={'date': 'Fecha', 'amount': 'Monto Promedio', 'type': 'Tipo de Tienda'})\n",
    "\n",
    "# Mostrar la gráfica\n",
    "fig.show()"
   ]
  },
  {
   "cell_type": "code",
   "execution_count": 85,
   "id": "1e64df11-3156-4ba0-8ff0-2cd1e875807e",
   "metadata": {
    "tags": []
   },
   "outputs": [],
   "source": [
    "min_dates = full_db.groupby('customer_id')['date'].min().reset_index()\n",
    "min_dates.rename(columns={'date': 'min_date'}, inplace=True)\n",
    "\n",
    "# Unir la fecha mínima de registro con el DataFrame original\n",
    "full_db = full_db.merge(min_dates, on='customer_id')\n",
    "\n",
    "# Calcular la antigüedad con respecto a la fecha mínima de registro\n",
    "full_db['antiguedad'] = (full_db['date'] - full_db['min_date']).dt.days // 30\n",
    "\n",
    "# Eliminar la columna 'min_date' si no es necesaria\n",
    "full_db.drop(columns=['min_date'], inplace=True)"
   ]
  },
  {
   "cell_type": "code",
   "execution_count": 86,
   "id": "881019d4-001b-44bc-a5fe-ce8b1e96f892",
   "metadata": {
    "tags": []
   },
   "outputs": [
    {
     "data": {
      "text/html": [
       "<div>\n",
       "<style scoped>\n",
       "    .dataframe tbody tr th:only-of-type {\n",
       "        vertical-align: middle;\n",
       "    }\n",
       "\n",
       "    .dataframe tbody tr th {\n",
       "        vertical-align: top;\n",
       "    }\n",
       "\n",
       "    .dataframe thead th {\n",
       "        text-align: right;\n",
       "    }\n",
       "</style>\n",
       "<table border=\"1\" class=\"dataframe\">\n",
       "  <thead>\n",
       "    <tr style=\"text-align: right;\">\n",
       "      <th></th>\n",
       "      <th>customer_id</th>\n",
       "      <th>month</th>\n",
       "      <th>amount</th>\n",
       "      <th>churn_next_month</th>\n",
       "      <th>date</th>\n",
       "      <th>year</th>\n",
       "      <th>type</th>\n",
       "      <th>antiguedad</th>\n",
       "      <th>componente_estacional</th>\n",
       "      <th>cluster</th>\n",
       "      <th>varianza</th>\n",
       "    </tr>\n",
       "  </thead>\n",
       "  <tbody>\n",
       "    <tr>\n",
       "      <th>0</th>\n",
       "      <td>100000</td>\n",
       "      <td>2</td>\n",
       "      <td>48.07</td>\n",
       "      <td>0.00</td>\n",
       "      <td>2021-02-01</td>\n",
       "      <td>2021</td>\n",
       "      <td>Estanquillos / kioscos</td>\n",
       "      <td>15</td>\n",
       "      <td>56.31</td>\n",
       "      <td>0</td>\n",
       "      <td>746.18</td>\n",
       "    </tr>\n",
       "    <tr>\n",
       "      <th>1</th>\n",
       "      <td>100000</td>\n",
       "      <td>6</td>\n",
       "      <td>40.30</td>\n",
       "      <td>0.00</td>\n",
       "      <td>2023-06-01</td>\n",
       "      <td>2023</td>\n",
       "      <td>Estanquillos / kioscos</td>\n",
       "      <td>43</td>\n",
       "      <td>72.83</td>\n",
       "      <td>0</td>\n",
       "      <td>746.18</td>\n",
       "    </tr>\n",
       "    <tr>\n",
       "      <th>2</th>\n",
       "      <td>100000</td>\n",
       "      <td>8</td>\n",
       "      <td>32.90</td>\n",
       "      <td>0.00</td>\n",
       "      <td>2023-08-01</td>\n",
       "      <td>2023</td>\n",
       "      <td>Estanquillos / kioscos</td>\n",
       "      <td>45</td>\n",
       "      <td>48.79</td>\n",
       "      <td>0</td>\n",
       "      <td>746.18</td>\n",
       "    </tr>\n",
       "    <tr>\n",
       "      <th>3</th>\n",
       "      <td>100000</td>\n",
       "      <td>7</td>\n",
       "      <td>50.72</td>\n",
       "      <td>0.00</td>\n",
       "      <td>2022-07-01</td>\n",
       "      <td>2022</td>\n",
       "      <td>Estanquillos / kioscos</td>\n",
       "      <td>32</td>\n",
       "      <td>55.39</td>\n",
       "      <td>0</td>\n",
       "      <td>746.18</td>\n",
       "    </tr>\n",
       "    <tr>\n",
       "      <th>4</th>\n",
       "      <td>100000</td>\n",
       "      <td>12</td>\n",
       "      <td>47.87</td>\n",
       "      <td>0.00</td>\n",
       "      <td>2022-12-01</td>\n",
       "      <td>2022</td>\n",
       "      <td>Estanquillos / kioscos</td>\n",
       "      <td>37</td>\n",
       "      <td>54.55</td>\n",
       "      <td>0</td>\n",
       "      <td>746.18</td>\n",
       "    </tr>\n",
       "  </tbody>\n",
       "</table>\n",
       "</div>"
      ],
      "text/plain": [
       "   customer_id  month  amount  churn_next_month       date  year  \\\n",
       "0       100000      2   48.07              0.00 2021-02-01  2021   \n",
       "1       100000      6   40.30              0.00 2023-06-01  2023   \n",
       "2       100000      8   32.90              0.00 2023-08-01  2023   \n",
       "3       100000      7   50.72              0.00 2022-07-01  2022   \n",
       "4       100000     12   47.87              0.00 2022-12-01  2022   \n",
       "\n",
       "                     type  antiguedad  componente_estacional  cluster  \\\n",
       "0  Estanquillos / kioscos          15                  56.31        0   \n",
       "1  Estanquillos / kioscos          43                  72.83        0   \n",
       "2  Estanquillos / kioscos          45                  48.79        0   \n",
       "3  Estanquillos / kioscos          32                  55.39        0   \n",
       "4  Estanquillos / kioscos          37                  54.55        0   \n",
       "\n",
       "   varianza  \n",
       "0    746.18  \n",
       "1    746.18  \n",
       "2    746.18  \n",
       "3    746.18  \n",
       "4    746.18  "
      ]
     },
     "execution_count": 86,
     "metadata": {},
     "output_type": "execute_result"
    }
   ],
   "source": [
    "\n",
    "# Agregar componente estacional del cliente\n",
    "full_db['componente_estacional'] = full_db.groupby(['customer_id', 'month'])['amount'].transform('mean')\n",
    "\n",
    "# Clustering por cantidad de compra (KMeans con knee method)\n",
    "X = full_db[['amount']].values\n",
    "sse = []\n",
    "for k in range(1, 11):\n",
    "    kmeans = KMeans(n_clusters=k, random_state=0).fit(X)\n",
    "    sse.append(kmeans.inertia_)\n",
    "knee = KneeLocator(range(1, 11), sse, curve='convex', direction='decreasing')\n",
    "optimal_k = knee.knee\n",
    "kmeans = KMeans(n_clusters=optimal_k, random_state=0).fit(X)\n",
    "full_db['cluster'] = kmeans.labels_\n",
    "\n",
    "# Agregar varianza del cliente\n",
    "full_db['varianza'] = full_db.groupby('customer_id')['amount'].transform('var')\n",
    "\n",
    "\n",
    "# Mostrar el DataFrame final\n",
    "full_db.head()"
   ]
  },
  {
   "cell_type": "code",
   "execution_count": 87,
   "id": "72ab0a79-86bb-4e34-886e-ff560483e520",
   "metadata": {
    "tags": []
   },
   "outputs": [],
   "source": [
    "# Porcentaje contra promedio en temporada por tipo de tienda\n",
    "full_db['promedio_temporada'] = full_db.groupby(['type', 'month'])['amount'].transform('mean')\n",
    "full_db['porcentaje_vs_promedio'] = (full_db['amount'] / full_db['promedio_temporada'])\n"
   ]
  },
  {
   "cell_type": "code",
   "execution_count": 88,
   "id": "634c448f-00cf-4c00-97c2-804a87720d4c",
   "metadata": {
    "tags": []
   },
   "outputs": [],
   "source": [
    "# Asegurarse de que los datos estén ordenados por 'customer_id' y 'date'\n",
    "full_db = full_db.sort_values(by=['customer_id', 'date'])\n",
    "\n",
    "# Inicializar la columna de tiempo desde la última compra\n",
    "full_db['tiempo_desde_ultima_compra'] = 0\n",
    "\n",
    "# Función para calcular el tiempo desde la última compra\n",
    "def calcular_tiempo_desde_ultima_compra(amounts):\n",
    "    tiempo_desde_ultima_compra = []\n",
    "    contador = 0\n",
    "    for amount in amounts:\n",
    "        if amount > 0:\n",
    "            contador = 0\n",
    "        else:\n",
    "            contador += 1\n",
    "        tiempo_desde_ultima_compra.append(contador)\n",
    "    return tiempo_desde_ultima_compra\n",
    "\n",
    "# Aplicar la función para cada cliente\n",
    "full_db['tiempo_desde_ultima_compra'] = full_db.groupby('customer_id')['amount'].transform(calcular_tiempo_desde_ultima_compra)"
   ]
  },
  {
   "cell_type": "code",
   "execution_count": 89,
   "id": "74f2c9f2-dadf-4663-873b-8a9270d3d071",
   "metadata": {},
   "outputs": [],
   "source": [
    "def calculate_percentage_change(df):\n",
    "    # Asegura que el DataFrame esté ordenado por cliente y mes\n",
    "    df = df.sort_values(by=['customer_id', 'year', 'month'])\n",
    "    \n",
    "    # Calcula el cambio porcentual en la columna 'amount'\n",
    "    df['percentage_change'] = df.groupby('customer_id')['amount'].pct_change() * 100\n",
    "    \n",
    "    # Rellena los valores NaN con 0 para los primeros registros de cada cliente donde no hay un mes anterior para comparar\n",
    "    df['percentage_change'] = df['percentage_change'].fillna(0)\n",
    "    \n",
    "    return df\n",
    "\n",
    "full_db = calculate_percentage_change(full_db)"
   ]
  },
  {
   "cell_type": "code",
   "execution_count": 90,
   "id": "fa89fc3a-77ab-422c-9956-3f112dfe067e",
   "metadata": {},
   "outputs": [
    {
     "data": {
      "text/plain": [
       "array([0, 3, 1, 2])"
      ]
     },
     "execution_count": 90,
     "metadata": {},
     "output_type": "execute_result"
    }
   ],
   "source": [
    "full_db[\"cluster\"].unique()"
   ]
  },
  {
   "cell_type": "code",
   "execution_count": 91,
   "id": "110646e6-f879-48db-99c5-52b4e229abe7",
   "metadata": {
    "tags": []
   },
   "outputs": [
    {
     "data": {
      "text/html": [
       "<div>\n",
       "<style scoped>\n",
       "    .dataframe tbody tr th:only-of-type {\n",
       "        vertical-align: middle;\n",
       "    }\n",
       "\n",
       "    .dataframe tbody tr th {\n",
       "        vertical-align: top;\n",
       "    }\n",
       "\n",
       "    .dataframe thead th {\n",
       "        text-align: right;\n",
       "    }\n",
       "</style>\n",
       "<table border=\"1\" class=\"dataframe\">\n",
       "  <thead>\n",
       "    <tr style=\"text-align: right;\">\n",
       "      <th></th>\n",
       "      <th>customer_id</th>\n",
       "      <th>month</th>\n",
       "      <th>amount</th>\n",
       "      <th>churn_next_month</th>\n",
       "      <th>date</th>\n",
       "      <th>year</th>\n",
       "      <th>type</th>\n",
       "      <th>antiguedad</th>\n",
       "      <th>componente_estacional</th>\n",
       "      <th>cluster</th>\n",
       "      <th>varianza</th>\n",
       "      <th>promedio_temporada</th>\n",
       "      <th>porcentaje_vs_promedio</th>\n",
       "      <th>tiempo_desde_ultima_compra</th>\n",
       "      <th>percentage_change</th>\n",
       "    </tr>\n",
       "  </thead>\n",
       "  <tbody>\n",
       "    <tr>\n",
       "      <th>433</th>\n",
       "      <td>100020</td>\n",
       "      <td>11</td>\n",
       "      <td>17.70</td>\n",
       "      <td>0.00</td>\n",
       "      <td>2019-11-01</td>\n",
       "      <td>2019</td>\n",
       "      <td>Hogar con Venta</td>\n",
       "      <td>0</td>\n",
       "      <td>10.67</td>\n",
       "      <td>0</td>\n",
       "      <td>85.55</td>\n",
       "      <td>81.59</td>\n",
       "      <td>0.22</td>\n",
       "      <td>0</td>\n",
       "      <td>0.00</td>\n",
       "    </tr>\n",
       "    <tr>\n",
       "      <th>409</th>\n",
       "      <td>100020</td>\n",
       "      <td>12</td>\n",
       "      <td>8.81</td>\n",
       "      <td>0.00</td>\n",
       "      <td>2019-12-01</td>\n",
       "      <td>2019</td>\n",
       "      <td>Hogar con Venta</td>\n",
       "      <td>1</td>\n",
       "      <td>6.38</td>\n",
       "      <td>0</td>\n",
       "      <td>85.55</td>\n",
       "      <td>78.39</td>\n",
       "      <td>0.11</td>\n",
       "      <td>0</td>\n",
       "      <td>-50.25</td>\n",
       "    </tr>\n",
       "    <tr>\n",
       "      <th>419</th>\n",
       "      <td>100020</td>\n",
       "      <td>1</td>\n",
       "      <td>11.27</td>\n",
       "      <td>0.00</td>\n",
       "      <td>2020-01-01</td>\n",
       "      <td>2020</td>\n",
       "      <td>Hogar con Venta</td>\n",
       "      <td>2</td>\n",
       "      <td>6.45</td>\n",
       "      <td>0</td>\n",
       "      <td>85.55</td>\n",
       "      <td>70.80</td>\n",
       "      <td>0.16</td>\n",
       "      <td>0</td>\n",
       "      <td>28.00</td>\n",
       "    </tr>\n",
       "    <tr>\n",
       "      <th>426</th>\n",
       "      <td>100020</td>\n",
       "      <td>2</td>\n",
       "      <td>7.04</td>\n",
       "      <td>0.00</td>\n",
       "      <td>2020-02-01</td>\n",
       "      <td>2020</td>\n",
       "      <td>Hogar con Venta</td>\n",
       "      <td>3</td>\n",
       "      <td>5.55</td>\n",
       "      <td>0</td>\n",
       "      <td>85.55</td>\n",
       "      <td>70.09</td>\n",
       "      <td>0.10</td>\n",
       "      <td>0</td>\n",
       "      <td>-37.50</td>\n",
       "    </tr>\n",
       "    <tr>\n",
       "      <th>405</th>\n",
       "      <td>100020</td>\n",
       "      <td>3</td>\n",
       "      <td>5.64</td>\n",
       "      <td>0.00</td>\n",
       "      <td>2020-03-01</td>\n",
       "      <td>2020</td>\n",
       "      <td>Hogar con Venta</td>\n",
       "      <td>4</td>\n",
       "      <td>13.05</td>\n",
       "      <td>0</td>\n",
       "      <td>85.55</td>\n",
       "      <td>86.38</td>\n",
       "      <td>0.07</td>\n",
       "      <td>0</td>\n",
       "      <td>-20.00</td>\n",
       "    </tr>\n",
       "  </tbody>\n",
       "</table>\n",
       "</div>"
      ],
      "text/plain": [
       "     customer_id  month  amount  churn_next_month       date  year  \\\n",
       "433       100020     11   17.70              0.00 2019-11-01  2019   \n",
       "409       100020     12    8.81              0.00 2019-12-01  2019   \n",
       "419       100020      1   11.27              0.00 2020-01-01  2020   \n",
       "426       100020      2    7.04              0.00 2020-02-01  2020   \n",
       "405       100020      3    5.64              0.00 2020-03-01  2020   \n",
       "\n",
       "                type  antiguedad  componente_estacional  cluster  varianza  \\\n",
       "433  Hogar con Venta           0                  10.67        0     85.55   \n",
       "409  Hogar con Venta           1                   6.38        0     85.55   \n",
       "419  Hogar con Venta           2                   6.45        0     85.55   \n",
       "426  Hogar con Venta           3                   5.55        0     85.55   \n",
       "405  Hogar con Venta           4                  13.05        0     85.55   \n",
       "\n",
       "     promedio_temporada  porcentaje_vs_promedio  tiempo_desde_ultima_compra  \\\n",
       "433               81.59                    0.22                           0   \n",
       "409               78.39                    0.11                           0   \n",
       "419               70.80                    0.16                           0   \n",
       "426               70.09                    0.10                           0   \n",
       "405               86.38                    0.07                           0   \n",
       "\n",
       "     percentage_change  \n",
       "433               0.00  \n",
       "409             -50.25  \n",
       "419              28.00  \n",
       "426             -37.50  \n",
       "405             -20.00  "
      ]
     },
     "execution_count": 91,
     "metadata": {},
     "output_type": "execute_result"
    }
   ],
   "source": [
    "filtered_db = full_db[full_db['customer_id'] == 100020]\n",
    "\n",
    "# Ordenar el DataFrame filtrado por la columna 'date' en orden ascendente\n",
    "sorted_filtered_db = filtered_db.sort_values(by='date')\n",
    "\n",
    "sorted_filtered_db.head()"
   ]
  },
  {
   "cell_type": "code",
   "execution_count": 92,
   "id": "858925bb-c3b0-4d99-b659-deaf1f0dc7de",
   "metadata": {
    "tags": []
   },
   "outputs": [
    {
     "data": {
      "text/html": [
       "<div>\n",
       "<style scoped>\n",
       "    .dataframe tbody tr th:only-of-type {\n",
       "        vertical-align: middle;\n",
       "    }\n",
       "\n",
       "    .dataframe tbody tr th {\n",
       "        vertical-align: top;\n",
       "    }\n",
       "\n",
       "    .dataframe thead th {\n",
       "        text-align: right;\n",
       "    }\n",
       "</style>\n",
       "<table border=\"1\" class=\"dataframe\">\n",
       "  <thead>\n",
       "    <tr style=\"text-align: right;\">\n",
       "      <th></th>\n",
       "      <th>customer_id</th>\n",
       "      <th>month</th>\n",
       "      <th>amount</th>\n",
       "      <th>churn_next_month</th>\n",
       "      <th>date</th>\n",
       "      <th>year</th>\n",
       "      <th>type</th>\n",
       "      <th>antiguedad</th>\n",
       "      <th>componente_estacional</th>\n",
       "      <th>cluster</th>\n",
       "      <th>varianza</th>\n",
       "      <th>promedio_temporada</th>\n",
       "      <th>porcentaje_vs_promedio</th>\n",
       "      <th>tiempo_desde_ultima_compra</th>\n",
       "      <th>percentage_change</th>\n",
       "    </tr>\n",
       "  </thead>\n",
       "  <tbody>\n",
       "    <tr>\n",
       "      <th>5085239</th>\n",
       "      <td>383249</td>\n",
       "      <td>11</td>\n",
       "      <td>224.30</td>\n",
       "      <td>0.00</td>\n",
       "      <td>2019-11-01</td>\n",
       "      <td>2019</td>\n",
       "      <td>Hogar con Venta</td>\n",
       "      <td>0</td>\n",
       "      <td>167.90</td>\n",
       "      <td>0</td>\n",
       "      <td>4470.98</td>\n",
       "      <td>81.59</td>\n",
       "      <td>2.75</td>\n",
       "      <td>0</td>\n",
       "      <td>0.00</td>\n",
       "    </tr>\n",
       "    <tr>\n",
       "      <th>5085215</th>\n",
       "      <td>383249</td>\n",
       "      <td>12</td>\n",
       "      <td>251.13</td>\n",
       "      <td>0.00</td>\n",
       "      <td>2019-12-01</td>\n",
       "      <td>2019</td>\n",
       "      <td>Hogar con Venta</td>\n",
       "      <td>1</td>\n",
       "      <td>191.48</td>\n",
       "      <td>0</td>\n",
       "      <td>4470.98</td>\n",
       "      <td>78.39</td>\n",
       "      <td>3.20</td>\n",
       "      <td>0</td>\n",
       "      <td>11.96</td>\n",
       "    </tr>\n",
       "    <tr>\n",
       "      <th>5085225</th>\n",
       "      <td>383249</td>\n",
       "      <td>1</td>\n",
       "      <td>264.49</td>\n",
       "      <td>0.00</td>\n",
       "      <td>2020-01-01</td>\n",
       "      <td>2020</td>\n",
       "      <td>Hogar con Venta</td>\n",
       "      <td>2</td>\n",
       "      <td>161.98</td>\n",
       "      <td>3</td>\n",
       "      <td>4470.98</td>\n",
       "      <td>70.80</td>\n",
       "      <td>3.74</td>\n",
       "      <td>0</td>\n",
       "      <td>5.32</td>\n",
       "    </tr>\n",
       "    <tr>\n",
       "      <th>5085232</th>\n",
       "      <td>383249</td>\n",
       "      <td>2</td>\n",
       "      <td>229.02</td>\n",
       "      <td>0.00</td>\n",
       "      <td>2020-02-01</td>\n",
       "      <td>2020</td>\n",
       "      <td>Hogar con Venta</td>\n",
       "      <td>3</td>\n",
       "      <td>167.68</td>\n",
       "      <td>0</td>\n",
       "      <td>4470.98</td>\n",
       "      <td>70.09</td>\n",
       "      <td>3.27</td>\n",
       "      <td>0</td>\n",
       "      <td>-13.41</td>\n",
       "    </tr>\n",
       "    <tr>\n",
       "      <th>5085211</th>\n",
       "      <td>383249</td>\n",
       "      <td>3</td>\n",
       "      <td>248.79</td>\n",
       "      <td>0.00</td>\n",
       "      <td>2020-03-01</td>\n",
       "      <td>2020</td>\n",
       "      <td>Hogar con Venta</td>\n",
       "      <td>4</td>\n",
       "      <td>198.66</td>\n",
       "      <td>0</td>\n",
       "      <td>4470.98</td>\n",
       "      <td>86.38</td>\n",
       "      <td>2.88</td>\n",
       "      <td>0</td>\n",
       "      <td>8.63</td>\n",
       "    </tr>\n",
       "  </tbody>\n",
       "</table>\n",
       "</div>"
      ],
      "text/plain": [
       "         customer_id  month  amount  churn_next_month       date  year  \\\n",
       "5085239       383249     11  224.30              0.00 2019-11-01  2019   \n",
       "5085215       383249     12  251.13              0.00 2019-12-01  2019   \n",
       "5085225       383249      1  264.49              0.00 2020-01-01  2020   \n",
       "5085232       383249      2  229.02              0.00 2020-02-01  2020   \n",
       "5085211       383249      3  248.79              0.00 2020-03-01  2020   \n",
       "\n",
       "                    type  antiguedad  componente_estacional  cluster  \\\n",
       "5085239  Hogar con Venta           0                 167.90        0   \n",
       "5085215  Hogar con Venta           1                 191.48        0   \n",
       "5085225  Hogar con Venta           2                 161.98        3   \n",
       "5085232  Hogar con Venta           3                 167.68        0   \n",
       "5085211  Hogar con Venta           4                 198.66        0   \n",
       "\n",
       "         varianza  promedio_temporada  porcentaje_vs_promedio  \\\n",
       "5085239   4470.98               81.59                    2.75   \n",
       "5085215   4470.98               78.39                    3.20   \n",
       "5085225   4470.98               70.80                    3.74   \n",
       "5085232   4470.98               70.09                    3.27   \n",
       "5085211   4470.98               86.38                    2.88   \n",
       "\n",
       "         tiempo_desde_ultima_compra  percentage_change  \n",
       "5085239                           0               0.00  \n",
       "5085215                           0              11.96  \n",
       "5085225                           0               5.32  \n",
       "5085232                           0             -13.41  \n",
       "5085211                           0               8.63  "
      ]
     },
     "execution_count": 92,
     "metadata": {},
     "output_type": "execute_result"
    }
   ],
   "source": [
    "filtered_db = full_db[full_db['customer_id'] == 383249]\n",
    "\n",
    "# Ordenar el DataFrame filtrado por la columna 'date' en orden ascendente\n",
    "sorted_filtered_db = filtered_db.sort_values(by='date')\n",
    "\n",
    "sorted_filtered_db.head()"
   ]
  },
  {
   "cell_type": "code",
   "execution_count": 93,
   "id": "f175d317-01a2-400f-952f-e0bcb272cb59",
   "metadata": {
    "tags": []
   },
   "outputs": [
    {
     "data": {
      "text/html": [
       "<div>\n",
       "<style scoped>\n",
       "    .dataframe tbody tr th:only-of-type {\n",
       "        vertical-align: middle;\n",
       "    }\n",
       "\n",
       "    .dataframe tbody tr th {\n",
       "        vertical-align: top;\n",
       "    }\n",
       "\n",
       "    .dataframe thead th {\n",
       "        text-align: right;\n",
       "    }\n",
       "</style>\n",
       "<table border=\"1\" class=\"dataframe\">\n",
       "  <thead>\n",
       "    <tr style=\"text-align: right;\">\n",
       "      <th></th>\n",
       "      <th>customer_id</th>\n",
       "      <th>month</th>\n",
       "      <th>amount</th>\n",
       "      <th>churn_next_month</th>\n",
       "      <th>date</th>\n",
       "      <th>year</th>\n",
       "      <th>type</th>\n",
       "      <th>antiguedad</th>\n",
       "      <th>componente_estacional</th>\n",
       "      <th>cluster</th>\n",
       "      <th>varianza</th>\n",
       "      <th>promedio_temporada</th>\n",
       "      <th>porcentaje_vs_promedio</th>\n",
       "      <th>tiempo_desde_ultima_compra</th>\n",
       "      <th>percentage_change</th>\n",
       "    </tr>\n",
       "  </thead>\n",
       "  <tbody>\n",
       "    <tr>\n",
       "      <th>435</th>\n",
       "      <td>100020</td>\n",
       "      <td>4</td>\n",
       "      <td>0.00</td>\n",
       "      <td>0.00</td>\n",
       "      <td>2020-04-01</td>\n",
       "      <td>2020</td>\n",
       "      <td>Hogar con Venta</td>\n",
       "      <td>5</td>\n",
       "      <td>6.02</td>\n",
       "      <td>0</td>\n",
       "      <td>85.55</td>\n",
       "      <td>90.03</td>\n",
       "      <td>0.00</td>\n",
       "      <td>1</td>\n",
       "      <td>-100.00</td>\n",
       "    </tr>\n",
       "    <tr>\n",
       "      <th>427</th>\n",
       "      <td>100020</td>\n",
       "      <td>5</td>\n",
       "      <td>0.00</td>\n",
       "      <td>0.00</td>\n",
       "      <td>2020-05-01</td>\n",
       "      <td>2020</td>\n",
       "      <td>Hogar con Venta</td>\n",
       "      <td>6</td>\n",
       "      <td>18.92</td>\n",
       "      <td>0</td>\n",
       "      <td>85.55</td>\n",
       "      <td>99.55</td>\n",
       "      <td>0.00</td>\n",
       "      <td>2</td>\n",
       "      <td>0.00</td>\n",
       "    </tr>\n",
       "    <tr>\n",
       "      <th>429</th>\n",
       "      <td>100020</td>\n",
       "      <td>6</td>\n",
       "      <td>0.00</td>\n",
       "      <td>0.00</td>\n",
       "      <td>2020-06-01</td>\n",
       "      <td>2020</td>\n",
       "      <td>Hogar con Venta</td>\n",
       "      <td>7</td>\n",
       "      <td>10.76</td>\n",
       "      <td>0</td>\n",
       "      <td>85.55</td>\n",
       "      <td>102.78</td>\n",
       "      <td>0.00</td>\n",
       "      <td>3</td>\n",
       "      <td>0.00</td>\n",
       "    </tr>\n",
       "    <tr>\n",
       "      <th>400</th>\n",
       "      <td>100020</td>\n",
       "      <td>9</td>\n",
       "      <td>0.00</td>\n",
       "      <td>0.00</td>\n",
       "      <td>2020-09-01</td>\n",
       "      <td>2020</td>\n",
       "      <td>Hogar con Venta</td>\n",
       "      <td>10</td>\n",
       "      <td>9.25</td>\n",
       "      <td>0</td>\n",
       "      <td>85.55</td>\n",
       "      <td>95.62</td>\n",
       "      <td>0.00</td>\n",
       "      <td>1</td>\n",
       "      <td>-100.00</td>\n",
       "    </tr>\n",
       "    <tr>\n",
       "      <th>396</th>\n",
       "      <td>100020</td>\n",
       "      <td>10</td>\n",
       "      <td>0.00</td>\n",
       "      <td>0.00</td>\n",
       "      <td>2020-10-01</td>\n",
       "      <td>2020</td>\n",
       "      <td>Hogar con Venta</td>\n",
       "      <td>11</td>\n",
       "      <td>17.04</td>\n",
       "      <td>0</td>\n",
       "      <td>85.55</td>\n",
       "      <td>90.65</td>\n",
       "      <td>0.00</td>\n",
       "      <td>2</td>\n",
       "      <td>0.00</td>\n",
       "    </tr>\n",
       "  </tbody>\n",
       "</table>\n",
       "</div>"
      ],
      "text/plain": [
       "     customer_id  month  amount  churn_next_month       date  year  \\\n",
       "435       100020      4    0.00              0.00 2020-04-01  2020   \n",
       "427       100020      5    0.00              0.00 2020-05-01  2020   \n",
       "429       100020      6    0.00              0.00 2020-06-01  2020   \n",
       "400       100020      9    0.00              0.00 2020-09-01  2020   \n",
       "396       100020     10    0.00              0.00 2020-10-01  2020   \n",
       "\n",
       "                type  antiguedad  componente_estacional  cluster  varianza  \\\n",
       "435  Hogar con Venta           5                   6.02        0     85.55   \n",
       "427  Hogar con Venta           6                  18.92        0     85.55   \n",
       "429  Hogar con Venta           7                  10.76        0     85.55   \n",
       "400  Hogar con Venta          10                   9.25        0     85.55   \n",
       "396  Hogar con Venta          11                  17.04        0     85.55   \n",
       "\n",
       "     promedio_temporada  porcentaje_vs_promedio  tiempo_desde_ultima_compra  \\\n",
       "435               90.03                    0.00                           1   \n",
       "427               99.55                    0.00                           2   \n",
       "429              102.78                    0.00                           3   \n",
       "400               95.62                    0.00                           1   \n",
       "396               90.65                    0.00                           2   \n",
       "\n",
       "     percentage_change  \n",
       "435            -100.00  \n",
       "427               0.00  \n",
       "429               0.00  \n",
       "400            -100.00  \n",
       "396               0.00  "
      ]
     },
     "execution_count": 93,
     "metadata": {},
     "output_type": "execute_result"
    }
   ],
   "source": [
    "\n",
    "full_db[full_db[\"amount\"] == 0].head()"
   ]
  },
  {
   "cell_type": "code",
   "execution_count": 125,
   "id": "0f41510d-c319-4a91-a7ba-a6e6ce9b3722",
   "metadata": {},
   "outputs": [],
   "source": [
    "full_db.to_parquet('full_db_clean.parquet')"
   ]
  },
  {
   "cell_type": "code",
   "execution_count": null,
   "id": "de44be89-350f-4e2d-9d82-16c7b69c4e71",
   "metadata": {},
   "outputs": [],
   "source": []
  }
 ],
 "metadata": {
  "kernelspec": {
   "display_name": "Python 3 (ipykernel)",
   "language": "python",
   "name": "python3"
  },
  "language_info": {
   "codemirror_mode": {
    "name": "ipython",
    "version": 3
   },
   "file_extension": ".py",
   "mimetype": "text/x-python",
   "name": "python",
   "nbconvert_exporter": "python",
   "pygments_lexer": "ipython3",
   "version": "3.11.7"
  }
 },
 "nbformat": 4,
 "nbformat_minor": 5
}
